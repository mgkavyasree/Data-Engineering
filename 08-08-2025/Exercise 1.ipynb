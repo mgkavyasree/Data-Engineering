{
 "cells": [
  {
   "cell_type": "markdown",
   "metadata": {
    "application/vnd.databricks.v1+cell": {
     "cellMetadata": {},
     "inputWidgets": {},
     "nuid": "d3814aef-b6e1-45be-b261-e93b90b39cbc",
     "showTitle": false,
     "tableResultSettingsMap": {},
     "title": ""
    }
   },
   "source": [
    "# Sales Transactions Exercise"
   ]
  },
  {
   "cell_type": "code",
   "execution_count": 0,
   "metadata": {
    "application/vnd.databricks.v1+cell": {
     "cellMetadata": {
      "byteLimit": 2048000,
      "rowLimit": 10000
     },
     "inputWidgets": {},
     "nuid": "ff43ded5-70c5-4436-abd2-aee78789aab7",
     "showTitle": false,
     "tableResultSettingsMap": {},
     "title": ""
    }
   },
   "outputs": [
    {
     "output_type": "stream",
     "name": "stdout",
     "output_type": "stream",
     "text": [
      "Wrote 603 bytes.\n"
     ]
    },
    {
     "output_type": "execute_result",
     "data": {
      "text/plain": [
       "True"
      ]
     },
     "execution_count": 17,
     "metadata": {},
     "output_type": "execute_result"
    }
   ],
   "source": [
    "# Save inline CSV to Databricks FileStore\n",
    "csv_data = \"\"\"transaction_id,customer_name,region,product,category,quantity,unit_price,date\n",
    "1,Rajesh,North,Laptop,Electronics,1,55000,2024-01-12\n",
    "2,Sneha,West,Refrigerator,Electronics,1,32000,2024-02-05\n",
    "3,Anil,South,Shampoo,Personal Care,5,150,2024-01-17\n",
    "4,Divya,North,Mobile,Electronics,2,20000,2024-03-22\n",
    "5,Vikram,East,Washing Machine,Electronics,1,28000,2024-02-28\n",
    "6,Preeti,West,Sneakers,Fashion,2,4000,2024-01-31\n",
    "7,Aman,South,TV,Electronics,1,45000,2024-02-15\n",
    "8,Isha,North,Notebook,Stationery,10,60,2024-01-10\n",
    "9,Kunal,East,Pencil,Stationery,20,10,2024-03-05\n",
    "10,Tanvi,West,Face Cream,Personal Care,3,200,2024-03-19\n",
    "\"\"\"\n",
    "\n",
    "dbutils.fs.put(\"dbfs:/FileStore/tables/sales_transactions.csv\", csv_data, overwrite=True)\n"
   ]
  },
  {
   "cell_type": "markdown",
   "metadata": {
    "application/vnd.databricks.v1+cell": {
     "cellMetadata": {},
     "inputWidgets": {},
     "nuid": "b82e6454-180a-4513-825e-94085dfe2cfa",
     "showTitle": false,
     "tableResultSettingsMap": {},
     "title": ""
    }
   },
   "source": [
    "# Task 1: Ingest and Save\n",
    "    1. Load the CSV into a PySpark DataFrame.\n",
    "    2. Save it in Parquet and Delta formats (in different folders).\n",
    "    3. Create and register Delta Table called sales_transactions ."
   ]
  },
  {
   "cell_type": "code",
   "execution_count": 0,
   "metadata": {
    "application/vnd.databricks.v1+cell": {
     "cellMetadata": {
      "byteLimit": 2048000,
      "rowLimit": 10000
     },
     "inputWidgets": {},
     "nuid": "6d0069c1-58b3-4c58-a885-f7bd3204e7de",
     "showTitle": false,
     "tableResultSettingsMap": {},
     "title": ""
    }
   },
   "outputs": [
    {
     "output_type": "stream",
     "name": "stdout",
     "output_type": "stream",
     "text": [
      "+--------------+-------------+------+---------------+-------------+--------+----------+----------+\n|transaction_id|customer_name|region|        product|     category|quantity|unit_price|      date|\n+--------------+-------------+------+---------------+-------------+--------+----------+----------+\n|             1|       Rajesh| North|         Laptop|  Electronics|       1|     55000|2024-01-12|\n|             2|        Sneha|  West|   Refrigerator|  Electronics|       1|     32000|2024-02-05|\n|             3|         Anil| South|        Shampoo|Personal Care|       5|       150|2024-01-17|\n|             4|        Divya| North|         Mobile|  Electronics|       2|     20000|2024-03-22|\n|             5|       Vikram|  East|Washing Machine|  Electronics|       1|     28000|2024-02-28|\n|             6|       Preeti|  West|       Sneakers|      Fashion|       2|      4000|2024-01-31|\n|             7|         Aman| South|             TV|  Electronics|       1|     45000|2024-02-15|\n|             8|         Isha| North|       Notebook|   Stationery|      10|        60|2024-01-10|\n|             9|        Kunal|  East|         Pencil|   Stationery|      20|        10|2024-03-05|\n|            10|        Tanvi|  West|     Face Cream|Personal Care|       3|       200|2024-03-19|\n+--------------+-------------+------+---------------+-------------+--------+----------+----------+\n\n"
     ]
    },
    {
     "output_type": "execute_result",
     "data": {
      "text/plain": [
       "DataFrame[]"
      ]
     },
     "execution_count": 19,
     "metadata": {},
     "output_type": "execute_result"
    }
   ],
   "source": [
    "# 1. Load CSV into DataFrame\n",
    "df = spark.read.option(\"header\", True).option(\"inferSchema\", True) \\\n",
    ".csv(\"/FileStore/tables/sales_transactions.csv\")\n",
    "df.show()\n",
    "\n",
    "# 2. Save in Parquet format\n",
    "df.write.mode(\"overwrite\").parquet(\"/FileStore/tables/sales_transactions_parquet\")\n",
    "\n",
    "# 2. Save in Delta format\n",
    "delta_path = \"/FileStore/tables/sales_transactions_delta\"\n",
    "df.write.format(\"delta\").mode(\"overwrite\").save(delta_path)\n",
    "\n",
    "# 3.Create and register Delta Table called sales_transactions .\n",
    "spark.sql(\"USE CATALOG hive_metastore\")\n",
    "spark.sql(\"DROP TABLE IF EXISTS sales_transactions\")\n",
    "spark.sql(f\"\"\"CREATE TABLE sales_transactions USING DELTA LOCATION 'dbfs:{delta_path}'\"\"\")"
   ]
  },
  {
   "cell_type": "markdown",
   "metadata": {
    "application/vnd.databricks.v1+cell": {
     "cellMetadata": {},
     "inputWidgets": {},
     "nuid": "b4564bee-9346-46a0-9a0a-c64818b20314",
     "showTitle": false,
     "tableResultSettingsMap": {},
     "title": ""
    }
   },
   "source": [
    "# Task 2: Data Transformation\n",
    "    1. Add a new column total_amount = quantity × unit_price .\n",
    "    2. Add another column month extracted from the date.\n",
    "    3. Format date as dd-MMM-yyyy and display.\n",
    "    4. Create a column is_high_value (TRUE if total_amount > 30,000 , else FALSE)."
   ]
  },
  {
   "cell_type": "code",
   "execution_count": 0,
   "metadata": {
    "application/vnd.databricks.v1+cell": {
     "cellMetadata": {
      "byteLimit": 2048000,
      "rowLimit": 10000
     },
     "inputWidgets": {},
     "nuid": "1daf1ad5-0959-4b85-9abc-4df3055c796a",
     "showTitle": false,
     "tableResultSettingsMap": {},
     "title": ""
    }
   },
   "outputs": [
    {
     "output_type": "display_data",
     "data": {
      "text/html": [
       "<style scoped>\n",
       "  .table-result-container {\n",
       "    max-height: 300px;\n",
       "    overflow: auto;\n",
       "  }\n",
       "  table, th, td {\n",
       "    border: 1px solid black;\n",
       "    border-collapse: collapse;\n",
       "  }\n",
       "  th, td {\n",
       "    padding: 5px;\n",
       "  }\n",
       "  th {\n",
       "    text-align: left;\n",
       "  }\n",
       "</style><div class='table-result-container'><table class='table-result'><thead style='background-color: white'><tr><th>transaction_id</th><th>customer_name</th><th>region</th><th>product</th><th>category</th><th>quantity</th><th>unit_price</th><th>date</th><th>total_amount</th><th>month</th><th>date_formatted</th><th>is_high_value</th></tr></thead><tbody><tr><td>1</td><td>Rajesh</td><td>North</td><td>Laptop</td><td>Electronics</td><td>1</td><td>55000</td><td>2024-01-12</td><td>55000</td><td>1</td><td>12-Jan-2024</td><td>true</td></tr><tr><td>2</td><td>Sneha</td><td>West</td><td>Refrigerator</td><td>Electronics</td><td>1</td><td>32000</td><td>2024-02-05</td><td>32000</td><td>2</td><td>05-Feb-2024</td><td>true</td></tr><tr><td>3</td><td>Anil</td><td>South</td><td>Shampoo</td><td>Personal Care</td><td>5</td><td>150</td><td>2024-01-17</td><td>750</td><td>1</td><td>17-Jan-2024</td><td>false</td></tr><tr><td>4</td><td>Divya</td><td>North</td><td>Mobile</td><td>Electronics</td><td>2</td><td>20000</td><td>2024-03-22</td><td>40000</td><td>3</td><td>22-Mar-2024</td><td>true</td></tr><tr><td>5</td><td>Vikram</td><td>East</td><td>Washing Machine</td><td>Electronics</td><td>1</td><td>28000</td><td>2024-02-28</td><td>28000</td><td>2</td><td>28-Feb-2024</td><td>false</td></tr><tr><td>6</td><td>Preeti</td><td>West</td><td>Sneakers</td><td>Fashion</td><td>2</td><td>4000</td><td>2024-01-31</td><td>8000</td><td>1</td><td>31-Jan-2024</td><td>false</td></tr><tr><td>7</td><td>Aman</td><td>South</td><td>TV</td><td>Electronics</td><td>1</td><td>45000</td><td>2024-02-15</td><td>45000</td><td>2</td><td>15-Feb-2024</td><td>true</td></tr><tr><td>8</td><td>Isha</td><td>North</td><td>Notebook</td><td>Stationery</td><td>10</td><td>60</td><td>2024-01-10</td><td>600</td><td>1</td><td>10-Jan-2024</td><td>false</td></tr><tr><td>9</td><td>Kunal</td><td>East</td><td>Pencil</td><td>Stationery</td><td>20</td><td>10</td><td>2024-03-05</td><td>200</td><td>3</td><td>05-Mar-2024</td><td>false</td></tr><tr><td>10</td><td>Tanvi</td><td>West</td><td>Face Cream</td><td>Personal Care</td><td>3</td><td>200</td><td>2024-03-19</td><td>600</td><td>3</td><td>19-Mar-2024</td><td>false</td></tr></tbody></table></div>"
      ]
     },
     "metadata": {
      "application/vnd.databricks.v1+output": {
       "addedWidgets": {},
       "aggData": [],
       "aggError": "",
       "aggOverflow": false,
       "aggSchema": [],
       "aggSeriesLimitReached": false,
       "aggType": "",
       "arguments": {},
       "columnCustomDisplayInfos": {},
       "data": [
        [
         1,
         "Rajesh",
         "North",
         "Laptop",
         "Electronics",
         1,
         55000,
         "2024-01-12",
         55000,
         1,
         "12-Jan-2024",
         true
        ],
        [
         2,
         "Sneha",
         "West",
         "Refrigerator",
         "Electronics",
         1,
         32000,
         "2024-02-05",
         32000,
         2,
         "05-Feb-2024",
         true
        ],
        [
         3,
         "Anil",
         "South",
         "Shampoo",
         "Personal Care",
         5,
         150,
         "2024-01-17",
         750,
         1,
         "17-Jan-2024",
         false
        ],
        [
         4,
         "Divya",
         "North",
         "Mobile",
         "Electronics",
         2,
         20000,
         "2024-03-22",
         40000,
         3,
         "22-Mar-2024",
         true
        ],
        [
         5,
         "Vikram",
         "East",
         "Washing Machine",
         "Electronics",
         1,
         28000,
         "2024-02-28",
         28000,
         2,
         "28-Feb-2024",
         false
        ],
        [
         6,
         "Preeti",
         "West",
         "Sneakers",
         "Fashion",
         2,
         4000,
         "2024-01-31",
         8000,
         1,
         "31-Jan-2024",
         false
        ],
        [
         7,
         "Aman",
         "South",
         "TV",
         "Electronics",
         1,
         45000,
         "2024-02-15",
         45000,
         2,
         "15-Feb-2024",
         true
        ],
        [
         8,
         "Isha",
         "North",
         "Notebook",
         "Stationery",
         10,
         60,
         "2024-01-10",
         600,
         1,
         "10-Jan-2024",
         false
        ],
        [
         9,
         "Kunal",
         "East",
         "Pencil",
         "Stationery",
         20,
         10,
         "2024-03-05",
         200,
         3,
         "05-Mar-2024",
         false
        ],
        [
         10,
         "Tanvi",
         "West",
         "Face Cream",
         "Personal Care",
         3,
         200,
         "2024-03-19",
         600,
         3,
         "19-Mar-2024",
         false
        ]
       ],
       "datasetInfos": [],
       "dbfsResultPath": null,
       "isJsonSchema": true,
       "metadata": {},
       "overflow": false,
       "plotOptions": {
        "customPlotOptions": {},
        "displayType": "table",
        "pivotAggregation": null,
        "pivotColumns": null,
        "xColumns": null,
        "yColumns": null
       },
       "removedWidgets": [],
       "schema": [
        {
         "metadata": "{}",
         "name": "transaction_id",
         "type": "\"integer\""
        },
        {
         "metadata": "{}",
         "name": "customer_name",
         "type": "\"string\""
        },
        {
         "metadata": "{}",
         "name": "region",
         "type": "\"string\""
        },
        {
         "metadata": "{}",
         "name": "product",
         "type": "\"string\""
        },
        {
         "metadata": "{}",
         "name": "category",
         "type": "\"string\""
        },
        {
         "metadata": "{}",
         "name": "quantity",
         "type": "\"integer\""
        },
        {
         "metadata": "{}",
         "name": "unit_price",
         "type": "\"integer\""
        },
        {
         "metadata": "{\"__detected_date_formats\":\"yyyy-M-d\"}",
         "name": "date",
         "type": "\"date\""
        },
        {
         "metadata": "{}",
         "name": "total_amount",
         "type": "\"integer\""
        },
        {
         "metadata": "{}",
         "name": "month",
         "type": "\"integer\""
        },
        {
         "metadata": "{}",
         "name": "date_formatted",
         "type": "\"string\""
        },
        {
         "metadata": "{}",
         "name": "is_high_value",
         "type": "\"boolean\""
        }
       ],
       "type": "table"
      }
     },
     "output_type": "display_data"
    }
   ],
   "source": [
    "from pyspark.sql.functions import col, when, month, date_format\n",
    "\n",
    "df = spark.read.format(\"delta\").load(delta_path)\n",
    "\n",
    "# 1. Add a new column total_amount = quantity × unit_price .\n",
    "# 2. Add another column month extracted from the date.\n",
    "# 3. Format date as dd-MMM-yyyy and display.\n",
    "# 4. Create a column is_high_value (TRUE if total_amount > 30,000 , else FALSE).\n",
    "df = df.withColumn(\"total_amount\", col(\"quantity\") * col(\"unit_price\")) \\\n",
    "       .withColumn(\"month\", month(col(\"date\"))) \\\n",
    "       .withColumn(\"date_formatted\", date_format(col(\"date\"), \"dd-MMM-yyyy\")) \\\n",
    "       .withColumn(\"is_high_value\", when(col(\"total_amount\") > 30000, True).otherwise(False))\n",
    "\n",
    "display(df)"
   ]
  },
  {
   "cell_type": "markdown",
   "metadata": {
    "application/vnd.databricks.v1+cell": {
     "cellMetadata": {},
     "inputWidgets": {},
     "nuid": "4f09b947-97e5-48d4-801b-1833b032d20a",
     "showTitle": false,
     "tableResultSettingsMap": {},
     "title": ""
    }
   },
   "source": [
    "# Task 3: Aggregations & Insights\n",
    "    1. Count transactions per region.\n",
    "    2. Get top 3 categories by total sales amount.\n",
    "    3. Find month-wise revenue trend.\n",
    "    4. Show customer(s) who made the highest purchase in one transaction.\n",
    "    5. Calculate total sales done in Q1 (Jan–Mar)."
   ]
  },
  {
   "cell_type": "code",
   "execution_count": 0,
   "metadata": {
    "application/vnd.databricks.v1+cell": {
     "cellMetadata": {
      "byteLimit": 2048000,
      "rowLimit": 10000
     },
     "inputWidgets": {},
     "nuid": "6e4f487c-01e0-4391-9ae2-bde5e9af4ff4",
     "showTitle": false,
     "tableResultSettingsMap": {},
     "title": ""
    }
   },
   "outputs": [
    {
     "output_type": "display_data",
     "data": {
      "text/html": [
       "<style scoped>\n",
       "  .table-result-container {\n",
       "    max-height: 300px;\n",
       "    overflow: auto;\n",
       "  }\n",
       "  table, th, td {\n",
       "    border: 1px solid black;\n",
       "    border-collapse: collapse;\n",
       "  }\n",
       "  th, td {\n",
       "    padding: 5px;\n",
       "  }\n",
       "  th {\n",
       "    text-align: left;\n",
       "  }\n",
       "</style><div class='table-result-container'><table class='table-result'><thead style='background-color: white'><tr><th>region</th><th>count</th></tr></thead><tbody><tr><td>South</td><td>2</td></tr><tr><td>East</td><td>2</td></tr><tr><td>West</td><td>3</td></tr><tr><td>North</td><td>3</td></tr></tbody></table></div>"
      ]
     },
     "metadata": {
      "application/vnd.databricks.v1+output": {
       "addedWidgets": {},
       "aggData": [],
       "aggError": "",
       "aggOverflow": false,
       "aggSchema": [],
       "aggSeriesLimitReached": false,
       "aggType": "",
       "arguments": {},
       "columnCustomDisplayInfos": {},
       "data": [
        [
         "South",
         2
        ],
        [
         "East",
         2
        ],
        [
         "West",
         3
        ],
        [
         "North",
         3
        ]
       ],
       "datasetInfos": [],
       "dbfsResultPath": null,
       "isJsonSchema": true,
       "metadata": {},
       "overflow": false,
       "plotOptions": {
        "customPlotOptions": {},
        "displayType": "table",
        "pivotAggregation": null,
        "pivotColumns": null,
        "xColumns": null,
        "yColumns": null
       },
       "removedWidgets": [],
       "schema": [
        {
         "metadata": "{}",
         "name": "region",
         "type": "\"string\""
        },
        {
         "metadata": "{}",
         "name": "count",
         "type": "\"long\""
        }
       ],
       "type": "table"
      }
     },
     "output_type": "display_data"
    },
    {
     "output_type": "display_data",
     "data": {
      "text/html": [
       "<style scoped>\n",
       "  .table-result-container {\n",
       "    max-height: 300px;\n",
       "    overflow: auto;\n",
       "  }\n",
       "  table, th, td {\n",
       "    border: 1px solid black;\n",
       "    border-collapse: collapse;\n",
       "  }\n",
       "  th, td {\n",
       "    padding: 5px;\n",
       "  }\n",
       "  th {\n",
       "    text-align: left;\n",
       "  }\n",
       "</style><div class='table-result-container'><table class='table-result'><thead style='background-color: white'><tr><th>category</th><th>total_sales</th></tr></thead><tbody><tr><td>Electronics</td><td>200000</td></tr><tr><td>Fashion</td><td>8000</td></tr><tr><td>Personal Care</td><td>1350</td></tr></tbody></table></div>"
      ]
     },
     "metadata": {
      "application/vnd.databricks.v1+output": {
       "addedWidgets": {},
       "aggData": [],
       "aggError": "",
       "aggOverflow": false,
       "aggSchema": [],
       "aggSeriesLimitReached": false,
       "aggType": "",
       "arguments": {},
       "columnCustomDisplayInfos": {},
       "data": [
        [
         "Electronics",
         200000
        ],
        [
         "Fashion",
         8000
        ],
        [
         "Personal Care",
         1350
        ]
       ],
       "datasetInfos": [],
       "dbfsResultPath": null,
       "isJsonSchema": true,
       "metadata": {},
       "overflow": false,
       "plotOptions": {
        "customPlotOptions": {},
        "displayType": "table",
        "pivotAggregation": null,
        "pivotColumns": null,
        "xColumns": null,
        "yColumns": null
       },
       "removedWidgets": [],
       "schema": [
        {
         "metadata": "{}",
         "name": "category",
         "type": "\"string\""
        },
        {
         "metadata": "{}",
         "name": "total_sales",
         "type": "\"long\""
        }
       ],
       "type": "table"
      }
     },
     "output_type": "display_data"
    },
    {
     "output_type": "display_data",
     "data": {
      "text/html": [
       "<style scoped>\n",
       "  .table-result-container {\n",
       "    max-height: 300px;\n",
       "    overflow: auto;\n",
       "  }\n",
       "  table, th, td {\n",
       "    border: 1px solid black;\n",
       "    border-collapse: collapse;\n",
       "  }\n",
       "  th, td {\n",
       "    padding: 5px;\n",
       "  }\n",
       "  th {\n",
       "    text-align: left;\n",
       "  }\n",
       "</style><div class='table-result-container'><table class='table-result'><thead style='background-color: white'><tr><th>month</th><th>monthly_revenue</th></tr></thead><tbody><tr><td>1</td><td>64350</td></tr><tr><td>2</td><td>105000</td></tr><tr><td>3</td><td>40800</td></tr></tbody></table></div>"
      ]
     },
     "metadata": {
      "application/vnd.databricks.v1+output": {
       "addedWidgets": {},
       "aggData": [],
       "aggError": "",
       "aggOverflow": false,
       "aggSchema": [],
       "aggSeriesLimitReached": false,
       "aggType": "",
       "arguments": {},
       "columnCustomDisplayInfos": {},
       "data": [
        [
         1,
         64350
        ],
        [
         2,
         105000
        ],
        [
         3,
         40800
        ]
       ],
       "datasetInfos": [],
       "dbfsResultPath": null,
       "isJsonSchema": true,
       "metadata": {},
       "overflow": false,
       "plotOptions": {
        "customPlotOptions": {},
        "displayType": "table",
        "pivotAggregation": null,
        "pivotColumns": null,
        "xColumns": null,
        "yColumns": null
       },
       "removedWidgets": [],
       "schema": [
        {
         "metadata": "{}",
         "name": "month",
         "type": "\"integer\""
        },
        {
         "metadata": "{}",
         "name": "monthly_revenue",
         "type": "\"long\""
        }
       ],
       "type": "table"
      }
     },
     "output_type": "display_data"
    },
    {
     "output_type": "display_data",
     "data": {
      "text/html": [
       "<style scoped>\n",
       "  .table-result-container {\n",
       "    max-height: 300px;\n",
       "    overflow: auto;\n",
       "  }\n",
       "  table, th, td {\n",
       "    border: 1px solid black;\n",
       "    border-collapse: collapse;\n",
       "  }\n",
       "  th, td {\n",
       "    padding: 5px;\n",
       "  }\n",
       "  th {\n",
       "    text-align: left;\n",
       "  }\n",
       "</style><div class='table-result-container'><table class='table-result'><thead style='background-color: white'><tr><th>customer_name</th><th>total_amount</th></tr></thead><tbody><tr><td>Rajesh</td><td>55000</td></tr></tbody></table></div>"
      ]
     },
     "metadata": {
      "application/vnd.databricks.v1+output": {
       "addedWidgets": {},
       "aggData": [],
       "aggError": "",
       "aggOverflow": false,
       "aggSchema": [],
       "aggSeriesLimitReached": false,
       "aggType": "",
       "arguments": {},
       "columnCustomDisplayInfos": {},
       "data": [
        [
         "Rajesh",
         55000
        ]
       ],
       "datasetInfos": [],
       "dbfsResultPath": null,
       "isJsonSchema": true,
       "metadata": {},
       "overflow": false,
       "plotOptions": {
        "customPlotOptions": {},
        "displayType": "table",
        "pivotAggregation": null,
        "pivotColumns": null,
        "xColumns": null,
        "yColumns": null
       },
       "removedWidgets": [],
       "schema": [
        {
         "metadata": "{}",
         "name": "customer_name",
         "type": "\"string\""
        },
        {
         "metadata": "{}",
         "name": "total_amount",
         "type": "\"integer\""
        }
       ],
       "type": "table"
      }
     },
     "output_type": "display_data"
    },
    {
     "output_type": "display_data",
     "data": {
      "text/html": [
       "<style scoped>\n",
       "  .table-result-container {\n",
       "    max-height: 300px;\n",
       "    overflow: auto;\n",
       "  }\n",
       "  table, th, td {\n",
       "    border: 1px solid black;\n",
       "    border-collapse: collapse;\n",
       "  }\n",
       "  th, td {\n",
       "    padding: 5px;\n",
       "  }\n",
       "  th {\n",
       "    text-align: left;\n",
       "  }\n",
       "</style><div class='table-result-container'><table class='table-result'><thead style='background-color: white'><tr><th>q1_total_sales</th></tr></thead><tbody><tr><td>210150</td></tr></tbody></table></div>"
      ]
     },
     "metadata": {
      "application/vnd.databricks.v1+output": {
       "addedWidgets": {},
       "aggData": [],
       "aggError": "",
       "aggOverflow": false,
       "aggSchema": [],
       "aggSeriesLimitReached": false,
       "aggType": "",
       "arguments": {},
       "columnCustomDisplayInfos": {},
       "data": [
        [
         210150
        ]
       ],
       "datasetInfos": [],
       "dbfsResultPath": null,
       "isJsonSchema": true,
       "metadata": {},
       "overflow": false,
       "plotOptions": {
        "customPlotOptions": {},
        "displayType": "table",
        "pivotAggregation": null,
        "pivotColumns": null,
        "xColumns": null,
        "yColumns": null
       },
       "removedWidgets": [],
       "schema": [
        {
         "metadata": "{}",
         "name": "q1_total_sales",
         "type": "\"long\""
        }
       ],
       "type": "table"
      }
     },
     "output_type": "display_data"
    }
   ],
   "source": [
    "from pyspark.sql.functions import col, sum as spark_sum, desc, max as spark_max, month\n",
    "\n",
    "df_delta = spark.read.format(\"delta\").load(delta_path)\n",
    "\n",
    "# 1. Count transactions per region\n",
    "region_counts = df_delta.groupBy(\"region\").count()\n",
    "display(region_counts)\n",
    "\n",
    "# 2. Top 3 categories by total sales amount\n",
    "df_with_total = df_delta.withColumn(\"total_amount\", col(\"quantity\") * col(\"unit_price\"))\n",
    "top_categories = df_with_total.groupBy(\"category\") \\\n",
    "    .agg(spark_sum(\"total_amount\").alias(\"total_sales\")) \\\n",
    "    .orderBy(desc(\"total_sales\")) \\\n",
    "    .limit(3)\n",
    "display(top_categories)\n",
    "\n",
    "# 3. Month-wise revenue trend\n",
    "month_revenue = df_with_total.groupBy(month(\"date\").alias(\"month\")) \\\n",
    "    .agg(spark_sum(\"total_amount\").alias(\"monthly_revenue\")) \\\n",
    "    .orderBy(\"month\")\n",
    "display(month_revenue)\n",
    "\n",
    "# 4. Customer(s) who made the highest purchase in one transaction\n",
    "max_purchase = df_with_total.agg(spark_max(\"total_amount\").alias(\"max_total\")).collect()[0][\"max_total\"]\n",
    "highest_customer = df_with_total.filter(col(\"total_amount\") == max_purchase).select(\"customer_name\", \"total_amount\")\n",
    "display(highest_customer)\n",
    "\n",
    "# 5. Total sales done in Q1 (Jan–Mar)\n",
    "q1_sales = df_with_total.filter(month(\"date\").between(1, 3)) \\\n",
    "    .agg(spark_sum(\"total_amount\").alias(\"q1_total_sales\"))\n",
    "display(q1_sales)"
   ]
  },
  {
   "cell_type": "markdown",
   "metadata": {
    "application/vnd.databricks.v1+cell": {
     "cellMetadata": {},
     "inputWidgets": {},
     "nuid": "1e1713ea-69bc-41e0-a654-d156eeb4e300",
     "showTitle": false,
     "tableResultSettingsMap": {},
     "title": ""
    }
   },
   "source": [
    "# Task 4: Update & Delete Scenarios\n",
    "    1. Update price of all Stationery items to increase by 10%.\n",
    "    2. Delete all records with quantity < 3 .\n",
    "    3. Add a new row into the Delta Table with today's transaction data."
   ]
  },
  {
   "cell_type": "code",
   "execution_count": 0,
   "metadata": {
    "application/vnd.databricks.v1+cell": {
     "cellMetadata": {
      "byteLimit": 2048000,
      "rowLimit": 10000
     },
     "inputWidgets": {},
     "nuid": "627ba09e-a78c-486b-8686-4867ff5b0ab7",
     "showTitle": false,
     "tableResultSettingsMap": {},
     "title": ""
    }
   },
   "outputs": [
    {
     "output_type": "display_data",
     "data": {
      "text/html": [
       "<style scoped>\n",
       "  .table-result-container {\n",
       "    max-height: 300px;\n",
       "    overflow: auto;\n",
       "  }\n",
       "  table, th, td {\n",
       "    border: 1px solid black;\n",
       "    border-collapse: collapse;\n",
       "  }\n",
       "  th, td {\n",
       "    padding: 5px;\n",
       "  }\n",
       "  th {\n",
       "    text-align: left;\n",
       "  }\n",
       "</style><div class='table-result-container'><table class='table-result'><thead style='background-color: white'><tr><th>transaction_id</th><th>customer_name</th><th>region</th><th>product</th><th>category</th><th>quantity</th><th>unit_price</th><th>date</th></tr></thead><tbody><tr><td>8</td><td>Isha</td><td>North</td><td>Notebook</td><td>Stationery</td><td>10</td><td>86</td><td>2024-01-10</td></tr><tr><td>9</td><td>Kunal</td><td>East</td><td>Pencil</td><td>Stationery</td><td>20</td><td>14</td><td>2024-03-05</td></tr><tr><td>3</td><td>Anil</td><td>South</td><td>Shampoo</td><td>Personal Care</td><td>5</td><td>150</td><td>2024-01-17</td></tr><tr><td>10</td><td>Tanvi</td><td>West</td><td>Face Cream</td><td>Personal Care</td><td>3</td><td>200</td><td>2024-03-19</td></tr><tr><td>11</td><td>Satej</td><td>South</td><td>Smartwatch</td><td>Electronics</td><td>1</td><td>15000</td><td>2025-08-08</td></tr></tbody></table></div>"
      ]
     },
     "metadata": {
      "application/vnd.databricks.v1+output": {
       "addedWidgets": {},
       "aggData": [],
       "aggError": "",
       "aggOverflow": false,
       "aggSchema": [],
       "aggSeriesLimitReached": false,
       "aggType": "",
       "arguments": {},
       "columnCustomDisplayInfos": {},
       "data": [
        [
         8,
         "Isha",
         "North",
         "Notebook",
         "Stationery",
         10,
         86,
         "2024-01-10"
        ],
        [
         9,
         "Kunal",
         "East",
         "Pencil",
         "Stationery",
         20,
         14,
         "2024-03-05"
        ],
        [
         3,
         "Anil",
         "South",
         "Shampoo",
         "Personal Care",
         5,
         150,
         "2024-01-17"
        ],
        [
         10,
         "Tanvi",
         "West",
         "Face Cream",
         "Personal Care",
         3,
         200,
         "2024-03-19"
        ],
        [
         11,
         "Satej",
         "South",
         "Smartwatch",
         "Electronics",
         1,
         15000,
         "2025-08-08"
        ]
       ],
       "datasetInfos": [],
       "dbfsResultPath": null,
       "isJsonSchema": true,
       "metadata": {},
       "overflow": false,
       "plotOptions": {
        "customPlotOptions": {},
        "displayType": "table",
        "pivotAggregation": null,
        "pivotColumns": null,
        "xColumns": null,
        "yColumns": null
       },
       "removedWidgets": [],
       "schema": [
        {
         "metadata": "{}",
         "name": "transaction_id",
         "type": "\"integer\""
        },
        {
         "metadata": "{}",
         "name": "customer_name",
         "type": "\"string\""
        },
        {
         "metadata": "{}",
         "name": "region",
         "type": "\"string\""
        },
        {
         "metadata": "{}",
         "name": "product",
         "type": "\"string\""
        },
        {
         "metadata": "{}",
         "name": "category",
         "type": "\"string\""
        },
        {
         "metadata": "{}",
         "name": "quantity",
         "type": "\"integer\""
        },
        {
         "metadata": "{}",
         "name": "unit_price",
         "type": "\"integer\""
        },
        {
         "metadata": "{\"__detected_date_formats\":\"yyyy-M-d\"}",
         "name": "date",
         "type": "\"date\""
        }
       ],
       "type": "table"
      }
     },
     "output_type": "display_data"
    }
   ],
   "source": [
    "from delta.tables import DeltaTable\n",
    "from datetime import datetime\n",
    "\n",
    "deltaTable = DeltaTable.forPath(spark, delta_path)\n",
    "\n",
    "# 1. Update price of all Stationery items to increase by 10%.\n",
    "deltaTable.update(\n",
    "    condition=col(\"category\") == \"Stationery\",\n",
    "    set={\"unit_price\": col(\"unit_price\") * 1.10}\n",
    ")\n",
    "\n",
    "# 2. Delete all records with quantity < 3 .\n",
    "deltaTable.delete(condition=col(\"quantity\")<3)\n",
    "\n",
    "# 3. Add a new row into the Delta Table with today's transaction data.\n",
    "# Load existing Delta table\n",
    "delta_table = DeltaTable.forPath(spark, delta_path)\n",
    "\n",
    "# New transaction row\n",
    "new_data = [\n",
    "    (11, \"Satej\", \"South\", \"Smartwatch\", \"Electronics\", 1, 15000, datetime.today().strftime(\"%Y-%m-%d\"))\n",
    "]\n",
    "\n",
    "# Create DataFrame with matching columns\n",
    "update_df = spark.createDataFrame(new_data, [\n",
    "    \"transaction_id\", \"customer_name\", \"region\", \"product\", \"category\", \"quantity\", \"unit_price\", \"date\"\n",
    "])\n",
    "\n",
    "# Perform merge (update if transaction_id exists, else insert)\n",
    "delta_table.alias(\"target\").merge(\n",
    "    update_df.alias(\"source\"),\n",
    "    \"target.transaction_id = source.transaction_id\"\n",
    ").whenMatchedUpdateAll(\n",
    ").whenNotMatchedInsertAll(\n",
    ").execute()\n",
    "\n",
    "# Display final table\n",
    "delta_table.toDF().display()"
   ]
  },
  {
   "cell_type": "markdown",
   "metadata": {
    "application/vnd.databricks.v1+cell": {
     "cellMetadata": {},
     "inputWidgets": {},
     "nuid": "d83f20ec-2ac8-412e-93df-5ebeef8cfe0e",
     "showTitle": false,
     "tableResultSettingsMap": {},
     "title": ""
    }
   },
   "source": [
    "# Task 5: Partitioning & Optimization (Bonus)\n",
    "    1. Re-write the Delta table partitioned by region .\n",
    "    2. Create a second Delta table partitioned by month .\n",
    "    3. Optimize using Z-Ordering (if Databricks)."
   ]
  },
  {
   "cell_type": "code",
   "execution_count": 0,
   "metadata": {
    "application/vnd.databricks.v1+cell": {
     "cellMetadata": {
      "byteLimit": 2048000,
      "rowLimit": 10000
     },
     "inputWidgets": {},
     "nuid": "e8590c13-de02-4455-9b2a-6bf0d3555f02",
     "showTitle": false,
     "tableResultSettingsMap": {},
     "title": ""
    }
   },
   "outputs": [
    {
     "output_type": "stream",
     "name": "stdout",
     "output_type": "stream",
     "text": [
      "Partitioned by region table created.\n"
     ]
    },
    {
     "output_type": "display_data",
     "data": {
      "text/html": [
       "<style scoped>\n",
       "  .table-result-container {\n",
       "    max-height: 300px;\n",
       "    overflow: auto;\n",
       "  }\n",
       "  table, th, td {\n",
       "    border: 1px solid black;\n",
       "    border-collapse: collapse;\n",
       "  }\n",
       "  th, td {\n",
       "    padding: 5px;\n",
       "  }\n",
       "  th {\n",
       "    text-align: left;\n",
       "  }\n",
       "</style><div class='table-result-container'><table class='table-result'><thead style='background-color: white'><tr><th>transaction_id</th><th>customer_name</th><th>region</th><th>product</th><th>category</th><th>quantity</th><th>unit_price</th><th>date</th><th>month</th></tr></thead><tbody><tr><td>11</td><td>Satej</td><td>South</td><td>Smartwatch</td><td>Electronics</td><td>1</td><td>15000</td><td>2025-08-08</td><td>8</td></tr><tr><td>3</td><td>Anil</td><td>South</td><td>Shampoo</td><td>Personal Care</td><td>5</td><td>150</td><td>2024-01-17</td><td>1</td></tr><tr><td>10</td><td>Tanvi</td><td>West</td><td>Face Cream</td><td>Personal Care</td><td>3</td><td>200</td><td>2024-03-19</td><td>3</td></tr><tr><td>8</td><td>Isha</td><td>North</td><td>Notebook</td><td>Stationery</td><td>10</td><td>86</td><td>2024-01-10</td><td>1</td></tr><tr><td>9</td><td>Kunal</td><td>East</td><td>Pencil</td><td>Stationery</td><td>20</td><td>14</td><td>2024-03-05</td><td>3</td></tr></tbody></table></div>"
      ]
     },
     "metadata": {
      "application/vnd.databricks.v1+output": {
       "addedWidgets": {},
       "aggData": [],
       "aggError": "",
       "aggOverflow": false,
       "aggSchema": [],
       "aggSeriesLimitReached": false,
       "aggType": "",
       "arguments": {},
       "columnCustomDisplayInfos": {},
       "data": [
        [
         11,
         "Satej",
         "South",
         "Smartwatch",
         "Electronics",
         1,
         15000,
         "2025-08-08",
         8
        ],
        [
         3,
         "Anil",
         "South",
         "Shampoo",
         "Personal Care",
         5,
         150,
         "2024-01-17",
         1
        ],
        [
         10,
         "Tanvi",
         "West",
         "Face Cream",
         "Personal Care",
         3,
         200,
         "2024-03-19",
         3
        ],
        [
         8,
         "Isha",
         "North",
         "Notebook",
         "Stationery",
         10,
         86,
         "2024-01-10",
         1
        ],
        [
         9,
         "Kunal",
         "East",
         "Pencil",
         "Stationery",
         20,
         14,
         "2024-03-05",
         3
        ]
       ],
       "datasetInfos": [],
       "dbfsResultPath": null,
       "isJsonSchema": true,
       "metadata": {},
       "overflow": false,
       "plotOptions": {
        "customPlotOptions": {},
        "displayType": "table",
        "pivotAggregation": null,
        "pivotColumns": null,
        "xColumns": null,
        "yColumns": null
       },
       "removedWidgets": [],
       "schema": [
        {
         "metadata": "{}",
         "name": "transaction_id",
         "type": "\"integer\""
        },
        {
         "metadata": "{}",
         "name": "customer_name",
         "type": "\"string\""
        },
        {
         "metadata": "{}",
         "name": "region",
         "type": "\"string\""
        },
        {
         "metadata": "{}",
         "name": "product",
         "type": "\"string\""
        },
        {
         "metadata": "{}",
         "name": "category",
         "type": "\"string\""
        },
        {
         "metadata": "{}",
         "name": "quantity",
         "type": "\"integer\""
        },
        {
         "metadata": "{}",
         "name": "unit_price",
         "type": "\"integer\""
        },
        {
         "metadata": "{\"__detected_date_formats\":\"yyyy-M-d\"}",
         "name": "date",
         "type": "\"date\""
        },
        {
         "metadata": "{}",
         "name": "month",
         "type": "\"integer\""
        }
       ],
       "type": "table"
      }
     },
     "output_type": "display_data"
    },
    {
     "output_type": "stream",
     "name": "stdout",
     "output_type": "stream",
     "text": [
      "Partitioned by month table created.\n"
     ]
    },
    {
     "output_type": "display_data",
     "data": {
      "text/html": [
       "<style scoped>\n",
       "  .table-result-container {\n",
       "    max-height: 300px;\n",
       "    overflow: auto;\n",
       "  }\n",
       "  table, th, td {\n",
       "    border: 1px solid black;\n",
       "    border-collapse: collapse;\n",
       "  }\n",
       "  th, td {\n",
       "    padding: 5px;\n",
       "  }\n",
       "  th {\n",
       "    text-align: left;\n",
       "  }\n",
       "</style><div class='table-result-container'><table class='table-result'><thead style='background-color: white'><tr><th>transaction_id</th><th>customer_name</th><th>region</th><th>product</th><th>category</th><th>quantity</th><th>unit_price</th><th>date</th><th>month</th></tr></thead><tbody><tr><td>10</td><td>Tanvi</td><td>West</td><td>Face Cream</td><td>Personal Care</td><td>3</td><td>200</td><td>2024-03-19</td><td>3</td></tr><tr><td>9</td><td>Kunal</td><td>East</td><td>Pencil</td><td>Stationery</td><td>20</td><td>14</td><td>2024-03-05</td><td>3</td></tr><tr><td>3</td><td>Anil</td><td>South</td><td>Shampoo</td><td>Personal Care</td><td>5</td><td>150</td><td>2024-01-17</td><td>1</td></tr><tr><td>8</td><td>Isha</td><td>North</td><td>Notebook</td><td>Stationery</td><td>10</td><td>86</td><td>2024-01-10</td><td>1</td></tr><tr><td>11</td><td>Satej</td><td>South</td><td>Smartwatch</td><td>Electronics</td><td>1</td><td>15000</td><td>2025-08-08</td><td>8</td></tr></tbody></table></div>"
      ]
     },
     "metadata": {
      "application/vnd.databricks.v1+output": {
       "addedWidgets": {},
       "aggData": [],
       "aggError": "",
       "aggOverflow": false,
       "aggSchema": [],
       "aggSeriesLimitReached": false,
       "aggType": "",
       "arguments": {},
       "columnCustomDisplayInfos": {},
       "data": [
        [
         10,
         "Tanvi",
         "West",
         "Face Cream",
         "Personal Care",
         3,
         200,
         "2024-03-19",
         3
        ],
        [
         9,
         "Kunal",
         "East",
         "Pencil",
         "Stationery",
         20,
         14,
         "2024-03-05",
         3
        ],
        [
         3,
         "Anil",
         "South",
         "Shampoo",
         "Personal Care",
         5,
         150,
         "2024-01-17",
         1
        ],
        [
         8,
         "Isha",
         "North",
         "Notebook",
         "Stationery",
         10,
         86,
         "2024-01-10",
         1
        ],
        [
         11,
         "Satej",
         "South",
         "Smartwatch",
         "Electronics",
         1,
         15000,
         "2025-08-08",
         8
        ]
       ],
       "datasetInfos": [],
       "dbfsResultPath": null,
       "isJsonSchema": true,
       "metadata": {},
       "overflow": false,
       "plotOptions": {
        "customPlotOptions": {},
        "displayType": "table",
        "pivotAggregation": null,
        "pivotColumns": null,
        "xColumns": null,
        "yColumns": null
       },
       "removedWidgets": [],
       "schema": [
        {
         "metadata": "{}",
         "name": "transaction_id",
         "type": "\"integer\""
        },
        {
         "metadata": "{}",
         "name": "customer_name",
         "type": "\"string\""
        },
        {
         "metadata": "{}",
         "name": "region",
         "type": "\"string\""
        },
        {
         "metadata": "{}",
         "name": "product",
         "type": "\"string\""
        },
        {
         "metadata": "{}",
         "name": "category",
         "type": "\"string\""
        },
        {
         "metadata": "{}",
         "name": "quantity",
         "type": "\"integer\""
        },
        {
         "metadata": "{}",
         "name": "unit_price",
         "type": "\"integer\""
        },
        {
         "metadata": "{\"__detected_date_formats\":\"yyyy-M-d\"}",
         "name": "date",
         "type": "\"date\""
        },
        {
         "metadata": "{}",
         "name": "month",
         "type": "\"integer\""
        }
       ],
       "type": "table"
      }
     },
     "output_type": "display_data"
    },
    {
     "output_type": "stream",
     "name": "stdout",
     "output_type": "stream",
     "text": [
      "Running Z-Ordering on region-partitioned table...\n"
     ]
    },
    {
     "output_type": "execute_result",
     "data": {
      "text/plain": [
       "DataFrame[path: string, metrics: struct<numFilesAdded:bigint,numFilesRemoved:bigint,filesAdded:struct<min:bigint,max:bigint,avg:double,totalFiles:bigint,totalSize:bigint>,filesRemoved:struct<min:bigint,max:bigint,avg:double,totalFiles:bigint,totalSize:bigint>,partitionsOptimized:bigint,zOrderStats:struct<strategyName:string,inputCubeFiles:struct<num:bigint,size:bigint>,inputOtherFiles:struct<num:bigint,size:bigint>,inputNumCubes:bigint,mergedFiles:struct<num:bigint,size:bigint>,numOutputCubes:bigint,mergedNumCubes:bigint>,clusteringStats:struct<inputZCubeFiles:struct<numFiles:bigint,size:bigint>,inputOtherFiles:struct<numFiles:bigint,size:bigint>,inputNumZCubes:bigint,mergedFiles:struct<numFiles:bigint,size:bigint>,numOutputZCubes:bigint>,numBins:bigint,numBatches:bigint,totalConsideredFiles:bigint,totalFilesSkipped:bigint,preserveInsertionOrder:boolean,numFilesSkippedToReduceWriteAmplification:bigint,numBytesSkippedToReduceWriteAmplification:bigint,startTimeMs:bigint,endTimeMs:bigint,totalClusterParallelism:bigint,totalScheduledTasks:bigint,autoCompactParallelismStats:struct<maxClusterActiveParallelism:bigint,minClusterActiveParallelism:bigint,maxSessionActiveParallelism:bigint,minSessionActiveParallelism:bigint>,deletionVectorStats:struct<numDeletionVectorsRemoved:bigint,numDeletionVectorRowsRemoved:bigint>,recompressionCodec:string,numTableColumns:bigint,numTableColumnsWithStats:bigint,totalTaskExecutionTimeMs:bigint,skippedArchivedFiles:bigint,clusteringMetrics:struct<sizeOfTableInBytesBeforeLazyClustering:bigint,isNewMetadataCreated:boolean,isPOTriggered:boolean,isFull:boolean,approxClusteringQuality:double,approxClusteringQualityPerColumn:array<double>,approxClusteringCoverage:double,numFilesSkippedWithoutStats:bigint,numFilesClassifiedToIntermediateNodes:bigint,sizeOfFilesClassifiedToIntermediateNodesInBytes:bigint,logicalSizeOfFilesClassifiedToIntermediateNodesInBytes:bigint,numFilesClassifiedToLeafNodes:bigint,sizeOfFilesClassifiedToLeafNodesInBytes:bigint,logicalSizeOfFilesClassifiedToLeafNodesInBytes:bigint,numThreadsForClassifier:int,clusterThresholdStrategy:string,minFileSize:bigint,maxFileSize:bigint,nodeMinNumFilesToCompact:bigint,numIdealFiles:bigint,numIdealFilesWithTrimmedStringMaxValue:bigint,numAddedFilesWithSameMinMaxOnClusteringColumns:array<bigint>,numClusteringTasksPlanned:int,numClusteringTasksNotPlannedDueToPO:int,numCompactionTasksPlanned:int,numCompactionTasksPlannedUndoneDueToPO:int,numOptimizeBatchesPlanned:int,numLeafNodesExpanded:bigint,numLeafNodesClustered:bigint,numGetFilesForNodeCalls:bigint,numSamplingJobs:bigint,numLeafNodesCompacted:bigint,numLeafNodesCompactedUndoneDueToPO:bigint,numIntermediateNodesCompacted:bigint,numIntermediateNodesCompactedUndoneDueToPO:bigint,totalSizeOfDataToCompactInBytes:bigint,totalSizeOfDataToCompactInBytesUndoneDueToPO:bigint,totalLogicalSizeOfDataToCompactInBytes:bigint,totalLogicalSizeOfDataToCompactInBytesUndoneDueToPO:bigint,numIntermediateNodesClustered:bigint,numFilesSkippedAfterExpansion:bigint,totalSizeOfFilesSkippedAfterExpansionInBytes:bigint,totalLogicalSizeOfFilesSkippedAfterExpansionInBytes:bigint,totalSizeOfDataToRewriteInBytes:bigint,totalLogicalSizeOfDataToRewriteInBytes:bigint,timeMetrics:struct<classifierTimeMs:bigint,optimizerTimeMs:bigint,metadataLoadTimeMs:bigint,totalGetFilesForNodeCallsTimeMs:bigint,totalSamplingTimeMs:bigint,metadataCreationTimeMs:bigint>,maxOptimizeBatchesInParallel:bigint,currentIteration:int,maxIterations:int,clusteringStrategy:string>>]"
      ]
     },
     "execution_count": 44,
     "metadata": {},
     "output_type": "execute_result"
    }
   ],
   "source": [
    "from pyspark.sql.functions import month\n",
    "\n",
    "# Paths for partitioned tables\n",
    "delta_partitioned_region = \"/tmp/delta_sales_partitioned_region\"\n",
    "delta_partitioned_month = \"/tmp/delta_sales_partitioned_month\"\n",
    "\n",
    "# Load Delta table and add month column\n",
    "df = spark.read.format(\"delta\").load(delta_path) \\\n",
    "        .withColumn(\"month\", month(col(\"date\")))\n",
    "\n",
    "# 1. Partitioned by region(Re-write the Delta table partitioned by region .)\n",
    "df.write.format(\"delta\").mode(\"overwrite\").partitionBy(\"region\").save(delta_partitioned_region)\n",
    "print(\"Partitioned by region table created.\")\n",
    "display(spark.read.format(\"delta\").load(delta_partitioned_region))\n",
    "\n",
    "# 2. Partitioned by month(Create a second Delta table partitioned by month .)\n",
    "df.write.format(\"delta\").mode(\"overwrite\").partitionBy(\"month\").save(delta_partitioned_month)\n",
    "print(\"Partitioned by month table created.\")\n",
    "display(spark.read.format(\"delta\").load(delta_partitioned_month))\n",
    "\n",
    "# 3. Z-Ordering (Databricks Premium only) – This will output optimization stats\n",
    "print(\"Running Z-Ordering on region-partitioned table...\")\n",
    "spark.sql(f\"OPTIMIZE delta.`{delta_partitioned_region}` ZORDER BY (category)\")"
   ]
  }
 ],
 "metadata": {
  "application/vnd.databricks.v1+notebook": {
   "computePreferences": null,
   "dashboards": [],
   "environmentMetadata": {
    "base_environment": "",
    "environment_version": "2"
   },
   "inputWidgetPreferences": null,
   "language": "python",
   "notebookMetadata": {
    "mostRecentlyExecutedCommandWithImplicitDF": {
     "commandId": 5157325359184962,
     "dataframes": [
      "_sqldf"
     ]
    },
    "pythonIndentUnit": 4
   },
   "notebookName": "Exercise 1:Sales Transactions",
   "widgets": {}
  },
  "language_info": {
   "name": "python"
  }
 },
 "nbformat": 4,
 "nbformat_minor": 0
}