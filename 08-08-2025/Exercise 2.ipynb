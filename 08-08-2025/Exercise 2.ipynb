{
 "cells": [
  {
   "cell_type": "markdown",
   "metadata": {
    "application/vnd.databricks.v1+cell": {
     "cellMetadata": {},
     "inputWidgets": {},
     "nuid": "3a3f0abf-e0cf-449e-8e3c-0238929ae285",
     "showTitle": false,
     "tableResultSettingsMap": {},
     "title": ""
    }
   },
   "source": [
    "# Student Scores"
   ]
  },
  {
   "cell_type": "code",
   "execution_count": 0,
   "metadata": {
    "application/vnd.databricks.v1+cell": {
     "cellMetadata": {
      "byteLimit": 2048000,
      "rowLimit": 10000
     },
     "inputWidgets": {},
     "nuid": "c80805e6-07ed-4e6e-883b-5df2ad79714c",
     "showTitle": false,
     "tableResultSettingsMap": {},
     "title": ""
    }
   },
   "outputs": [
    {
     "output_type": "stream",
     "name": "stdout",
     "output_type": "stream",
     "text": [
      "Wrote 234 bytes.\n"
     ]
    },
    {
     "output_type": "execute_result",
     "data": {
      "text/plain": [
       "True"
      ]
     },
     "execution_count": 1,
     "metadata": {},
     "output_type": "execute_result"
    }
   ],
   "source": [
    "# Dataset: Inline CSV – student_scores.csv\n",
    "csv_data = \"\"\"student_id,name,subject,score,grade\n",
    "1,Ankit,Math,85,A\n",
    "2,Divya,Science,92,A\n",
    "3,Rahul,English,78,B\n",
    "4,Sneha,Math,65,C\n",
    "5,Aryan,Science,55,D\n",
    "6,Isha,English,88,A\n",
    "7,Tanvi,Math,91,A\n",
    "8,Kunal,Science,72,B\n",
    "9,Megha,English,60,C\n",
    "10,Rohan,Math,40,F\n",
    "\"\"\"\n",
    "\n",
    "dbutils.fs.put(\"dbfs:/tmp/student_scores.csv\", csv_data, overwrite=True)"
   ]
  },
  {
   "cell_type": "markdown",
   "metadata": {
    "application/vnd.databricks.v1+cell": {
     "cellMetadata": {},
     "inputWidgets": {},
     "nuid": "3331be8c-621e-4fb6-b979-82bc0b85e137",
     "showTitle": false,
     "tableResultSettingsMap": {},
     "title": ""
    }
   },
   "source": [
    "# Step 1: Read into DataFrame"
   ]
  },
  {
   "cell_type": "code",
   "execution_count": 0,
   "metadata": {
    "application/vnd.databricks.v1+cell": {
     "cellMetadata": {
      "byteLimit": 2048000,
      "rowLimit": 10000
     },
     "inputWidgets": {},
     "nuid": "f82149b4-a6f6-4aaf-92ee-e6898000326f",
     "showTitle": false,
     "tableResultSettingsMap": {},
     "title": ""
    }
   },
   "outputs": [
    {
     "output_type": "stream",
     "name": "stdout",
     "output_type": "stream",
     "text": [
      "+----------+-----+-------+-----+-----+\n|student_id| name|subject|score|grade|\n+----------+-----+-------+-----+-----+\n|         1|Ankit|   Math|   85|    A|\n|         2|Divya|Science|   92|    A|\n|         3|Rahul|English|   78|    B|\n|         4|Sneha|   Math|   65|    C|\n|         5|Aryan|Science|   55|    D|\n|         6| Isha|English|   88|    A|\n|         7|Tanvi|   Math|   91|    A|\n|         8|Kunal|Science|   72|    B|\n|         9|Megha|English|   60|    C|\n|        10|Rohan|   Math|   40|    F|\n+----------+-----+-------+-----+-----+\n\n"
     ]
    }
   ],
   "source": [
    "df = spark.read.option(\"header\", True).option(\"inferSchema\", True).csv(\"dbfs:/tmp/student_scores.csv\")\n",
    "df.show()"
   ]
  },
  {
   "cell_type": "markdown",
   "metadata": {
    "application/vnd.databricks.v1+cell": {
     "cellMetadata": {},
     "inputWidgets": {},
     "nuid": "e0a1a284-5795-40c6-bf7a-e65510ddb9cc",
     "showTitle": false,
     "tableResultSettingsMap": {},
     "title": ""
    }
   },
   "source": [
    "# Step 2: Write to Delta"
   ]
  },
  {
   "cell_type": "code",
   "execution_count": 0,
   "metadata": {
    "application/vnd.databricks.v1+cell": {
     "cellMetadata": {
      "byteLimit": 2048000,
      "rowLimit": 10000
     },
     "inputWidgets": {},
     "nuid": "267757de-36cf-4ed5-affe-26456e07fc05",
     "showTitle": false,
     "tableResultSettingsMap": {},
     "title": ""
    }
   },
   "outputs": [],
   "source": [
    "df.write.mode(\"overwrite\").format(\"delta\").save(\"/tmp/delta/student_scores\")"
   ]
  },
  {
   "cell_type": "markdown",
   "metadata": {
    "application/vnd.databricks.v1+cell": {
     "cellMetadata": {},
     "inputWidgets": {},
     "nuid": "a50b826d-2444-45d1-aa2d-091fad9a8e55",
     "showTitle": false,
     "tableResultSettingsMap": {},
     "title": ""
    }
   },
   "source": [
    "# Step 3: Register Delta Table"
   ]
  },
  {
   "cell_type": "code",
   "execution_count": 0,
   "metadata": {
    "application/vnd.databricks.v1+cell": {
     "cellMetadata": {
      "byteLimit": 2048000,
      "rowLimit": 10000
     },
     "inputWidgets": {},
     "nuid": "c12e9177-43be-474e-aa13-47c52d680fa7",
     "showTitle": false,
     "tableResultSettingsMap": {},
     "title": ""
    }
   },
   "outputs": [
    {
     "output_type": "execute_result",
     "data": {
      "text/plain": [
       "DataFrame[]"
      ]
     },
     "execution_count": 4,
     "metadata": {},
     "output_type": "execute_result"
    }
   ],
   "source": [
    "spark.sql(\"DROP TABLE IF EXISTS student_scores\")"
   ]
  },
  {
   "cell_type": "code",
   "execution_count": 0,
   "metadata": {
    "application/vnd.databricks.v1+cell": {
     "cellMetadata": {
      "byteLimit": 2048000,
      "rowLimit": 10000
     },
     "inputWidgets": {},
     "nuid": "a6f8f199-802a-48d0-83c0-5f4b4629291c",
     "showTitle": false,
     "tableResultSettingsMap": {},
     "title": ""
    }
   },
   "outputs": [
    {
     "output_type": "execute_result",
     "data": {
      "text/plain": [
       "DataFrame[]"
      ]
     },
     "execution_count": 6,
     "metadata": {},
     "output_type": "execute_result"
    }
   ],
   "source": [
    "spark.sql(\"CREATE TABLE default.student_scores USING DELTA\")"
   ]
  },
  {
   "cell_type": "code",
   "execution_count": 0,
   "metadata": {
    "application/vnd.databricks.v1+cell": {
     "cellMetadata": {
      "byteLimit": 2048000,
      "rowLimit": 10000
     },
     "inputWidgets": {},
     "nuid": "a3fe635b-5b4e-4f1b-9482-5b7e1e28a25a",
     "showTitle": false,
     "tableResultSettingsMap": {},
     "title": ""
    }
   },
   "outputs": [
    {
     "output_type": "stream",
     "name": "stdout",
     "output_type": "stream",
     "text": [
      "+----------+-----+-------+-----+-----+\n|student_id| name|subject|score|grade|\n+----------+-----+-------+-----+-----+\n|         1|Ankit|   Math|   85|    A|\n|         2|Divya|Science|   92|    A|\n|         3|Rahul|English|   78|    B|\n|         4|Sneha|   Math|   65|    C|\n|         5|Aryan|Science|   55|    D|\n|         6| Isha|English|   88|    A|\n|         7|Tanvi|   Math|   91|    A|\n|         8|Kunal|Science|   72|    B|\n|         9|Megha|English|   60|    C|\n|        10|Rohan|   Math|   40|    F|\n+----------+-----+-------+-----+-----+\n\n"
     ]
    }
   ],
   "source": [
    "from delta.tables import DeltaTable\n",
    "\n",
    "delta_table = DeltaTable.forPath(spark, \"/tmp/delta/student_scores\")\n",
    "df = delta_table.toDF()\n",
    "df.show()"
   ]
  },
  {
   "cell_type": "markdown",
   "metadata": {
    "application/vnd.databricks.v1+cell": {
     "cellMetadata": {},
     "inputWidgets": {},
     "nuid": "811c0328-1361-43db-af81-e5a7e87f1348",
     "showTitle": false,
     "tableResultSettingsMap": {},
     "title": ""
    }
   },
   "source": [
    "# Basic Tasks\n",
    "    1. Show all students and their scores.\n",
    "    2. Count number of students in each subject.\n",
    "    3. Find average score per subject.\n",
    "    4. List all students who scored more than 80."
   ]
  },
  {
   "cell_type": "code",
   "execution_count": 0,
   "metadata": {
    "application/vnd.databricks.v1+cell": {
     "cellMetadata": {
      "byteLimit": 2048000,
      "rowLimit": 10000
     },
     "inputWidgets": {},
     "nuid": "06e3e6c4-fe6c-4b96-9e08-639696da769c",
     "showTitle": false,
     "tableResultSettingsMap": {},
     "title": ""
    }
   },
   "outputs": [
    {
     "output_type": "stream",
     "name": "stdout",
     "output_type": "stream",
     "text": [
      "+-----+-----+\n| name|score|\n+-----+-----+\n|Ankit|   85|\n|Divya|   92|\n|Rahul|   78|\n|Sneha|   65|\n|Aryan|   55|\n| Isha|   88|\n|Tanvi|   91|\n|Kunal|   72|\n|Megha|   60|\n|Rohan|   40|\n+-----+-----+\n\n"
     ]
    }
   ],
   "source": [
    "# 1. Show all students and their scores.\n",
    "df = spark.read.format(\"delta\").load(\"/tmp/delta/student_scores\")\n",
    "df.createOrReplaceTempView(\"student_scores\")\n",
    "\n",
    "spark.sql(\"SELECT name, score FROM student_scores\").show()"
   ]
  },
  {
   "cell_type": "code",
   "execution_count": 0,
   "metadata": {
    "application/vnd.databricks.v1+cell": {
     "cellMetadata": {
      "byteLimit": 2048000,
      "rowLimit": 10000
     },
     "inputWidgets": {},
     "nuid": "d4a9d7a6-ee07-47a1-90c2-b1009a088e63",
     "showTitle": false,
     "tableResultSettingsMap": {},
     "title": ""
    }
   },
   "outputs": [
    {
     "output_type": "stream",
     "name": "stdout",
     "output_type": "stream",
     "text": [
      "+-------+-------------+\n|subject|student_count|\n+-------+-------------+\n|Science|            3|\n|   Math|            4|\n|English|            3|\n+-------+-------------+\n\n"
     ]
    }
   ],
   "source": [
    "# 2. Count number of students in each subject.\n",
    "spark.sql(\"\"\"\n",
    "SELECT subject, COUNT(*) AS student_count\n",
    "FROM student_scores\n",
    "GROUP BY subject\n",
    "\"\"\").show()"
   ]
  },
  {
   "cell_type": "code",
   "execution_count": 0,
   "metadata": {
    "application/vnd.databricks.v1+cell": {
     "cellMetadata": {
      "byteLimit": 2048000,
      "rowLimit": 10000
     },
     "inputWidgets": {},
     "nuid": "fa2a3173-c0be-4fdb-995f-59d7e2c64a7b",
     "showTitle": false,
     "tableResultSettingsMap": {},
     "title": ""
    }
   },
   "outputs": [
    {
     "output_type": "stream",
     "name": "stdout",
     "output_type": "stream",
     "text": [
      "+-------+---------+\n|subject|avg_score|\n+-------+---------+\n|Science|     73.0|\n|   Math|    70.25|\n|English|    75.33|\n+-------+---------+\n\n"
     ]
    }
   ],
   "source": [
    "# 3. Find average score per subject.\n",
    "spark.sql(\"\"\"\n",
    "SELECT subject, ROUND(AVG(score), 2) AS avg_score\n",
    "FROM student_scores\n",
    "GROUP BY subject\n",
    "\"\"\").show()"
   ]
  },
  {
   "cell_type": "code",
   "execution_count": 0,
   "metadata": {
    "application/vnd.databricks.v1+cell": {
     "cellMetadata": {
      "byteLimit": 2048000,
      "rowLimit": 10000
     },
     "inputWidgets": {},
     "nuid": "0c7ecf30-66d8-40e1-9b69-2a946e0020be",
     "showTitle": false,
     "tableResultSettingsMap": {},
     "title": ""
    }
   },
   "outputs": [
    {
     "output_type": "stream",
     "name": "stdout",
     "output_type": "stream",
     "text": [
      "+----------+-----+-------+-----+-----+\n|student_id| name|subject|score|grade|\n+----------+-----+-------+-----+-----+\n|         1|Ankit|   Math|   85|    A|\n|         2|Divya|Science|   92|    A|\n|         6| Isha|English|   88|    A|\n|         7|Tanvi|   Math|   91|    A|\n+----------+-----+-------+-----+-----+\n\n"
     ]
    }
   ],
   "source": [
    "# 4. List all students who scored more than 80.\n",
    "spark.sql(\"SELECT * FROM student_scores WHERE score > 80\").show()"
   ]
  },
  {
   "cell_type": "markdown",
   "metadata": {
    "application/vnd.databricks.v1+cell": {
     "cellMetadata": {},
     "inputWidgets": {},
     "nuid": "619efc42-04ff-44db-8681-bf0abdc623ea",
     "showTitle": false,
     "tableResultSettingsMap": {},
     "title": ""
    }
   },
   "source": [
    "# Advanced Queries\n",
    "    5. Show student(s) with the highest score in each subject.\n",
    "    6. Display grades with count of students in each.\n",
    "    7. Show names of students who failed (grade F).\n",
    "    8. List students with score between 60 and 90."
   ]
  },
  {
   "cell_type": "code",
   "execution_count": 0,
   "metadata": {
    "application/vnd.databricks.v1+cell": {
     "cellMetadata": {
      "byteLimit": 2048000,
      "rowLimit": 10000
     },
     "inputWidgets": {},
     "nuid": "002edab8-6527-491e-b548-26286761d6fc",
     "showTitle": false,
     "tableResultSettingsMap": {},
     "title": ""
    }
   },
   "outputs": [
    {
     "output_type": "stream",
     "name": "stdout",
     "output_type": "stream",
     "text": [
      "+-------+-----+-----+\n|subject| name|score|\n+-------+-----+-----+\n|English| Isha|   88|\n|   Math|Tanvi|   91|\n|Science|Divya|   92|\n+-------+-----+-----+\n\n"
     ]
    }
   ],
   "source": [
    "# 5. Show student(s) with the highest score in each subject.\n",
    "spark.sql(\"\"\"SELECT subject, name, score FROM (SELECT *, RANK() OVER (PARTITION BY subject ORDER BY score DESC) AS rnk FROM student_scores) WHERE rnk = 1\"\"\").show()"
   ]
  },
  {
   "cell_type": "code",
   "execution_count": 0,
   "metadata": {
    "application/vnd.databricks.v1+cell": {
     "cellMetadata": {
      "byteLimit": 2048000,
      "rowLimit": 10000
     },
     "inputWidgets": {},
     "nuid": "f6f65b04-920c-4b6f-a17e-e8c889029e37",
     "showTitle": false,
     "tableResultSettingsMap": {},
     "title": ""
    }
   },
   "outputs": [
    {
     "output_type": "stream",
     "name": "stdout",
     "output_type": "stream",
     "text": [
      "+-----+-------------+\n|grade|student_count|\n+-----+-------------+\n|    F|            1|\n|    B|            2|\n|    D|            1|\n|    C|            2|\n|    A|            4|\n+-----+-------------+\n\n"
     ]
    }
   ],
   "source": [
    "# 6. Display grades with count of students in each.\n",
    "spark.sql(\"\"\"SELECT grade, COUNT(*) AS student_count FROM student_scores GROUP BY grade\"\"\").show()"
   ]
  },
  {
   "cell_type": "code",
   "execution_count": 0,
   "metadata": {
    "application/vnd.databricks.v1+cell": {
     "cellMetadata": {
      "byteLimit": 2048000,
      "rowLimit": 10000
     },
     "inputWidgets": {},
     "nuid": "2b02dc59-b2b2-44fa-be7e-aabacf979fbf",
     "showTitle": false,
     "tableResultSettingsMap": {},
     "title": ""
    }
   },
   "outputs": [
    {
     "output_type": "stream",
     "name": "stdout",
     "output_type": "stream",
     "text": [
      "+----------+-----+-------+-----+-----+\n|student_id| name|subject|score|grade|\n+----------+-----+-------+-----+-----+\n|        10|Rohan|   Math|   40|    F|\n+----------+-----+-------+-----+-----+\n\n"
     ]
    }
   ],
   "source": [
    "# 7. Show names of students who failed (grade F).\n",
    "spark.sql(\"\"\"SELECT * FROM student_scores WHERE grade = 'F'\"\"\").show()"
   ]
  },
  {
   "cell_type": "code",
   "execution_count": 0,
   "metadata": {
    "application/vnd.databricks.v1+cell": {
     "cellMetadata": {
      "byteLimit": 2048000,
      "rowLimit": 10000
     },
     "inputWidgets": {},
     "nuid": "45ae5137-21b1-43a7-8bb7-86b01ccd5aea",
     "showTitle": false,
     "tableResultSettingsMap": {},
     "title": ""
    }
   },
   "outputs": [
    {
     "output_type": "stream",
     "name": "stdout",
     "output_type": "stream",
     "text": [
      "+----------+-----+-------+-----+-----+\n|student_id| name|subject|score|grade|\n+----------+-----+-------+-----+-----+\n|         1|Ankit|   Math|   85|    A|\n|         3|Rahul|English|   78|    B|\n|         4|Sneha|   Math|   65|    C|\n|         6| Isha|English|   88|    A|\n|         8|Kunal|Science|   72|    B|\n|         9|Megha|English|   60|    C|\n+----------+-----+-------+-----+-----+\n\n"
     ]
    }
   ],
   "source": [
    "# 8. List students with score between 60 and 90.\n",
    "spark.sql(\"\"\"SELECT * FROM student_scores where score BETWEEN 60 AND 90\"\"\").show()"
   ]
  },
  {
   "cell_type": "code",
   "execution_count": 0,
   "metadata": {
    "application/vnd.databricks.v1+cell": {
     "cellMetadata": {
      "byteLimit": 2048000,
      "rowLimit": 10000
     },
     "inputWidgets": {},
     "nuid": "aaf593d5-bc43-4092-adc8-5c9b9e90cd78",
     "showTitle": false,
     "tableResultSettingsMap": {},
     "title": ""
    }
   },
   "outputs": [
    {
     "output_type": "stream",
     "name": "stdout",
     "output_type": "stream",
     "text": [
      "+-------+-----+-----+----+\n|subject| name|score|rank|\n+-------+-----+-----+----+\n|English| Isha|   88|   1|\n|English|Rahul|   78|   2|\n|English|Megha|   60|   3|\n|   Math|Tanvi|   91|   1|\n|   Math|Ankit|   85|   2|\n|   Math|Sneha|   65|   3|\n|   Math|Rohan|   40|   4|\n|Science|Divya|   92|   1|\n|Science|Kunal|   72|   2|\n|Science|Aryan|   55|   3|\n+-------+-----+-----+----+\n\n"
     ]
    }
   ],
   "source": [
    "# 9. Rank students within each subject based on scores.\n",
    "spark.sql(\"\"\"SELECT subject, name, score, RANK() OVER (PARTITION BY subject ORDER BY score DESC) AS rank FROM student_scores\"\"\").show()"
   ]
  },
  {
   "cell_type": "markdown",
   "metadata": {
    "application/vnd.databricks.v1+cell": {
     "cellMetadata": {},
     "inputWidgets": {},
     "nuid": "fbc94280-6337-41ec-bc74-7d7aaba288d1",
     "showTitle": false,
     "tableResultSettingsMap": {},
     "title": ""
    }
   },
   "source": [
    "# Update & Delete Tasks\n",
    "    10. Increase score of all English subject students by 5.\n",
    "    11. Delete all records where score is less than 50.\n",
    "    12. Add a new column pass_status (PASS if score >= 50 else FAIL)"
   ]
  },
  {
   "cell_type": "code",
   "execution_count": 0,
   "metadata": {
    "application/vnd.databricks.v1+cell": {
     "cellMetadata": {
      "byteLimit": 2048000,
      "rowLimit": 10000
     },
     "inputWidgets": {},
     "nuid": "ca2f40d5-a561-4d2c-9b5c-9b77363c5ea9",
     "showTitle": false,
     "tableResultSettingsMap": {},
     "title": ""
    }
   },
   "outputs": [
    {
     "output_type": "stream",
     "name": "stdout",
     "output_type": "stream",
     "text": [
      "+----------+-----+-------+-----+-----+\n|student_id| name|subject|score|grade|\n+----------+-----+-------+-----+-----+\n|         1|Ankit|   Math|   85|    A|\n|         2|Divya|Science|   92|    A|\n|         4|Sneha|   Math|   65|    C|\n|         5|Aryan|Science|   55|    D|\n|         7|Tanvi|   Math|   91|    A|\n|         8|Kunal|Science|   72|    B|\n|        10|Rohan|   Math|   40|    F|\n|         3|Rahul|English|   93|    B|\n|         6| Isha|English|  103|    A|\n|         9|Megha|English|   75|    C|\n+----------+-----+-------+-----+-----+\n\n"
     ]
    }
   ],
   "source": [
    "# 10. Increase score of all English subject students by 5.\n",
    "spark.sql(\"\"\"UPDATE student_scores SET score = score+5 WHERE subject = 'English'\"\"\")\n",
    "spark.sql(\"\"\"SELECT * FROM student_scores\"\"\").show()"
   ]
  },
  {
   "cell_type": "code",
   "execution_count": 0,
   "metadata": {
    "application/vnd.databricks.v1+cell": {
     "cellMetadata": {
      "byteLimit": 2048000,
      "rowLimit": 10000
     },
     "inputWidgets": {},
     "nuid": "f49bd1e1-2e56-463d-b179-cc86471d088f",
     "showTitle": false,
     "tableResultSettingsMap": {},
     "title": ""
    }
   },
   "outputs": [
    {
     "output_type": "execute_result",
     "data": {
      "text/plain": [
       "DataFrame[student_id: int, name: string, subject: string, score: int, grade: string]"
      ]
     },
     "execution_count": 28,
     "metadata": {},
     "output_type": "execute_result"
    }
   ],
   "source": [
    "# 11. Delete all records where score is less than 50.\n",
    "spark.sql(\"\"\"DELETE FROM student_scores WHERE score < 50\"\"\")\n",
    "spark.sql(\"\"\"SELECT * FROM student_scores\"\"\")"
   ]
  },
  {
   "cell_type": "code",
   "execution_count": 0,
   "metadata": {
    "application/vnd.databricks.v1+cell": {
     "cellMetadata": {
      "byteLimit": 2048000,
      "rowLimit": 10000
     },
     "inputWidgets": {},
     "nuid": "a047110c-2531-4b8e-afc5-071bd2c93694",
     "showTitle": false,
     "tableResultSettingsMap": {},
     "title": ""
    }
   },
   "outputs": [
    {
     "output_type": "stream",
     "name": "stdout",
     "output_type": "stream",
     "text": [
      "+----------+-----+-------+-----+-----+-----------+\n|student_id| name|subject|score|grade|pass_status|\n+----------+-----+-------+-----+-----+-----------+\n|         3|Rahul|English|   93|    B|       PASS|\n|         6| Isha|English|  103|    A|       PASS|\n|         9|Megha|English|   75|    C|       PASS|\n|         1|Ankit|   Math|   85|    A|       PASS|\n|         2|Divya|Science|   92|    A|       PASS|\n|         4|Sneha|   Math|   65|    C|       PASS|\n|         5|Aryan|Science|   55|    D|       PASS|\n|         7|Tanvi|   Math|   91|    A|       PASS|\n|         8|Kunal|Science|   72|    B|       PASS|\n+----------+-----+-------+-----+-----+-----------+\n\n"
     ]
    }
   ],
   "source": [
    "# 12. Add a new column pass_status (PASS if score >= 50 else FAIL)\n",
    "df = spark.sql(\"\"\"\n",
    "SELECT *, \n",
    "       CASE WHEN score >= 50 THEN 'PASS' ELSE 'FAIL' END AS pass_status\n",
    "FROM student_scores\n",
    "\"\"\").show()"
   ]
  },
  {
   "cell_type": "markdown",
   "metadata": {
    "application/vnd.databricks.v1+cell": {
     "cellMetadata": {},
     "inputWidgets": {},
     "nuid": "d3160311-2088-4d39-b6cf-13e9213e0360",
     "showTitle": false,
     "tableResultSettingsMap": {},
     "title": ""
    }
   },
   "source": [
    "# Data Transformation & Views\n",
    "    13. Create a temporary view and run SQL to get average scores.\n",
    "    14. Convert updated DataFrame into a new Delta table called student_scores_v2 .\n",
    "    15. Write the final data to Parquet and JSON formats."
   ]
  },
  {
   "cell_type": "code",
   "execution_count": 0,
   "metadata": {
    "application/vnd.databricks.v1+cell": {
     "cellMetadata": {
      "byteLimit": 2048000,
      "rowLimit": 10000
     },
     "inputWidgets": {},
     "nuid": "cae6e239-8b67-4975-97ac-60c5029feb69",
     "showTitle": false,
     "tableResultSettingsMap": {},
     "title": ""
    }
   },
   "outputs": [
    {
     "output_type": "execute_result",
     "data": {
      "text/plain": [
       "DataFrame[]"
      ]
     },
     "execution_count": 45,
     "metadata": {},
     "output_type": "execute_result"
    }
   ],
   "source": [
    "# 13. Create a temporary view and run SQL to get average scores.\n",
    "spark.sql(\"\"\"\n",
    "CREATE OR REPLACE TEMP VIEW student_scores_v1 AS\n",
    "SELECT subject, ROUND(AVG(score), 2) AS avg_score\n",
    "FROM student_scores\n",
    "GROUP BY subject\"\"\")"
   ]
  },
  {
   "cell_type": "code",
   "execution_count": 0,
   "metadata": {
    "application/vnd.databricks.v1+cell": {
     "cellMetadata": {
      "byteLimit": 2048000,
      "rowLimit": 10000
     },
     "inputWidgets": {},
     "nuid": "429dd4bb-494d-418c-a8cd-38739772edc9",
     "showTitle": false,
     "tableResultSettingsMap": {},
     "title": ""
    }
   },
   "outputs": [
    {
     "output_type": "stream",
     "name": "stdout",
     "output_type": "stream",
     "text": [
      "New Delta table 'student_scores_v2' created.\n"
     ]
    }
   ],
   "source": [
    "# 14. Convert updated DataFrame into a new Delta table called student_scores_v2 .\n",
    "delta_v2_path = \"/tmp/delta_student_scores_v2\"\n",
    "\n",
    "if df is not None: df.write.format(\"delta\").mode(\"overwrite\").save(delta_v2_path)\n",
    "print(\"New Delta table 'student_scores_v2' created.\")\n"
   ]
  },
  {
   "cell_type": "code",
   "execution_count": 0,
   "metadata": {
    "application/vnd.databricks.v1+cell": {
     "cellMetadata": {
      "byteLimit": 2048000,
      "rowLimit": 10000
     },
     "inputWidgets": {},
     "nuid": "566b45fb-0cf1-42d5-b145-05e89bef8726",
     "showTitle": false,
     "tableResultSettingsMap": {},
     "title": ""
    }
   },
   "outputs": [
    {
     "output_type": "stream",
     "name": "stdout",
     "output_type": "stream",
     "text": [
      "Data written to both Parquet and JSON formats.\n"
     ]
    }
   ],
   "source": [
    "# 15. Write the final data to Parquet and JSON formats.\n",
    "df.write.mode(\"overwrite\").parquet(\"/tmp/student_scores_parquet\")\n",
    "df.write.mode(\"overwrite\").json(\"/tmp/student_scores_json\")\n",
    "\n",
    "print(\"Data written to both Parquet and JSON formats.\")"
   ]
  }
 ],
 "metadata": {
  "application/vnd.databricks.v1+notebook": {
   "computePreferences": null,
   "dashboards": [],
   "environmentMetadata": {
    "base_environment": "",
    "environment_version": "2"
   },
   "inputWidgetPreferences": null,
   "language": "python",
   "notebookMetadata": {
    "pythonIndentUnit": 4
   },
   "notebookName": "Exercise 2:Student Scores",
   "widgets": {}
  },
  "language_info": {
   "name": "python"
  }
 },
 "nbformat": 4,
 "nbformat_minor": 0
}