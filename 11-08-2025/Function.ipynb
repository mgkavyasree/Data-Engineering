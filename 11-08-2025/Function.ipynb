{
  "nbformat": 4,
  "nbformat_minor": 0,
  "metadata": {
    "colab": {
      "provenance": []
    },
    "kernelspec": {
      "name": "python3",
      "display_name": "Python 3"
    },
    "language_info": {
      "name": "python"
    }
  },
  "cells": [
    {
      "cell_type": "code",
      "execution_count": 2,
      "metadata": {
        "id": "hNAW2Xhf5Inm"
      },
      "outputs": [],
      "source": [
        "def say_hello():\n",
        "    print(\"Hello World!\")"
      ]
    }
  ]
}