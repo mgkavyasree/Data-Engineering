{
  "nbformat": 4,
  "nbformat_minor": 0,
  "metadata": {
    "colab": {
      "provenance": []
    },
    "kernelspec": {
      "name": "python3",
      "display_name": "Python 3"
    },
    "language_info": {
      "name": "python"
    }
  },
  "cells": [
    {
      "cell_type": "code",
      "source": [
        "import nbformat as nbf\n",
        "\n",
        "nb = nbf.v4.new_notebook()\n",
        "\n",
        "nb['cells'] = [\n",
        "\n",
        "nbf.v4.new_code_cell(\n",
        "\n",
        "    'def say_hello():\\n'\n",
        "\n",
        "        ' print(\"Hello World from hello notebook!\")\\n'\n",
        "\n",
        ")\n",
        "]\n",
        "\n",
        "with open('hello.ipynb', 'w') as f:\n",
        "    nbf.write(nb, f)\n",
        "\n",
        "print(\"hello_world.ipynb created in current directory\")"
      ],
      "metadata": {
        "colab": {
          "base_uri": "https://localhost:8080/"
        },
        "id": "Ukco9dp19Apv",
        "outputId": "054da489-d92a-4400-e5bc-55d796a94cef"
      },
      "execution_count": 16,
      "outputs": [
        {
          "output_type": "stream",
          "name": "stdout",
          "text": [
            "hello_world.ipynb created in current directory\n"
          ]
        }
      ]
    },
    {
      "cell_type": "code",
      "source": [
        "import import_ipynb\n",
        "import hello\n",
        "\n",
        "hello.say_hello()"
      ],
      "metadata": {
        "colab": {
          "base_uri": "https://localhost:8080/"
        },
        "id": "tPt65IWw94p2",
        "outputId": "b64446ea-dae6-4c67-f3a1-143f44211393"
      },
      "execution_count": 15,
      "outputs": [
        {
          "output_type": "stream",
          "name": "stdout",
          "text": [
            "Hello World from hello notebook!\n"
          ]
        }
      ]
    }
  ]
}