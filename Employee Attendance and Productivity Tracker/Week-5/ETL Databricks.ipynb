{
 "cells": [
  {
   "cell_type": "markdown",
   "metadata": {
    "application/vnd.databricks.v1+cell": {
     "cellMetadata": {},
     "inputWidgets": {},
     "nuid": "94dc8403-e261-4874-ad2d-4b691d7b868c",
     "showTitle": false,
     "tableResultSettingsMap": {},
     "title": ""
    }
   },
   "source": [
    "# **Week -5**"
   ]
  },
  {
   "cell_type": "code",
   "execution_count": 1,
   "metadata": {
    "application/vnd.databricks.v1+cell": {
     "cellMetadata": {
      "byteLimit": 2048000,
      "rowLimit": 10000
     },
     "inputWidgets": {},
     "nuid": "2f9eddd8-4b09-41d4-a3c6-9268ad4970b5",
     "showTitle": false,
     "tableResultSettingsMap": {},
     "title": ""
    }
   },
   "outputs": [],
   "source": [
    "from pyspark.sql import SparkSession\n",
    "from pyspark.sql import functions as F"
   ]
  },
  {
   "cell_type": "code",
   "execution_count": 2,
   "metadata": {
    "application/vnd.databricks.v1+cell": {
     "cellMetadata": {
      "byteLimit": 2048000,
      "rowLimit": 10000
     },
     "inputWidgets": {},
     "nuid": "35e0a407-8be6-452f-880f-833276002cc7",
     "showTitle": false,
     "tableResultSettingsMap": {},
     "title": ""
    }
   },
   "outputs": [
    {
     "data": {
      "text/html": [
       "\n",
       "            <div>\n",
       "                <p><b>SparkSession - in-memory</b></p>\n",
       "                \n",
       "        <div>\n",
       "            <p><b>SparkContext</b></p>\n",
       "\n",
       "            <p><a href=\"http://192.168.1.4:4040\">Spark UI</a></p>\n",
       "\n",
       "            <dl>\n",
       "              <dt>Version</dt>\n",
       "                <dd><code>v4.0.0</code></dd>\n",
       "              <dt>Master</dt>\n",
       "                <dd><code>local[*]</code></dd>\n",
       "              <dt>AppName</dt>\n",
       "                <dd><code>ETL</code></dd>\n",
       "            </dl>\n",
       "        </div>\n",
       "        \n",
       "            </div>\n",
       "        "
      ],
      "text/plain": [
       "<pyspark.sql.session.SparkSession at 0x24571703710>"
      ]
     },
     "execution_count": 2,
     "metadata": {},
     "output_type": "execute_result"
    }
   ],
   "source": [
    "spark = SparkSession.builder.appName(\"ETL\").getOrCreate()\n",
    "spark"
   ]
  },
  {
   "cell_type": "markdown",
   "metadata": {
    "application/vnd.databricks.v1+cell": {
     "cellMetadata": {},
     "inputWidgets": {},
     "nuid": "fa54b001-ccf5-4a3f-955a-f8d651e114b5",
     "showTitle": false,
     "tableResultSettingsMap": {},
     "title": ""
    }
   },
   "source": [
    "#**Loading data**"
   ]
  },
  {
   "cell_type": "code",
   "execution_count": null,
   "metadata": {
    "application/vnd.databricks.v1+cell": {
     "cellMetadata": {
      "byteLimit": 2048000,
      "rowLimit": 10000
     },
     "inputWidgets": {},
     "nuid": "e8832f99-f7f1-4c03-93af-67ded0d4257b",
     "showTitle": false,
     "tableResultSettingsMap": {},
     "title": ""
    }
   },
   "outputs": [],
   "source": [
    "dfAtt = spark.read.csv(r\"C:\\Stack overflow\\Data-Engineering-Training\\CapStone Project\\Employee Attendance and Productivity Tracker\\Week-5\\Datasets\\attendance.csv\", header=True, inferSchema=True)\n",
    "dfEmp = spark.read.csv(r\"C:\\Stack overflow\\Data-Engineering-Training\\CapStone Project\\Employee Attendance and Productivity Tracker\\Week-5\\Datasets\\employees.csv\", header=True, inferSchema=True)\n",
    "dfTas = spark.read.csv(r\"C:\\Stack overflow\\Data-Engineering-Training\\CapStone Project\\Employee Attendance and Productivity Tracker\\Week-5\\Datasets\\tasks.csv\", header=True, inferSchema=True)"
   ]
  },
  {
   "cell_type": "code",
   "execution_count": 5,
   "metadata": {
    "application/vnd.databricks.v1+cell": {
     "cellMetadata": {
      "byteLimit": 2048000,
      "rowLimit": 10000
     },
     "inputWidgets": {},
     "nuid": "5be1f963-e68c-495e-805e-7bf74697a560",
     "showTitle": false,
     "tableResultSettingsMap": {},
     "title": ""
    }
   },
   "outputs": [
    {
     "name": "stdout",
     "output_type": "stream",
     "text": [
      "root\n",
      " |-- attendanceID: integer (nullable = true)\n",
      " |-- employeeID: integer (nullable = true)\n",
      " |-- date: string (nullable = true)\n",
      " |-- clockIN: string (nullable = true)\n",
      " |-- clockOUT: string (nullable = true)\n",
      " |-- isLate: integer (nullable = true)\n",
      " |-- isAbscent: integer (nullable = true)\n",
      "\n"
     ]
    }
   ],
   "source": [
    "dfAtt.printSchema()"
   ]
  },
  {
   "cell_type": "code",
   "execution_count": 6,
   "metadata": {
    "application/vnd.databricks.v1+cell": {
     "cellMetadata": {
      "byteLimit": 2048000,
      "rowLimit": 10000
     },
     "inputWidgets": {},
     "nuid": "442afd3c-1e7d-46c1-a487-5a3092c554e7",
     "showTitle": false,
     "tableResultSettingsMap": {},
     "title": ""
    }
   },
   "outputs": [
    {
     "name": "stdout",
     "output_type": "stream",
     "text": [
      "root\n",
      " |-- employeeID: integer (nullable = true)\n",
      " |-- name: string (nullable = true)\n",
      " |-- department: string (nullable = true)\n",
      " |-- role: string (nullable = true)\n",
      " |-- email: string (nullable = true)\n",
      " |-- hireDate: date (nullable = true)\n",
      " |-- status: string (nullable = true)\n",
      "\n"
     ]
    }
   ],
   "source": [
    "dfEmp.printSchema()"
   ]
  },
  {
   "cell_type": "code",
   "execution_count": 7,
   "metadata": {
    "application/vnd.databricks.v1+cell": {
     "cellMetadata": {
      "byteLimit": 2048000,
      "rowLimit": 10000
     },
     "inputWidgets": {},
     "nuid": "4bd8c675-d962-4cc6-86b0-1c72d5009770",
     "showTitle": false,
     "tableResultSettingsMap": {},
     "title": ""
    }
   },
   "outputs": [
    {
     "name": "stdout",
     "output_type": "stream",
     "text": [
      "root\n",
      " |-- taskID: integer (nullable = true)\n",
      " |-- employeeID: integer (nullable = true)\n",
      " |-- taskName: string (nullable = true)\n",
      " |-- taskDate: date (nullable = true)\n",
      " |-- tasksCompeleted: integer (nullable = true)\n",
      "\n"
     ]
    }
   ],
   "source": [
    "dfTas.printSchema()"
   ]
  },
  {
   "cell_type": "markdown",
   "metadata": {
    "application/vnd.databricks.v1+cell": {
     "cellMetadata": {},
     "inputWidgets": {},
     "nuid": "771d7023-0e55-4187-bf1d-b68ad3e41c0b",
     "showTitle": false,
     "tableResultSettingsMap": {},
     "title": ""
    }
   },
   "source": [
    "# **Cleaning**\n",
    "- Unable to drop Null from dfAtt(Attendance) because clockin and clockout abscent data reperesented as Null values"
   ]
  },
  {
   "cell_type": "code",
   "execution_count": 8,
   "metadata": {
    "application/vnd.databricks.v1+cell": {
     "cellMetadata": {
      "byteLimit": 2048000,
      "rowLimit": 10000
     },
     "inputWidgets": {},
     "nuid": "17bee827-a3f4-4608-acff-d9127dabb2ba",
     "showTitle": false,
     "tableResultSettingsMap": {},
     "title": ""
    }
   },
   "outputs": [],
   "source": [
    "dfEmp = dfEmp.dropna()\n",
    "dfTas = dfTas.dropna()"
   ]
  },
  {
   "cell_type": "markdown",
   "metadata": {},
   "source": [
    "# **Top 5 abscentees**"
   ]
  },
  {
   "cell_type": "code",
   "execution_count": null,
   "metadata": {},
   "outputs": [
    {
     "name": "stdout",
     "output_type": "stream",
     "text": [
      "+----------+-------------+------------+\n",
      "|employeeID|         name|AbscentCount|\n",
      "+----------+-------------+------------+\n",
      "|         3|Alice Johnson|           2|\n",
      "|         5|    Eva Green|           2|\n",
      "|         4|    Bob Brown|           1|\n",
      "|         2|   Jane Smith|           1|\n",
      "|         1|     John Doe|           0|\n",
      "+----------+-------------+------------+\n",
      "\n"
     ]
    }
   ],
   "source": [
    "dfAbs = dfEmp.join(dfAtt, on=\"employeeID\", how=\"inner\") \\\n",
    "             .groupBy(\"employeeID\") \\\n",
    "             .agg(\n",
    "                 F.sum(\"isAbscent\").alias(\"AbscentCount\")\n",
    "             ) \\\n",
    "             .join(dfEmp.select([\"employeeID\", \"name\"]), how=\"inner\", on=\"employeeID\") \\\n",
    "             .sort(\"AbscentCount\", ascending=False) \\\n",
    "             .limit(5) \\\n",
    "             .select([\"employeeID\", \"name\", \"AbscentCount\"])\n",
    "\n",
    "dfAbs.write.mode(\"overwrite\").csv(\"abscentees_top_5\")"
   ]
  },
  {
   "cell_type": "markdown",
   "metadata": {},
   "source": [
    "# **Lowest performing departments**"
   ]
  },
  {
   "cell_type": "code",
   "execution_count": 24,
   "metadata": {},
   "outputs": [
    {
     "name": "stdout",
     "output_type": "stream",
     "text": [
      "+----------+----------------------+\n",
      "|department|TasksProductivityScore|\n",
      "+----------+----------------------+\n",
      "|        HR|                    18|\n",
      "| Marketing|                    90|\n",
      "+----------+----------------------+\n",
      "\n"
     ]
    }
   ],
   "source": [
    "dfJoined = dfEmp.join(dfAtt, on=\"employeeID\", how=\"inner\") \\\n",
    "                .join(dfTas, on=\"employeeID\", how=\"inner\") \\\n",
    "                .groupBy(\"department\") \\\n",
    "                .agg(\n",
    "                    F.sum(\"tasksCompeleted\").alias(\"TasksProductivityScore\")\n",
    "                ) \\\n",
    "                .sort(\"TasksProductivityScore\", ascending=True) \\\n",
    "                .limit(2)\n",
    "\n",
    "dfJoined.write.mode(\"overwrite\").csv(\"lowest_performing_departments\")"
   ]
  },
  {
   "cell_type": "code",
   "execution_count": null,
   "metadata": {},
   "outputs": [],
   "source": []
  }
 ],
 "metadata": {
  "application/vnd.databricks.v1+notebook": {
   "computePreferences": null,
   "dashboards": [],
   "environmentMetadata": {
    "base_environment": "",
    "environment_version": "2"
   },
   "inputWidgetPreferences": null,
   "language": "python",
   "notebookMetadata": {
    "pythonIndentUnit": 4
   },
   "notebookName": "Untitled Notebook 2025-06-14 14:05:22",
   "widgets": {}
  },
  "kernelspec": {
   "display_name": "Python 3",
   "language": "python",
   "name": "python3"
  },
  "language_info": {
   "codemirror_mode": {
    "name": "ipython",
    "version": 3
   },
   "file_extension": ".py",
   "mimetype": "text/x-python",
   "name": "python",
   "nbconvert_exporter": "python",
   "pygments_lexer": "ipython3",
   "version": "3.11.4"
  }
 },
 "nbformat": 4,
 "nbformat_minor": 0
}
