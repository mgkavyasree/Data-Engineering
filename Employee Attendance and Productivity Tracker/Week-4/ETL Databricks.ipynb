{
 "cells": [
  {
   "cell_type": "markdown",
   "metadata": {
    "application/vnd.databricks.v1+cell": {
     "cellMetadata": {},
     "inputWidgets": {},
     "nuid": "94dc8403-e261-4874-ad2d-4b691d7b868c",
     "showTitle": false,
     "tableResultSettingsMap": {},
     "title": ""
    }
   },
   "source": [
    "#**Week -4**"
   ]
  },
  {
   "cell_type": "code",
   "execution_count": 0,
   "metadata": {
    "application/vnd.databricks.v1+cell": {
     "cellMetadata": {
      "byteLimit": 2048000,
      "rowLimit": 10000
     },
     "inputWidgets": {},
     "nuid": "2f9eddd8-4b09-41d4-a3c6-9268ad4970b5",
     "showTitle": false,
     "tableResultSettingsMap": {},
     "title": ""
    }
   },
   "outputs": [],
   "source": [
    "from pyspark.sql import SparkSession\n",
    "from pyspark.sql import functions as F"
   ]
  },
  {
   "cell_type": "code",
   "execution_count": 0,
   "metadata": {
    "application/vnd.databricks.v1+cell": {
     "cellMetadata": {
      "byteLimit": 2048000,
      "rowLimit": 10000
     },
     "inputWidgets": {},
     "nuid": "35e0a407-8be6-452f-880f-833276002cc7",
     "showTitle": false,
     "tableResultSettingsMap": {},
     "title": ""
    }
   },
   "outputs": [
    {
     "output_type": "execute_result",
     "data": {
      "text/plain": [
       "<pyspark.sql.connect.session.SparkSession at 0xfff044428050>"
      ]
     },
     "execution_count": 7,
     "metadata": {},
     "output_type": "execute_result"
    }
   ],
   "source": [
    "spark = SparkSession.builder.appName(\"ETL\").getOrCreate()\n",
    "spark"
   ]
  },
  {
   "cell_type": "markdown",
   "metadata": {
    "application/vnd.databricks.v1+cell": {
     "cellMetadata": {},
     "inputWidgets": {},
     "nuid": "fa54b001-ccf5-4a3f-955a-f8d651e114b5",
     "showTitle": false,
     "tableResultSettingsMap": {},
     "title": ""
    }
   },
   "source": [
    "#**Loading data**"
   ]
  },
  {
   "cell_type": "code",
   "execution_count": 0,
   "metadata": {
    "application/vnd.databricks.v1+cell": {
     "cellMetadata": {
      "byteLimit": 2048000,
      "rowLimit": 10000
     },
     "inputWidgets": {},
     "nuid": "e8832f99-f7f1-4c03-93af-67ded0d4257b",
     "showTitle": false,
     "tableResultSettingsMap": {},
     "title": ""
    }
   },
   "outputs": [],
   "source": [
    "dfAtt = spark.read.csv(r\"dbfs:/Volumes/workspace/default/datasets_fo/attendance.csv\", header=True, inferSchema=True)\n",
    "dfEmp = spark.read.csv(r\"dbfs:/Volumes/workspace/default/datasets_fo/employees.csv\", header=True, inferSchema=True)\n",
    "dfTas = spark.read.csv(r\"/Volumes/workspace/default/datasets_fo/tasks.csv\", header=True, inferSchema=True)"
   ]
  },
  {
   "cell_type": "code",
   "execution_count": 0,
   "metadata": {
    "application/vnd.databricks.v1+cell": {
     "cellMetadata": {
      "byteLimit": 2048000,
      "rowLimit": 10000
     },
     "inputWidgets": {},
     "nuid": "5be1f963-e68c-495e-805e-7bf74697a560",
     "showTitle": false,
     "tableResultSettingsMap": {},
     "title": ""
    }
   },
   "outputs": [
    {
     "output_type": "stream",
     "name": "stdout",
     "output_type": "stream",
     "text": [
      "root\n |-- attendanceID: integer (nullable = true)\n |-- employeeID: integer (nullable = true)\n |-- date: string (nullable = true)\n |-- clockIN: string (nullable = true)\n |-- clockOUT: string (nullable = true)\n |-- isLate: integer (nullable = true)\n |-- isAbscent: integer (nullable = true)\n\n"
     ]
    }
   ],
   "source": [
    "dfAtt.printSchema()"
   ]
  },
  {
   "cell_type": "code",
   "execution_count": 0,
   "metadata": {
    "application/vnd.databricks.v1+cell": {
     "cellMetadata": {
      "byteLimit": 2048000,
      "rowLimit": 10000
     },
     "inputWidgets": {},
     "nuid": "442afd3c-1e7d-46c1-a487-5a3092c554e7",
     "showTitle": false,
     "tableResultSettingsMap": {},
     "title": ""
    }
   },
   "outputs": [
    {
     "output_type": "stream",
     "name": "stdout",
     "output_type": "stream",
     "text": [
      "root\n |-- employeeID: integer (nullable = true)\n |-- name: string (nullable = true)\n |-- department: string (nullable = true)\n |-- role: string (nullable = true)\n |-- email: string (nullable = true)\n |-- hireDate: date (nullable = true)\n |-- status: string (nullable = true)\n\n"
     ]
    }
   ],
   "source": [
    "dfEmp.printSchema()"
   ]
  },
  {
   "cell_type": "code",
   "execution_count": 0,
   "metadata": {
    "application/vnd.databricks.v1+cell": {
     "cellMetadata": {
      "byteLimit": 2048000,
      "rowLimit": 10000
     },
     "inputWidgets": {},
     "nuid": "4bd8c675-d962-4cc6-86b0-1c72d5009770",
     "showTitle": false,
     "tableResultSettingsMap": {},
     "title": ""
    }
   },
   "outputs": [
    {
     "output_type": "stream",
     "name": "stdout",
     "output_type": "stream",
     "text": [
      "root\n |-- taskID: integer (nullable = true)\n |-- employeeID: integer (nullable = true)\n |-- taskName: string (nullable = true)\n |-- taskDate: date (nullable = true)\n |-- tasksCompeleted: integer (nullable = true)\n\n"
     ]
    }
   ],
   "source": [
    "dfTas.printSchema()"
   ]
  },
  {
   "cell_type": "markdown",
   "metadata": {
    "application/vnd.databricks.v1+cell": {
     "cellMetadata": {},
     "inputWidgets": {},
     "nuid": "771d7023-0e55-4187-bf1d-b68ad3e41c0b",
     "showTitle": false,
     "tableResultSettingsMap": {},
     "title": ""
    }
   },
   "source": [
    "#**Cleaning**\n",
    "- Unable to drop Null from dfAtt(Attendance) because clockin and clockout abscent data reperesented as Null values"
   ]
  },
  {
   "cell_type": "code",
   "execution_count": 0,
   "metadata": {
    "application/vnd.databricks.v1+cell": {
     "cellMetadata": {
      "byteLimit": 2048000,
      "rowLimit": 10000
     },
     "inputWidgets": {},
     "nuid": "17bee827-a3f4-4608-acff-d9127dabb2ba",
     "showTitle": false,
     "tableResultSettingsMap": {},
     "title": ""
    }
   },
   "outputs": [],
   "source": [
    "dfEmp = dfEmp.dropna()\n",
    "dfTas = dfTas.dropna()"
   ]
  },
  {
   "cell_type": "markdown",
   "metadata": {
    "application/vnd.databricks.v1+cell": {
     "cellMetadata": {},
     "inputWidgets": {},
     "nuid": "151313e1-0dda-429c-87c4-8a144cf60c59",
     "showTitle": false,
     "tableResultSettingsMap": {},
     "title": ""
    }
   },
   "source": [
    "#**Combining Data**"
   ]
  },
  {
   "cell_type": "code",
   "execution_count": 0,
   "metadata": {
    "application/vnd.databricks.v1+cell": {
     "cellMetadata": {
      "byteLimit": 2048000,
      "rowLimit": 10000
     },
     "inputWidgets": {},
     "nuid": "560c18c2-b75d-488d-9b63-d54f4ddefbe4",
     "showTitle": false,
     "tableResultSettingsMap": {},
     "title": ""
    }
   },
   "outputs": [],
   "source": [
    "dfJoined = dfAtt.join(dfEmp, on=\"employeeID\", how=\"inner\").join(dfTas, on=\"employeeID\", how=\"inner\")\n"
   ]
  },
  {
   "cell_type": "markdown",
   "metadata": {
    "application/vnd.databricks.v1+cell": {
     "cellMetadata": {},
     "inputWidgets": {},
     "nuid": "9af45427-56c9-44d8-b547-0ab65039b2cb",
     "showTitle": false,
     "tableResultSettingsMap": {},
     "title": ""
    }
   },
   "source": [
    "#**Department level metrics**"
   ]
  },
  {
   "cell_type": "code",
   "execution_count": 0,
   "metadata": {
    "application/vnd.databricks.v1+cell": {
     "cellMetadata": {},
     "inputWidgets": {},
     "nuid": "2fbb4d21-9a8f-46b7-a430-e79cd7ad684c",
     "showTitle": false,
     "tableResultSettingsMap": {},
     "title": ""
    }
   },
   "outputs": [],
   "source": [
    "dfJoined = dfJoined.filter(dfJoined.clockIN != \"NULL\")"
   ]
  },
  {
   "cell_type": "code",
   "execution_count": 0,
   "metadata": {
    "application/vnd.databricks.v1+cell": {
     "cellMetadata": {
      "byteLimit": 2048000,
      "rowLimit": 10000
     },
     "inputWidgets": {},
     "nuid": "1ae0ecb8-55d3-4044-8f0c-296bb371baf7",
     "showTitle": false,
     "tableResultSettingsMap": {},
     "title": ""
    }
   },
   "outputs": [],
   "source": [
    "dfJoined = dfJoined.withColumn(\n",
    "    \"hoursWorked\",\n",
    "    F.round(\n",
    "        F.when(\n",
    "            F.col(\"clockIN\") != \"NULL\",\n",
    "            F.unix_timestamp(F.col(\"clockOUT\"), \"dd-MM-yyyy HH:mm\") - F.unix_timestamp(F.col(\"clockIN\"), \"dd-MM-yyyy HH:mm\")\n",
    "        ).otherwise(0) / 3600,\n",
    "        2\n",
    "    )\n",
    "    ) \\\n",
    "    .withColumn(\n",
    "        \"productivityScore\", \n",
    "        F.when(F.col(\"hoursWorked\") > 0,(F.round(F.col(\"tasksCompeleted\") / F.col(\"hoursWorked\"), 2))).otherwise(0)\n",
    "    )"
   ]
  },
  {
   "cell_type": "code",
   "execution_count": 0,
   "metadata": {
    "application/vnd.databricks.v1+cell": {
     "cellMetadata": {
      "byteLimit": 2048000,
      "rowLimit": 10000
     },
     "inputWidgets": {},
     "nuid": "97f574b6-0ce6-4fa9-8c64-45bd6b351260",
     "showTitle": false,
     "tableResultSettingsMap": {},
     "title": ""
    }
   },
   "outputs": [
    {
     "output_type": "stream",
     "name": "stdout",
     "output_type": "stream",
     "text": [
      "+-----------+---------+------------+----------------+------------------------+-------------------+\n| department|LateCount|AbscentCount|AverageWorkHours|AverageProductivityScore|TotalTasksCompleted|\n+-----------+---------+------------+----------------+------------------------+-------------------+\n|         HR|       12|          12|            5.38|                    0.04|                 18|\n|    Finance|       12|          12|            5.25|                    0.25|                108|\n|  Marketing|       18|           6|            6.73|                    0.26|                 90|\n|Engineering|       24|           6|            7.35|                    0.48|                300|\n+-----------+---------+------------+----------------+------------------------+-------------------+\n\n"
     ]
    }
   ],
   "source": [
    "deptMetrics = dfJoined.groupBy(\"department\") \\\n",
    "    .agg(\n",
    "        F.sum(\"isLate\").alias(\"LateCount\"),\n",
    "        F.sum(\"isAbscent\").alias(\"AbscentCount\"),\n",
    "        F.round(F.mean(\"hoursWorked\"), 2).alias(\"AverageWorkHours\"),\n",
    "        F.round(F.mean(\"productivityScore\"), 2).alias(\"AverageProductivityScore\"),\n",
    "        F.sum(\"tasksCompeleted\").alias(\"TotalTasksCompleted\")\n",
    "    )\n",
    "    \n",
    "deptMetrics.show()"
   ]
  },
  {
   "cell_type": "markdown",
   "metadata": {
    "application/vnd.databricks.v1+cell": {
     "cellMetadata": {},
     "inputWidgets": {},
     "nuid": "0f06fe9f-2fa2-4ccf-8cce-7b3db4bda6f3",
     "showTitle": false,
     "tableResultSettingsMap": {},
     "title": ""
    }
   },
   "source": [
    "#**Saving file**"
   ]
  },
  {
   "cell_type": "code",
   "execution_count": 0,
   "metadata": {
    "application/vnd.databricks.v1+cell": {
     "cellMetadata": {
      "byteLimit": 2048000,
      "rowLimit": 10000
     },
     "inputWidgets": {},
     "nuid": "dbcfa2fa-52bf-4cbb-a56a-ea72d47a77f8",
     "showTitle": false,
     "tableResultSettingsMap": {},
     "title": ""
    }
   },
   "outputs": [],
   "source": [
    "deptMetrics.write.mode(\"overwrite\").csv(\"dbfs:/Volumes/workspace/default/datasets_fo/deptMetrics.csv\")"
   ]
  },
  {
   "cell_type": "markdown",
   "metadata": {
    "application/vnd.databricks.v1+cell": {
     "cellMetadata": {},
     "inputWidgets": {},
     "nuid": "81f642f9-dd31-4356-b35c-1678054054ba",
     "showTitle": false,
     "tableResultSettingsMap": {},
     "title": ""
    }
   },
   "source": [
    "#**Basic visualization**"
   ]
  },
  {
   "cell_type": "code",
   "execution_count": 0,
   "metadata": {
    "application/vnd.databricks.v1+cell": {
     "cellMetadata": {
      "byteLimit": 2048000,
      "rowLimit": 10000
     },
     "inputWidgets": {},
     "nuid": "b4ae3ad0-05eb-4ab2-b98c-08e008fa81d2",
     "showTitle": false,
     "tableResultSettingsMap": {},
     "title": ""
    }
   },
   "outputs": [
    {
     "output_type": "execute_result",
     "data": {
      "text/plain": [
       "<Axes: xlabel='department'>"
      ]
     },
     "execution_count": 87,
     "metadata": {},
     "output_type": "execute_result"
    },
    {
     "output_type": "display_data",
     "data": {
      "image/png": "[encoded data removed]",
      "text/plain": [
       "<Figure size 1000x600 with 1 Axes>"
      ]
     },
     "metadata": {},
     "output_type": "display_data"
    }
   ],
   "source": [
    "visual = deptMetrics.toPandas()\n",
    "visual.plot.bar(x=\"department\", y=[\"LateCount\", \"AbscentCount\"], figsize=(10,6))"
   ]
  },
  {
   "cell_type": "code",
   "execution_count": 0,
   "metadata": {
    "application/vnd.databricks.v1+cell": {
     "cellMetadata": {
      "byteLimit": 2048000,
      "rowLimit": 10000
     },
     "inputWidgets": {},
     "nuid": "4cb30005-70b2-4b52-9f1e-80725b0205ba",
     "showTitle": false,
     "tableResultSettingsMap": {},
     "title": ""
    }
   },
   "outputs": [
    {
     "output_type": "execute_result",
     "data": {
      "text/plain": [
       "<Axes: xlabel='department'>"
      ]
     },
     "execution_count": 86,
     "metadata": {},
     "output_type": "execute_result"
    },
    {
     "output_type": "display_data",
     "data": {
      "image/png": "[encoded data removed]",
      "text/plain": [
       "<Figure size 1000x600 with 1 Axes>"
      ]
     },
     "metadata": {},
     "output_type": "display_data"
    }
   ],
   "source": [
    "visual.plot.bar(x=\"department\", y=[\"AverageWorkHours\", \"AverageProductivityScore\"], figsize=(10,6))"
   ]
  },
  {
   "cell_type": "code",
   "execution_count": 0,
   "metadata": {
    "application/vnd.databricks.v1+cell": {
     "cellMetadata": {
      "byteLimit": 2048000,
      "rowLimit": 10000
     },
     "inputWidgets": {},
     "nuid": "92c77966-4c44-4685-b330-b8e1c1ed74ac",
     "showTitle": false,
     "tableResultSettingsMap": {},
     "title": ""
    }
   },
   "outputs": [
    {
     "output_type": "execute_result",
     "data": {
      "text/plain": [
       "<Axes: ylabel='TotalTasksCompleted'>"
      ]
     },
     "execution_count": 89,
     "metadata": {},
     "output_type": "execute_result"
    },
    {
     "output_type": "display_data",
     "data": {
      "image/png": "[encoded data removed]",
      "text/plain": [
       "<Figure size 1000x600 with 1 Axes>"
      ]
     },
     "metadata": {},
     "output_type": "display_data"
    }
   ],
   "source": [
    "visual.set_index(\"department\")[\"TotalTasksCompleted\"].plot.pie(\n",
    "    autopct=\"%1.1f%%\", figsize=(10, 6)\n",
    ")"
   ]
  },
  {
   "cell_type": "markdown",
   "metadata": {
    "application/vnd.databricks.v1+cell": {
     "cellMetadata": {},
     "inputWidgets": {},
     "nuid": "df918861-3c1a-4c90-8abe-3101f7c44f45",
     "showTitle": false,
     "tableResultSettingsMap": {},
     "title": ""
    }
   },
   "source": [
    "#**Deliverables**\n",
    "- ETL databricks notebook\n",
    "- Exported KPI's"
   ]
  },
  {
   "cell_type": "code",
   "execution_count": 0,
   "metadata": {
    "application/vnd.databricks.v1+cell": {
     "cellMetadata": {
      "byteLimit": 2048000,
      "rowLimit": 10000
     },
     "inputWidgets": {},
     "nuid": "30ef886a-5c81-47cb-b90c-c255322d95cd",
     "showTitle": false,
     "tableResultSettingsMap": {},
     "title": ""
    }
   },
   "outputs": [],
   "source": [
    "# 1. Full ETL databricks ipynb notbook is attached to git repo under week-4 folder"
   ]
  },
  {
   "cell_type": "code",
   "execution_count": 0,
   "metadata": {
    "application/vnd.databricks.v1+cell": {
     "cellMetadata": {
      "byteLimit": 2048000,
      "rowLimit": 10000
     },
     "inputWidgets": {},
     "nuid": "c5108da2-dfc1-4ce3-bc0b-ad5eecebdb07",
     "showTitle": false,
     "tableResultSettingsMap": {},
     "title": ""
    }
   },
   "outputs": [],
   "source": [
    "# 2. Exporting task and attendance KPI's\n",
    "deptMetrics.select([\"department\", \"LateCount\", \"AbscentCount\", \"AverageWorkHours\"]).write.mode(\"overwrite\").csv(r\"dbfs:/Volumes/workspace/default/datasets_fo/attendanceKPI.csv\")\n",
    "deptMetrics.select([\"department\", \"AverageProductivityScore\", \"TotalTasksCompleted\"]).write.mode(\"overwrite\").csv(r\"dbfs:/Volumes/workspace/default/datasets_fo/taskKPI.csv\")"
   ]
  }
 ],
 "metadata": {
  "application/vnd.databricks.v1+notebook": {
   "computePreferences": null,
   "dashboards": [],
   "environmentMetadata": {
    "base_environment": "",
    "environment_version": "2"
   },
   "inputWidgetPreferences": null,
   "language": "python",
   "notebookMetadata": {
    "pythonIndentUnit": 4
   },
   "notebookName": "Untitled Notebook 2025-06-14 14:05:22",
   "widgets": {}
  },
  "language_info": {
   "name": "python"
  }
 },
 "nbformat": 4,
 "nbformat_minor": 0
}