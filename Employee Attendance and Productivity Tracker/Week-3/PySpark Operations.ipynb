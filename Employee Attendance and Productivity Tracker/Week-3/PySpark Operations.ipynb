{
  "cells": [
    {
      "cell_type": "markdown",
      "source": [
        "# **Week-3 Pyspark**"
      ],
      "metadata": {
        "id": "zUUgFPestJMa"
      },
      "id": "zUUgFPestJMa"
    },
    {
      "cell_type": "code",
      "source": [
        "from pyspark.sql import SparkSession\n",
        "from pyspark.sql import functions as F"
      ],
      "metadata": {
        "id": "Bb_4Hi9krIW0"
      },
      "id": "Bb_4Hi9krIW0",
      "execution_count": 37,
      "outputs": []
    },
    {
      "cell_type": "markdown",
      "source": [
        "# **Initalizing spark session**"
      ],
      "metadata": {
        "id": "rB-MpIcgvctx"
      },
      "id": "rB-MpIcgvctx"
    },
    {
      "cell_type": "code",
      "source": [
        "spark = SparkSession.builder.appName(\"week-3\").getOrCreate()\n",
        "spark"
      ],
      "metadata": {
        "colab": {
          "base_uri": "https://localhost:8080/",
          "height": 219
        },
        "id": "gbPBlTrLuu8d",
        "outputId": "8cebf082-b8d6-4f4d-f20b-0e181f12730d"
      },
      "id": "gbPBlTrLuu8d",
      "execution_count": 38,
      "outputs": [
        {
          "output_type": "execute_result",
          "data": {
            "text/plain": [
              "<pyspark.sql.session.SparkSession at 0x7dd443723dd0>"
            ],
            "text/html": [
              "\n",
              "            <div>\n",
              "                <p><b>SparkSession - in-memory</b></p>\n",
              "                \n",
              "        <div>\n",
              "            <p><b>SparkContext</b></p>\n",
              "\n",
              "            <p><a href=\"http://6f1f0d7f945b:4040\">Spark UI</a></p>\n",
              "\n",
              "            <dl>\n",
              "              <dt>Version</dt>\n",
              "                <dd><code>v3.5.1</code></dd>\n",
              "              <dt>Master</dt>\n",
              "                <dd><code>local[*]</code></dd>\n",
              "              <dt>AppName</dt>\n",
              "                <dd><code>week-3</code></dd>\n",
              "            </dl>\n",
              "        </div>\n",
              "        \n",
              "            </div>\n",
              "        "
            ]
          },
          "metadata": {},
          "execution_count": 38
        }
      ]
    },
    {
      "cell_type": "markdown",
      "source": [
        "# **Loading large datasets**\n",
        "---\n",
        "Same as `week-2` datasets but contains more records with little alterations\n",
        "\n",
        "\n"
      ],
      "metadata": {
        "id": "AjD8-onrvilj"
      },
      "id": "AjD8-onrvilj"
    },
    {
      "cell_type": "code",
      "source": [
        "dfAtt = spark.read.csv(r\"/content/attendance.csv\", header=True, inferSchema=True)\n",
        "dfEmp = spark.read.csv(r\"/content/employees.csv\", header=True, inferSchema=True)\n",
        "dfTas = spark.read.csv(r\"/content/tasks.csv\", header=True, inferSchema=True)"
      ],
      "metadata": {
        "id": "7tpLWma_vE0w"
      },
      "id": "7tpLWma_vE0w",
      "execution_count": 39,
      "outputs": []
    },
    {
      "cell_type": "markdown",
      "source": [
        "# **Printing Schema**"
      ],
      "metadata": {
        "id": "gkQZHtmkRZgP"
      },
      "id": "gkQZHtmkRZgP"
    },
    {
      "cell_type": "code",
      "source": [
        "dfAtt.printSchema()"
      ],
      "metadata": {
        "colab": {
          "base_uri": "https://localhost:8080/"
        },
        "id": "QdBLhH7tRcmT",
        "outputId": "2e88ec38-34c0-4a25-af5d-88ee3420648e"
      },
      "id": "QdBLhH7tRcmT",
      "execution_count": 52,
      "outputs": [
        {
          "output_type": "stream",
          "name": "stdout",
          "text": [
            "root\n",
            " |-- attendanceID: integer (nullable = true)\n",
            " |-- employeeID: integer (nullable = true)\n",
            " |-- date: string (nullable = true)\n",
            " |-- clockIN: string (nullable = true)\n",
            " |-- clockOUT: string (nullable = true)\n",
            " |-- isLate: integer (nullable = true)\n",
            " |-- isAbscent: integer (nullable = true)\n",
            "\n"
          ]
        }
      ]
    },
    {
      "cell_type": "code",
      "source": [
        "dfEmp.printSchema()"
      ],
      "metadata": {
        "colab": {
          "base_uri": "https://localhost:8080/"
        },
        "id": "ZInTfYFbRfNB",
        "outputId": "3acce0a0-2d71-4c8c-fb9c-5e4fe5a480a3"
      },
      "id": "ZInTfYFbRfNB",
      "execution_count": 41,
      "outputs": [
        {
          "output_type": "stream",
          "name": "stdout",
          "text": [
            "root\n",
            " |-- employeeID: integer (nullable = true)\n",
            " |-- name: string (nullable = true)\n",
            " |-- department: string (nullable = true)\n",
            " |-- role: string (nullable = true)\n",
            " |-- email: string (nullable = true)\n",
            " |-- hireDate: date (nullable = true)\n",
            " |-- status: string (nullable = true)\n",
            "\n"
          ]
        }
      ]
    },
    {
      "cell_type": "code",
      "source": [
        "dfTas.printSchema()"
      ],
      "metadata": {
        "colab": {
          "base_uri": "https://localhost:8080/"
        },
        "id": "i6xXGCxfRiLn",
        "outputId": "900404d8-8761-42dd-eb27-8747a9fadced"
      },
      "id": "i6xXGCxfRiLn",
      "execution_count": 42,
      "outputs": [
        {
          "output_type": "stream",
          "name": "stdout",
          "text": [
            "root\n",
            " |-- taskID: integer (nullable = true)\n",
            " |-- employeeID: integer (nullable = true)\n",
            " |-- taskName: string (nullable = true)\n",
            " |-- taskDate: date (nullable = true)\n",
            " |-- tasksCompeleted: integer (nullable = true)\n",
            "\n"
          ]
        }
      ]
    },
    {
      "cell_type": "markdown",
      "source": [
        "# **Filtering late login and abscences**"
      ],
      "metadata": {
        "id": "G4WbqxzYRR_J"
      },
      "id": "G4WbqxzYRR_J"
    },
    {
      "cell_type": "code",
      "source": [
        "dfAtt.filter((dfAtt.isLate == 1) | (dfAtt.isAbscent == 1)) \\\n",
        "  .join(dfEmp.select([\"name\", \"employeeID\"]), on=\"employeeID\", how=\"inner\") \\\n",
        "  .withColumn(\"Attendance\", F.when(F.col(\"islate\") == 1, \"Late Login\").otherwise(\"Abscent\")) \\\n",
        "  .select([\"name\", \"Attendance\", \"date\"]) \\\n",
        "  .show()"
      ],
      "metadata": {
        "colab": {
          "base_uri": "https://localhost:8080/"
        },
        "id": "ncUL49yMLiOV",
        "outputId": "ea4394f7-43fc-493a-a90b-80c9ac304af8"
      },
      "id": "ncUL49yMLiOV",
      "execution_count": 43,
      "outputs": [
        {
          "output_type": "stream",
          "name": "stdout",
          "text": [
            "+-------------+----------+----------+\n",
            "|         name|Attendance|      date|\n",
            "+-------------+----------+----------+\n",
            "|     John Doe|Late Login|01-06-2024|\n",
            "|Alice Johnson|Late Login|01-06-2024|\n",
            "|    Eva Green|   Abscent|01-06-2024|\n",
            "|   Jane Smith|Late Login|02-06-2024|\n",
            "|Alice Johnson|   Abscent|02-06-2024|\n",
            "|    Eva Green|Late Login|02-06-2024|\n",
            "|   Jane Smith|   Abscent|03-06-2024|\n",
            "|    Bob Brown|Late Login|03-06-2024|\n",
            "|     John Doe|Late Login|04-06-2024|\n",
            "|Alice Johnson|Late Login|04-06-2024|\n",
            "|    Bob Brown|   Abscent|04-06-2024|\n",
            "|   Jane Smith|Late Login|05-06-2024|\n",
            "|Alice Johnson|   Abscent|05-06-2024|\n",
            "|    Eva Green|Late Login|05-06-2024|\n",
            "|   Jane Smith|Late Login|06-06-2024|\n",
            "|    Bob Brown|Late Login|06-06-2024|\n",
            "|    Eva Green|   Abscent|06-06-2024|\n",
            "+-------------+----------+----------+\n",
            "\n"
          ]
        }
      ]
    },
    {
      "cell_type": "markdown",
      "source": [
        "# **Average work hours and productivity**"
      ],
      "metadata": {
        "id": "et6D92amUv0F"
      },
      "id": "et6D92amUv0F"
    },
    {
      "cell_type": "code",
      "source": [
        "dfAtt_cleaned = dfAtt.filter(F.col(\"clockIN\") != \"NULL\")"
      ],
      "metadata": {
        "id": "wcMUtA3-VKys"
      },
      "id": "wcMUtA3-VKys",
      "execution_count": 46,
      "outputs": []
    },
    {
      "cell_type": "code",
      "source": [
        "dfJoined = dfAtt_cleaned.join(dfEmp, on=\"employeeID\", how=\"inner\").join(dfTas, on=\"employeeID\", how=\"inner\")\n",
        "dfJoined = dfJoined \\\n",
        "    .withColumn(\n",
        "     \"workHours\",\n",
        "    F.round(\n",
        "        (F.unix_timestamp(F.col(\"clockOUT\"), \"dd-MM-yyyy HH:mm\") - F.unix_timestamp(F.col(\"clockIN\"), \"dd-MM-yyyy HH:mm\")) / 3600,\n",
        "        2\n",
        "    )) \\\n",
        "    .withColumn(\"productivityScore\", F.round(F.col(\"tasksCompeleted\") / F.col(\"workHours\"), 4))"
      ],
      "metadata": {
        "id": "8lZqOkqASQz-"
      },
      "id": "8lZqOkqASQz-",
      "execution_count": 67,
      "outputs": []
    },
    {
      "cell_type": "code",
      "source": [
        "dfJoined.groupBy(\"department\").agg(\n",
        "    F.round(F.mean(\"workHours\"), 2).alias(\"averageWorkHours\"),\n",
        "    F.round(F.mean(\"productivityScore\"), 2).alias(\"averageProductivityScore\")\n",
        ").show()"
      ],
      "metadata": {
        "colab": {
          "base_uri": "https://localhost:8080/"
        },
        "id": "FC9QyS2ldHWd",
        "outputId": "880ab30d-a7d7-42e8-e7dc-dc4e10a9b150"
      },
      "id": "FC9QyS2ldHWd",
      "execution_count": 74,
      "outputs": [
        {
          "output_type": "stream",
          "name": "stdout",
          "text": [
            "+-----------+----------------+------------------------+\n",
            "| department|averageWorkHours|averageProductivityScore|\n",
            "+-----------+----------------+------------------------+\n",
            "|Engineering|            8.02|                    0.52|\n",
            "|         HR|            8.08|                    0.06|\n",
            "|    Finance|            7.87|                    0.38|\n",
            "|  Marketing|            8.07|                    0.31|\n",
            "+-----------+----------------+------------------------+\n",
            "\n"
          ]
        }
      ]
    },
    {
      "cell_type": "markdown",
      "source": [
        "# **Deliverables**\n",
        "\n",
        "1.   Pyspark script with filtering, groupby aggregations\n",
        "2.   Showing attendance issuses by department\n",
        "\n"
      ],
      "metadata": {
        "id": "J31FxIgpeAL4"
      },
      "id": "J31FxIgpeAL4"
    },
    {
      "cell_type": "code",
      "source": [
        "# 1. pyspark script has attached in .ipynb format in git repo"
      ],
      "metadata": {
        "id": "uOw93kjSbMdK"
      },
      "id": "uOw93kjSbMdK",
      "execution_count": 75,
      "outputs": []
    },
    {
      "cell_type": "code",
      "source": [
        "# 2. attendance issues by department\n",
        "dfJoined_2 = dfAtt.join(dfEmp, on=\"employeeID\", how=\"inner\")\n",
        "\n",
        "dfJoined_2.select([\"department\", \"isLate\", \"isAbscent\"]) \\\n",
        "  .filter((F.col(\"isLate\") == 1) | (F.col(\"isAbscent\") == 1)) \\\n",
        "  .groupby(\"department\") \\\n",
        "  .agg(\n",
        "      F.sum(\"isLate\").alias(\"lateCount\"),\n",
        "      F.sum(\"isAbscent\").alias(\"abscentCount\")\n",
        "  ) \\\n",
        "  .withColumn(\"issuesCount\", F.col(\"lateCount\") + F.col(\"abscentCount\")) \\\n",
        "  .show()"
      ],
      "metadata": {
        "colab": {
          "base_uri": "https://localhost:8080/"
        },
        "id": "lCDlz5WvebhE",
        "outputId": "1943642c-70d8-4008-e62a-e293de597b85"
      },
      "id": "lCDlz5WvebhE",
      "execution_count": 80,
      "outputs": [
        {
          "output_type": "stream",
          "name": "stdout",
          "text": [
            "+-----------+---------+------------+-----------+\n",
            "| department|lateCount|abscentCount|issuesCount|\n",
            "+-----------+---------+------------+-----------+\n",
            "|Engineering|        4|           1|          5|\n",
            "|         HR|        2|           2|          4|\n",
            "|    Finance|        2|           2|          4|\n",
            "|  Marketing|        3|           1|          4|\n",
            "+-----------+---------+------------+-----------+\n",
            "\n"
          ]
        }
      ]
    },
    {
      "cell_type": "code",
      "source": [],
      "metadata": {
        "id": "m3qqz2nFfWfI"
      },
      "id": "m3qqz2nFfWfI",
      "execution_count": null,
      "outputs": []
    }
  ],
  "metadata": {
    "kernelspec": {
      "display_name": "Python 3",
      "language": "python",
      "name": "python3"
    },
    "language_info": {
      "codemirror_mode": {
        "name": "ipython",
        "version": 3
      },
      "file_extension": ".py",
      "mimetype": "text/x-python",
      "name": "python",
      "nbconvert_exporter": "python",
      "pygments_lexer": "ipython3",
      "version": "3.11.4"
    },
    "colab": {
      "provenance": []
    }
  },
  "nbformat": 4,
  "nbformat_minor": 5
}