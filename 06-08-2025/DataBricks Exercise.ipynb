{
  "nbformat": 4,
  "nbformat_minor": 0,
  "metadata": {
    "colab": {
      "provenance": []
    },
    "kernelspec": {
      "name": "python3",
      "display_name": "Python 3"
    },
    "language_info": {
      "name": "python"
    }
  },
  "cells": [
    {
      "cell_type": "code",
      "source": [
        "data = [\n",
        "    (1, \"Alice\", \"Sales\", 80, 1200),\n",
        "    (2, \"Bob\", \"Marketing\", 50, 1500),\n",
        "    (3, \"Carol\", \"Sales\", 75, 1300),\n",
        "    (4, \"Dave\", \"Sales\", 70, 1400),\n",
        "    (5, \"Eve\", \"HR\", 60, 1000)\n",
        "]\n",
        "\n",
        "columns = [\"EmpID\", \"Name\", \"Department\", \"UnitsSold\", \"UnitPrice\"]\n",
        "\n",
        "df = spark.createDataFrame(data, columns)\n",
        "\n",
        "df.show()"
      ],
      "metadata": {
        "colab": {
          "base_uri": "https://localhost:8080/"
        },
        "id": "WTwrjN6kYohv",
        "outputId": "e5d88631-ecd5-448e-98f9-e0bdc569f53b"
      },
      "execution_count": 2,
      "outputs": [
        {
          "output_type": "stream",
          "name": "stdout",
          "text": [
            "+-----+-----+----------+---------+---------+\n",
            "|EmpID| Name|Department|UnitsSold|UnitPrice|\n",
            "+-----+-----+----------+---------+---------+\n",
            "|    1|Alice|     Sales|       80|     1200|\n",
            "|    2|  Bob| Marketing|       50|     1500|\n",
            "|    3|Carol|     Sales|       75|     1300|\n",
            "|    4| Dave|     Sales|       70|     1400|\n",
            "|    5|  Eve|        HR|       60|     1000|\n",
            "+-----+-----+----------+---------+---------+\n",
            "\n"
          ]
        }
      ]
    },
    {
      "cell_type": "markdown",
      "source": [
        "1. Show total number of employees"
      ],
      "metadata": {
        "id": "PZzNjJbCZeCp"
      }
    },
    {
      "cell_type": "code",
      "source": [
        "cnt = df.count()\n",
        "print(\"Total number of employees are \",cnt)"
      ],
      "metadata": {
        "colab": {
          "base_uri": "https://localhost:8080/"
        },
        "id": "7SjbYVrGZiLA",
        "outputId": "0d8e70f7-aba0-4a14-a91b-ae7e567e5fb5"
      },
      "execution_count": 4,
      "outputs": [
        {
          "output_type": "stream",
          "name": "stdout",
          "text": [
            "Total number of employees are  5\n"
          ]
        }
      ]
    },
    {
      "cell_type": "markdown",
      "source": [
        "2. Add new column TotalSales = UnitsSold * UnitPrice"
      ],
      "metadata": {
        "id": "M_C4jR3GZvhz"
      }
    },
    {
      "cell_type": "code",
      "source": [
        "from pyspark.sql.functions import col\n",
        "\n",
        "df = df.withColumn(\"TotalSales\", col(\"UnitsSold\") * col(\"UnitPrice\"))\n",
        "df.show()"
      ],
      "metadata": {
        "colab": {
          "base_uri": "https://localhost:8080/"
        },
        "id": "eCmPcwDTZ32s",
        "outputId": "4df8aa07-bd38-46b0-856b-a4aa3c8fc0f1"
      },
      "execution_count": 5,
      "outputs": [
        {
          "output_type": "stream",
          "name": "stdout",
          "text": [
            "+-----+-----+----------+---------+---------+----------+\n",
            "|EmpID| Name|Department|UnitsSold|UnitPrice|TotalSales|\n",
            "+-----+-----+----------+---------+---------+----------+\n",
            "|    1|Alice|     Sales|       80|     1200|     96000|\n",
            "|    2|  Bob| Marketing|       50|     1500|     75000|\n",
            "|    3|Carol|     Sales|       75|     1300|     97500|\n",
            "|    4| Dave|     Sales|       70|     1400|     98000|\n",
            "|    5|  Eve|        HR|       60|     1000|     60000|\n",
            "+-----+-----+----------+---------+---------+----------+\n",
            "\n"
          ]
        }
      ]
    },
    {
      "cell_type": "markdown",
      "source": [
        "3. Show only Sales department employees with UnitSold > 70"
      ],
      "metadata": {
        "id": "vJPQ3YQLaGNL"
      }
    },
    {
      "cell_type": "code",
      "source": [
        "df.filter((col(\"Department\") == \"Sales\") & (col(\"UnitsSold\") > 70)).show()"
      ],
      "metadata": {
        "colab": {
          "base_uri": "https://localhost:8080/"
        },
        "id": "pq7doUc8aNtj",
        "outputId": "894d9770-e1a4-4d86-e359-e88f734277d8"
      },
      "execution_count": 6,
      "outputs": [
        {
          "output_type": "stream",
          "name": "stdout",
          "text": [
            "+-----+-----+----------+---------+---------+----------+\n",
            "|EmpID| Name|Department|UnitsSold|UnitPrice|TotalSales|\n",
            "+-----+-----+----------+---------+---------+----------+\n",
            "|    1|Alice|     Sales|       80|     1200|     96000|\n",
            "|    3|Carol|     Sales|       75|     1300|     97500|\n",
            "+-----+-----+----------+---------+---------+----------+\n",
            "\n"
          ]
        }
      ]
    },
    {
      "cell_type": "markdown",
      "source": [
        "4. Find the employee with the highest total sales"
      ],
      "metadata": {
        "id": "k8DeC4WWaXgx"
      }
    },
    {
      "cell_type": "code",
      "source": [
        "df.orderBy(col(\"TotalSales\").desc()).limit(1).show()"
      ],
      "metadata": {
        "colab": {
          "base_uri": "https://localhost:8080/"
        },
        "id": "x1CuE_pgaeAs",
        "outputId": "1f2ce8e8-146a-4e61-c32a-7493f40c5439"
      },
      "execution_count": 7,
      "outputs": [
        {
          "output_type": "stream",
          "name": "stdout",
          "text": [
            "+-----+----+----------+---------+---------+----------+\n",
            "|EmpID|Name|Department|UnitsSold|UnitPrice|TotalSales|\n",
            "+-----+----+----------+---------+---------+----------+\n",
            "|    4|Dave|     Sales|       70|     1400|     98000|\n",
            "+-----+----+----------+---------+---------+----------+\n",
            "\n"
          ]
        }
      ]
    },
    {
      "cell_type": "markdown",
      "source": [
        "5. Sort employees by TotalSales in descending order"
      ],
      "metadata": {
        "id": "SL0vuXtdasES"
      }
    },
    {
      "cell_type": "code",
      "source": [
        "df.orderBy(col(\"TotalSales\").desc()).show()"
      ],
      "metadata": {
        "colab": {
          "base_uri": "https://localhost:8080/"
        },
        "id": "oEpVutwGas9n",
        "outputId": "ea0f6625-5ece-4fc6-fe0c-2fdf2c3c789b"
      },
      "execution_count": 8,
      "outputs": [
        {
          "output_type": "stream",
          "name": "stdout",
          "text": [
            "+-----+-----+----------+---------+---------+----------+\n",
            "|EmpID| Name|Department|UnitsSold|UnitPrice|TotalSales|\n",
            "+-----+-----+----------+---------+---------+----------+\n",
            "|    4| Dave|     Sales|       70|     1400|     98000|\n",
            "|    3|Carol|     Sales|       75|     1300|     97500|\n",
            "|    1|Alice|     Sales|       80|     1200|     96000|\n",
            "|    2|  Bob| Marketing|       50|     1500|     75000|\n",
            "|    5|  Eve|        HR|       60|     1000|     60000|\n",
            "+-----+-----+----------+---------+---------+----------+\n",
            "\n"
          ]
        }
      ]
    }
  ]
}