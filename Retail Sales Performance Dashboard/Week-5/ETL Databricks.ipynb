{
 "cells": [
  {
   "cell_type": "markdown",
   "metadata": {
    "application/vnd.databricks.v1+cell": {
     "cellMetadata": {},
     "inputWidgets": {},
     "nuid": "94dc8403-e261-4874-ad2d-4b691d7b868c",
     "showTitle": false,
     "tableResultSettingsMap": {},
     "title": ""
    }
   },
   "source": [
    "# **Week -5**"
   ]
  },
  {
   "cell_type": "code",
   "execution_count": 1,
   "metadata": {
    "application/vnd.databricks.v1+cell": {
     "cellMetadata": {
      "byteLimit": 2048000,
      "rowLimit": 10000
     },
     "inputWidgets": {},
     "nuid": "2f9eddd8-4b09-41d4-a3c6-9268ad4970b5",
     "showTitle": false,
     "tableResultSettingsMap": {},
     "title": ""
    }
   },
   "outputs": [],
   "source": [
    "from pyspark.sql import SparkSession\n",
    "from pyspark.sql import functions as F"
   ]
  },
  {
   "cell_type": "code",
   "execution_count": 2,
   "metadata": {
    "application/vnd.databricks.v1+cell": {
     "cellMetadata": {
      "byteLimit": 2048000,
      "rowLimit": 10000
     },
     "inputWidgets": {},
     "nuid": "35e0a407-8be6-452f-880f-833276002cc7",
     "showTitle": false,
     "tableResultSettingsMap": {},
     "title": ""
    }
   },
   "outputs": [
    {
     "data": {
      "text/html": [
       "\n",
       "            <div>\n",
       "                <p><b>SparkSession - in-memory</b></p>\n",
       "                \n",
       "        <div>\n",
       "            <p><b>SparkContext</b></p>\n",
       "\n",
       "            <p><a href=\"http://192.168.1.4:4041\">Spark UI</a></p>\n",
       "\n",
       "            <dl>\n",
       "              <dt>Version</dt>\n",
       "                <dd><code>v4.0.0</code></dd>\n",
       "              <dt>Master</dt>\n",
       "                <dd><code>local[*]</code></dd>\n",
       "              <dt>AppName</dt>\n",
       "                <dd><code>ETL</code></dd>\n",
       "            </dl>\n",
       "        </div>\n",
       "        \n",
       "            </div>\n",
       "        "
      ],
      "text/plain": [
       "<pyspark.sql.session.SparkSession at 0x22512705810>"
      ]
     },
     "execution_count": 2,
     "metadata": {},
     "output_type": "execute_result"
    }
   ],
   "source": [
    "spark = SparkSession.builder.appName(\"ETL\").getOrCreate()\n",
    "spark"
   ]
  },
  {
   "cell_type": "markdown",
   "metadata": {
    "application/vnd.databricks.v1+cell": {
     "cellMetadata": {},
     "inputWidgets": {},
     "nuid": "fa54b001-ccf5-4a3f-955a-f8d651e114b5",
     "showTitle": false,
     "tableResultSettingsMap": {},
     "title": ""
    }
   },
   "source": [
    "# **Loading data**"
   ]
  },
  {
   "cell_type": "code",
   "execution_count": null,
   "metadata": {
    "application/vnd.databricks.v1+cell": {
     "cellMetadata": {
      "byteLimit": 2048000,
      "rowLimit": 10000
     },
     "inputWidgets": {},
     "nuid": "e8832f99-f7f1-4c03-93af-67ded0d4257b",
     "showTitle": false,
     "tableResultSettingsMap": {},
     "title": ""
    }
   },
   "outputs": [],
   "source": [
    "dfEmp = spark.read.csv(r\"C:\\Stack overflow\\Data-Engineering-Training\\CapStone Project\\Retail Sales Performance Dashboard\\Week-5\\Datasets\\employees.csv\", header=True, inferSchema=True)\n",
    "dfPro = spark.read.csv(r\"C:\\Stack overflow\\Data-Engineering-Training\\CapStone Project\\Retail Sales Performance Dashboard\\Week-5\\Datasets\\products.csv\", header=True, inferSchema=True)\n",
    "dfSal = spark.read.csv(r\"C:\\Stack overflow\\Data-Engineering-Training\\CapStone Project\\Retail Sales Performance Dashboard\\Week-5\\Datasets\\sales.csv\", header=True, inferSchema=True)\n",
    "dfSto = spark.read.csv(r\"C:\\Stack overflow\\Data-Engineering-Training\\CapStone Project\\Retail Sales Performance Dashboard\\Week-5\\Datasets\\stores.csv\", header=True, inferSchema=True)"
   ]
  },
  {
   "cell_type": "code",
   "execution_count": 4,
   "metadata": {
    "application/vnd.databricks.v1+cell": {
     "cellMetadata": {
      "byteLimit": 2048000,
      "rowLimit": 10000
     },
     "inputWidgets": {},
     "nuid": "04f51081-64a7-4938-bfe1-855d7c8b64da",
     "showTitle": false,
     "tableResultSettingsMap": {},
     "title": ""
    }
   },
   "outputs": [
    {
     "name": "stdout",
     "output_type": "stream",
     "text": [
      "root\n",
      " |-- employeeID: integer (nullable = true)\n",
      " |-- name: string (nullable = true)\n",
      " |-- storeID: integer (nullable = true)\n",
      " |-- role: string (nullable = true)\n",
      " |-- hireDate: date (nullable = true)\n",
      "\n"
     ]
    }
   ],
   "source": [
    "dfEmp.printSchema()"
   ]
  },
  {
   "cell_type": "code",
   "execution_count": 5,
   "metadata": {
    "application/vnd.databricks.v1+cell": {
     "cellMetadata": {
      "byteLimit": 2048000,
      "rowLimit": 10000
     },
     "inputWidgets": {},
     "nuid": "90bb80d9-337b-438c-889b-a46082cb0bd9",
     "showTitle": false,
     "tableResultSettingsMap": {},
     "title": ""
    }
   },
   "outputs": [
    {
     "name": "stdout",
     "output_type": "stream",
     "text": [
      "root\n",
      " |-- productID: integer (nullable = true)\n",
      " |-- name: string (nullable = true)\n",
      " |-- category: string (nullable = true)\n",
      " |-- price: double (nullable = true)\n",
      " |-- sellprice: double (nullable = true)\n",
      " |-- cost: double (nullable = true)\n",
      " |-- dateAdded: date (nullable = true)\n",
      " |-- Margin: double (nullable = true)\n",
      " |-- Margin %: double (nullable = true)\n",
      "\n"
     ]
    }
   ],
   "source": [
    "dfPro.printSchema()"
   ]
  },
  {
   "cell_type": "code",
   "execution_count": 6,
   "metadata": {
    "application/vnd.databricks.v1+cell": {
     "cellMetadata": {
      "byteLimit": 2048000,
      "rowLimit": 10000
     },
     "inputWidgets": {},
     "nuid": "d01cd1c0-3c3f-4e69-b544-0550a972366f",
     "showTitle": false,
     "tableResultSettingsMap": {},
     "title": ""
    }
   },
   "outputs": [
    {
     "name": "stdout",
     "output_type": "stream",
     "text": [
      "root\n",
      " |-- saleID: integer (nullable = true)\n",
      " |-- productID: integer (nullable = true)\n",
      " |-- storeID: integer (nullable = true)\n",
      " |-- employeeID: integer (nullable = true)\n",
      " |-- quantity: integer (nullable = true)\n",
      " |-- saleDate: date (nullable = true)\n",
      "\n"
     ]
    }
   ],
   "source": [
    "dfSal.printSchema()"
   ]
  },
  {
   "cell_type": "code",
   "execution_count": 7,
   "metadata": {
    "application/vnd.databricks.v1+cell": {
     "cellMetadata": {
      "byteLimit": 2048000,
      "rowLimit": 10000
     },
     "inputWidgets": {},
     "nuid": "97cf7b31-0005-4b2a-afe5-b6e0f2735e16",
     "showTitle": false,
     "tableResultSettingsMap": {},
     "title": ""
    }
   },
   "outputs": [
    {
     "name": "stdout",
     "output_type": "stream",
     "text": [
      "root\n",
      " |-- storeID: integer (nullable = true)\n",
      " |-- name: string (nullable = true)\n",
      " |-- region: string (nullable = true)\n",
      " |-- address: string (nullable = true)\n",
      " |-- createdAt: date (nullable = true)\n",
      "\n"
     ]
    }
   ],
   "source": [
    "dfSto.printSchema()"
   ]
  },
  {
   "cell_type": "markdown",
   "metadata": {
    "application/vnd.databricks.v1+cell": {
     "cellMetadata": {},
     "inputWidgets": {},
     "nuid": "c1d8efe8-323e-4dd4-8aa1-3279a4215fd5",
     "showTitle": false,
     "tableResultSettingsMap": {},
     "title": ""
    }
   },
   "source": [
    "# **Lowest performing stores**"
   ]
  },
  {
   "cell_type": "code",
   "execution_count": 8,
   "metadata": {},
   "outputs": [
    {
     "name": "stdout",
     "output_type": "stream",
     "text": [
      "+-------+--------------+\n",
      "|storeID|RevenuePerShop|\n",
      "+-------+--------------+\n",
      "|      4|         290.0|\n",
      "|      2|         313.5|\n",
      "+-------+--------------+\n",
      "\n"
     ]
    }
   ],
   "source": [
    "dfStr = dfPro.join(dfSal, on=\"productID\", how=\"inner\") \\\n",
    "             .join(dfSto, on=\"storeID\", how=\"inner\") \\\n",
    "             .groupBy(\"storeID\") \\\n",
    "             .agg(\n",
    "                 F.sum(F.col(\"quantity\") * F.col(\"Margin\")).alias(\"RevenuePerShop\")\n",
    "             ) \\\n",
    "             .sort(\"RevenuePerShop\", ascending=True) \\\n",
    "             .limit(2)\n",
    "\n",
    "dfStr.write.mode(\"overwrite\").csv(\"lowest_performing_store\")"
   ]
  }
 ],
 "metadata": {
  "application/vnd.databricks.v1+notebook": {
   "computePreferences": null,
   "dashboards": [],
   "environmentMetadata": {
    "base_environment": "",
    "environment_version": "2"
   },
   "inputWidgetPreferences": null,
   "language": "python",
   "notebookMetadata": {
    "pythonIndentUnit": 4
   },
   "notebookName": "Untitled Notebook 2025-06-14 14:05:22",
   "widgets": {}
  },
  "kernelspec": {
   "display_name": "Python 3",
   "language": "python",
   "name": "python3"
  },
  "language_info": {
   "codemirror_mode": {
    "name": "ipython",
    "version": 3
   },
   "file_extension": ".py",
   "mimetype": "text/x-python",
   "name": "python",
   "nbconvert_exporter": "python",
   "pygments_lexer": "ipython3",
   "version": "3.11.4"
  }
 },
 "nbformat": 4,
 "nbformat_minor": 0
}
