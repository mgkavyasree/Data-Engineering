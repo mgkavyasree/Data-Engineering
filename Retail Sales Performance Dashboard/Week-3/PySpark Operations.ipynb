{
  "cells": [
    {
      "cell_type": "markdown",
      "source": [
        "# **Week-3 Pyspark**"
      ],
      "metadata": {
        "id": "zUUgFPestJMa"
      },
      "id": "zUUgFPestJMa"
    },
    {
      "cell_type": "code",
      "source": [
        "from pyspark.sql import SparkSession\n",
        "from pyspark.sql import functions as F"
      ],
      "metadata": {
        "id": "Bb_4Hi9krIW0"
      },
      "id": "Bb_4Hi9krIW0",
      "execution_count": 29,
      "outputs": []
    },
    {
      "cell_type": "markdown",
      "source": [
        "# **Initalizing spark session**"
      ],
      "metadata": {
        "id": "rB-MpIcgvctx"
      },
      "id": "rB-MpIcgvctx"
    },
    {
      "cell_type": "code",
      "source": [
        "spark = SparkSession.builder.appName(\"week-3\").getOrCreate()\n",
        "spark"
      ],
      "metadata": {
        "colab": {
          "base_uri": "https://localhost:8080/",
          "height": 219
        },
        "id": "gbPBlTrLuu8d",
        "outputId": "0db6cd48-0c0a-43df-9ad1-d92b8e2e7240"
      },
      "id": "gbPBlTrLuu8d",
      "execution_count": 6,
      "outputs": [
        {
          "output_type": "execute_result",
          "data": {
            "text/plain": [
              "<pyspark.sql.session.SparkSession at 0x7c78de88f7d0>"
            ],
            "text/html": [
              "\n",
              "            <div>\n",
              "                <p><b>SparkSession - in-memory</b></p>\n",
              "                \n",
              "        <div>\n",
              "            <p><b>SparkContext</b></p>\n",
              "\n",
              "            <p><a href=\"http://8e27b14f0250:4040\">Spark UI</a></p>\n",
              "\n",
              "            <dl>\n",
              "              <dt>Version</dt>\n",
              "                <dd><code>v3.5.1</code></dd>\n",
              "              <dt>Master</dt>\n",
              "                <dd><code>local[*]</code></dd>\n",
              "              <dt>AppName</dt>\n",
              "                <dd><code>week-3</code></dd>\n",
              "            </dl>\n",
              "        </div>\n",
              "        \n",
              "            </div>\n",
              "        "
            ]
          },
          "metadata": {},
          "execution_count": 6
        }
      ]
    },
    {
      "cell_type": "markdown",
      "source": [
        "# **Loading large datasets**\n",
        "---\n",
        "Same as `week-2` datasets but contains more records with little alterations\n",
        "\n",
        "\n"
      ],
      "metadata": {
        "id": "AjD8-onrvilj"
      },
      "id": "AjD8-onrvilj"
    },
    {
      "cell_type": "code",
      "source": [
        "dfEmp = spark.read.csv(r\"/content/employees.csv\", header=True, inferSchema=True)\n",
        "dfProd = spark.read.csv(r\"/content/products.csv\", header=True, inferSchema=True)\n",
        "dfSales = spark.read.csv(r\"/content/sales.csv\", header=True, inferSchema=True)\n",
        "dfStores = spark.read.csv(r\"/content/stores.csv\", header=True, inferSchema=True)"
      ],
      "metadata": {
        "id": "7tpLWma_vE0w"
      },
      "id": "7tpLWma_vE0w",
      "execution_count": 56,
      "outputs": []
    },
    {
      "cell_type": "code",
      "source": [
        "dfEmp.printSchema()"
      ],
      "metadata": {
        "colab": {
          "base_uri": "https://localhost:8080/"
        },
        "id": "zkQwJWFKwCsI",
        "outputId": "edfbb3fc-355e-46fe-b3eb-d6b7a5f951d8"
      },
      "id": "zkQwJWFKwCsI",
      "execution_count": 16,
      "outputs": [
        {
          "output_type": "stream",
          "name": "stdout",
          "text": [
            "root\n",
            " |-- employeeID: integer (nullable = true)\n",
            " |-- name: string (nullable = true)\n",
            " |-- storeID: integer (nullable = true)\n",
            " |-- role: string (nullable = true)\n",
            " |-- hireDate: date (nullable = true)\n",
            "\n"
          ]
        }
      ]
    },
    {
      "cell_type": "code",
      "source": [
        "dfProd.printSchema()"
      ],
      "metadata": {
        "colab": {
          "base_uri": "https://localhost:8080/"
        },
        "id": "nJ8vrXCvwNgx",
        "outputId": "f4f32153-e20a-4e71-c6b0-5f1780096bc8"
      },
      "id": "nJ8vrXCvwNgx",
      "execution_count": 22,
      "outputs": [
        {
          "output_type": "stream",
          "name": "stdout",
          "text": [
            "root\n",
            " |-- productID: integer (nullable = true)\n",
            " |-- name: string (nullable = true)\n",
            " |-- category: string (nullable = true)\n",
            " |-- price: double (nullable = true)\n",
            " |-- sellprice: double (nullable = true)\n",
            " |-- cost: double (nullable = true)\n",
            " |-- dateAdded: date (nullable = true)\n",
            " |-- Margin: double (nullable = true)\n",
            " |-- Margin %: double (nullable = true)\n",
            "\n"
          ]
        }
      ]
    },
    {
      "cell_type": "code",
      "source": [
        "dfSales.printSchema()"
      ],
      "metadata": {
        "colab": {
          "base_uri": "https://localhost:8080/"
        },
        "id": "yO7jT79nwPic",
        "outputId": "a99b7cc1-6b32-4db2-a529-6b0fa913ad39"
      },
      "id": "yO7jT79nwPic",
      "execution_count": 18,
      "outputs": [
        {
          "output_type": "stream",
          "name": "stdout",
          "text": [
            "root\n",
            " |-- saleID: integer (nullable = true)\n",
            " |-- productID: integer (nullable = true)\n",
            " |-- storeID: integer (nullable = true)\n",
            " |-- employeeID: integer (nullable = true)\n",
            " |-- quantity: integer (nullable = true)\n",
            " |-- saleDate: date (nullable = true)\n",
            "\n"
          ]
        }
      ]
    },
    {
      "cell_type": "code",
      "source": [
        "dfStores.printSchema()"
      ],
      "metadata": {
        "colab": {
          "base_uri": "https://localhost:8080/"
        },
        "id": "EFqzOC-jwPvz",
        "outputId": "13b44fb7-f87a-4ee2-e567-587689b69557"
      },
      "id": "EFqzOC-jwPvz",
      "execution_count": 19,
      "outputs": [
        {
          "output_type": "stream",
          "name": "stdout",
          "text": [
            "root\n",
            " |-- storeID: integer (nullable = true)\n",
            " |-- name: string (nullable = true)\n",
            " |-- region: string (nullable = true)\n",
            " |-- address: string (nullable = true)\n",
            " |-- createdAt: date (nullable = true)\n",
            "\n"
          ]
        }
      ]
    },
    {
      "cell_type": "markdown",
      "source": [
        "# **Filtering data for underperforming products**"
      ],
      "metadata": {
        "id": "aPkuOpn7waZd"
      },
      "id": "aPkuOpn7waZd"
    },
    {
      "cell_type": "code",
      "source": [
        "dfJoined = dfProd.join(dfSales, on=\"productID\", how=\"inner\")"
      ],
      "metadata": {
        "id": "d2q1EPeuwU1E"
      },
      "id": "d2q1EPeuwU1E",
      "execution_count": 45,
      "outputs": []
    },
    {
      "cell_type": "code",
      "source": [
        "marginMean = dfJoined.select(F.mean(\"Margin %\")).collect()[0][0]"
      ],
      "metadata": {
        "id": "xppY2i9X0yzH"
      },
      "id": "xppY2i9X0yzH",
      "execution_count": 35,
      "outputs": []
    },
    {
      "cell_type": "markdown",
      "source": [
        "1.   Filter Margin% > avergage margin.\n",
        "2.   Filter days without being sold < 408 days.\n",
        "3.   Adding quantity * margin column.\n",
        "4.   Groupby ProductID order by sum of quantity & marginRevenue by ascending order.\n",
        "5.   Join with product column to display product name.\n",
        "\n"
      ],
      "metadata": {
        "id": "g8Y8nMgfFffM"
      },
      "id": "g8Y8nMgfFffM"
    },
    {
      "cell_type": "code",
      "source": [
        "underPerforming = dfJoined.withColumn(\"tillDate\", F.abs(F.date_diff(F.col(\"dateAdded\"), F.current_date()))) \\\n",
        "  .filter((F.col(\"Margin %\") < marginMean) & (F.col(\"tillDate\") < 408))\\\n",
        "  .withColumn(\"marginRevenue\", F.col(\"quantity\") * F.col(\"Margin\")) \\\n",
        "  .groupby(\"productID\") \\\n",
        "  .agg(\n",
        "      F.sum(\"quantity\").alias(\"totalSold\"),\n",
        "      F.sum(\"marginRevenue\").alias(\"marginRevenue\")\n",
        "      )\n",
        "\n",
        "underPerforming = underPerforming.join(dfProd.select([\"productID\", \"name\"]), on=\"productID\", how=\"inner\").sort(\"marginRevenue\")\n",
        "underPerforming.select(\"name\", \"totalSold\", \"marginRevenue\").show()"
      ],
      "metadata": {
        "colab": {
          "base_uri": "https://localhost:8080/"
        },
        "id": "SFkjrZFcwjWe",
        "outputId": "2807a9d4-d2da-4f81-e0f7-396763e94705"
      },
      "id": "SFkjrZFcwjWe",
      "execution_count": 50,
      "outputs": [
        {
          "output_type": "stream",
          "name": "stdout",
          "text": [
            "+--------------+---------+-------------+\n",
            "|          name|totalSold|marginRevenue|\n",
            "+--------------+---------+-------------+\n",
            "|  Smart TV 42\"|        1|         50.0|\n",
            "|Microwave Oven|        2|         60.0|\n",
            "|Wireless Mouse|       12|         60.0|\n",
            "|    Headphones|        5|         75.0|\n",
            "|   Office Desk|        2|        140.0|\n",
            "+--------------+---------+-------------+\n",
            "\n"
          ]
        }
      ]
    },
    {
      "cell_type": "markdown",
      "source": [
        "# **Calculating monthly average**"
      ],
      "metadata": {
        "id": "hoDCulMHHYEu"
      },
      "id": "hoDCulMHHYEu"
    },
    {
      "cell_type": "code",
      "source": [
        "df_sales = dfSales.join(dfStores, on=\"storeID\", how=\"inner\").join(dfProd, on=\"productID\", how=\"inner\")\n",
        "df_sales = df_sales.withColumn(\"saleMonth\", F.month(\"saleDate\")) \\\n",
        "            .withColumn(\"amount\", F.col(\"quantity\") * F.col(\"sellprice\"))"
      ],
      "metadata": {
        "id": "sO-D8SX5zbuw"
      },
      "id": "sO-D8SX5zbuw",
      "execution_count": 62,
      "outputs": []
    },
    {
      "cell_type": "code",
      "source": [
        "storeSummary = df_sales.groupBy([\"storeID\", \"saleMonth\"]) \\\n",
        "  .agg(\n",
        "    F.mean(\"amount\").alias(\"monthlyRevenue\")\n",
        "  ) \\\n",
        "  .join(dfStores.select(\"storeID\", \"name\"), on=\"storeID\") \\\n",
        "  .sort([\"saleMonth\"]) \\\n",
        "  .select([\"name\", \"saleMonth\", \"monthlyRevenue\"])\n",
        "\n",
        "storeSummary.show()"
      ],
      "metadata": {
        "colab": {
          "base_uri": "https://localhost:8080/"
        },
        "id": "kCWMSJpTHv0p",
        "outputId": "4684bcea-f174-48e4-ce14-068079321d57"
      },
      "id": "kCWMSJpTHv0p",
      "execution_count": 74,
      "outputs": [
        {
          "output_type": "stream",
          "name": "stdout",
          "text": [
            "+-----------------+---------+--------------+\n",
            "|             name|saleMonth|monthlyRevenue|\n",
            "+-----------------+---------+--------------+\n",
            "|BudgetBazaar - FL|        6|         360.0|\n",
            "|    MegaMart - IL|        6|         187.5|\n",
            "|  FreshStore - TX|        6|         675.0|\n",
            "|  Urban Mart - NY|        6|         831.0|\n",
            "|   SuperSave - LA|        6|         400.0|\n",
            "|    MegaMart - IL|        7|         450.0|\n",
            "|  FreshStore - TX|        7|         280.0|\n",
            "|  Urban Mart - NY|        8|         240.0|\n",
            "|BudgetBazaar - FL|        8|         280.0|\n",
            "|   SuperSave - LA|        9|          40.5|\n",
            "|    MegaMart - IL|       11|         540.0|\n",
            "|  FreshStore - TX|       11|          90.0|\n",
            "|BudgetBazaar - FL|       11|         350.0|\n",
            "+-----------------+---------+--------------+\n",
            "\n"
          ]
        }
      ]
    },
    {
      "cell_type": "markdown",
      "source": [
        "# **Deliverables**\n",
        "\n",
        "*   Pyspark script\n",
        "*   Output file for underperforming & store summary\n",
        "\n"
      ],
      "metadata": {
        "id": "y95lnuDVKZlP"
      },
      "id": "y95lnuDVKZlP"
    },
    {
      "cell_type": "code",
      "source": [
        "# 1. Pyspark script will be attached in .ipynb format in git repo"
      ],
      "metadata": {
        "id": "Gd8ImFqtJOGR"
      },
      "id": "Gd8ImFqtJOGR",
      "execution_count": 71,
      "outputs": []
    },
    {
      "cell_type": "code",
      "source": [
        "# 2. Output file for underperforming and store summary\n",
        "underPerforming.write.mode(\"overwrite\").csv(\"/content/drive/MyDrive/underperforming\")\n",
        "\n",
        "storeSummary.write.mode(\"overwrite\").csv(\"/content/drive/MyDrive/storeSummary\")"
      ],
      "metadata": {
        "id": "I1Q_U5b6LZWp"
      },
      "id": "I1Q_U5b6LZWp",
      "execution_count": 77,
      "outputs": []
    },
    {
      "cell_type": "code",
      "source": [],
      "metadata": {
        "id": "ncUL49yMLiOV"
      },
      "id": "ncUL49yMLiOV",
      "execution_count": null,
      "outputs": []
    }
  ],
  "metadata": {
    "kernelspec": {
      "display_name": "Python 3",
      "language": "python",
      "name": "python3"
    },
    "language_info": {
      "codemirror_mode": {
        "name": "ipython",
        "version": 3
      },
      "file_extension": ".py",
      "mimetype": "text/x-python",
      "name": "python",
      "nbconvert_exporter": "python",
      "pygments_lexer": "ipython3",
      "version": "3.11.4"
    },
    "colab": {
      "provenance": []
    }
  },
  "nbformat": 4,
  "nbformat_minor": 5
}