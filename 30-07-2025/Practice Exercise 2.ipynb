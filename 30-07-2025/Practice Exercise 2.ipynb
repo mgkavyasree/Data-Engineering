import pandas as pd

# create employees csv
emp_data = """empid,name,department
101,amit,sales
102,anita,engineering
103,kabir,hr
104,sneha,marketing
105,ravi,engineering
"""
with open('employees.csv', 'w') as f:
    f.write(emp_data)

# create departments csv
dept_data = """department,location
sales,mumbai
engineering,bangalore
hr,delhi
marketing,chennai
"""
with open('departments.csv', 'w') as f:
    f.write(dept_data)

# read both files
df_emp = pd.read_csv('employees.csv')
df_dept = pd.read_csv('departments.csv')

# display employee dataframe
print("employee data:")
print(df_emp)

# display department dataframe
print("\ndepartment data:")
print(df_dept)
