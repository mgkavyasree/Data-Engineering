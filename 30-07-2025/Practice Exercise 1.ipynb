import pandas as pd
import matplotlib.pyplot as plt

# step 1: create and save csv
csv_data = """Month,Store,Sales
Jan,Store A,12000
Jan,Store B,15000
Feb,Store A,18000
Feb,Store B,17000
Mar,Store A,16000
Mar,Store B,19000
"""

# write to a file
with open('sales_data.csv', 'w') as file:
    file.write(csv_data)

# step 2: read csv into pandas dataframe
df = pd.read_csv('sales_data.csv')
print("full dataframe:")
print(df)

# step 3: total sales per store
store_totals = df.groupby('Store')['Sales'].sum()
print("\ntotal sales per store:")
print(store_totals)

# identify which store had higher total sales
top_store = store_totals.idxmax()
print(f"\nstore with higher total sales: {top_store}")

# step 4: monthly total sales (store a + store b)
monthly_total = df.groupby('Month')['Sales'].sum()
print("\nmonthly total sales across both stores:")
print(monthly_total)

# step 5: line chart - monthly sales per store
pivot_df = df.pivot(index='Month', columns='Store', values='Sales')

plt.figure(figsize=(8, 5))
pivot_df.plot(marker='o')
plt.title('Monthly Sales by Store')
plt.xlabel('Month')
plt.ylabel('Sales')
plt.grid(True)
plt.tight_layout()
plt.show()

# step 6: bonus - bar chart with labels
plt.figure(figsize=(6, 4))
store_totals.plot(kind='bar', color='orange')

# add data labels
for i, value in enumerate(store_totals):
    plt.text(i, value + 500, f'{value}', ha='center')

plt.title('Total Sales per Store')
plt.ylabel('Total Sales')
plt.xticks(rotation=0)
plt.tight_layout()
plt.savefig('sales_chart.png')
plt.show()

print("\nbar chart saved as 'sales_chart.png'")
