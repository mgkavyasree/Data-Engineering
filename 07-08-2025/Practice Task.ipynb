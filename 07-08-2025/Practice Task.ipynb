{
 "cells": [
  {
   "cell_type": "code",
   "execution_count": 0,
   "metadata": {
    "application/vnd.databricks.v1+cell": {
     "cellMetadata": {
      "byteLimit": 2048000,
      "rowLimit": 10000
     },
     "inputWidgets": {},
     "nuid": "8092e141-6e31-400d-9a0f-3fe74af23807",
     "showTitle": false,
     "tableResultSettingsMap": {},
     "title": ""
    }
   },
   "outputs": [
    {
     "output_type": "stream",
     "name": "stdout",
     "output_type": "stream",
     "text": [
      "+------+------+---------+---------+---------+\n|Emp_id|  Name|     Dept|UnitsSold|UnitPrice|\n+------+------+---------+---------+---------+\n|  E101|  Amit|    Sales|       10|     1200|\n|  E102| Sneha|Marketing|        8|     1500|\n|  E103|  Ravi|    Sales|       12|     1300|\n|  E104|Anjali|       HR|        7|     1100|\n|  E105|   Raj|    Sales|        5|     1000|\n+------+------+---------+---------+---------+\n\n"
     ]
    }
   ],
   "source": [
    "data = [\n",
    "    (\"E101\", \"Amit\", \"Sales\", 10, 1200),\n",
    "    (\"E102\", \"Sneha\", \"Marketing\", 8, 1500),\n",
    "    (\"E103\", \"Ravi\", \"Sales\", 12, 1300),\n",
    "    (\"E104\", \"Anjali\", \"HR\", 7, 1100),\n",
    "    (\"E105\", \"Raj\", \"Sales\", 5, 1000)\n",
    "]\n",
    "columns = [\"Emp_id\",\"Name\",\"Dept\",\"UnitsSold\",\"UnitPrice\"]\n",
    "df = spark.createDataFrame(data,columns)\n",
    "df.show()"
   ]
  },
  {
   "cell_type": "code",
   "execution_count": 0,
   "metadata": {
    "application/vnd.databricks.v1+cell": {
     "cellMetadata": {
      "byteLimit": 2048000,
      "rowLimit": 10000
     },
     "inputWidgets": {},
     "nuid": "53e52712-bc6d-4359-8f4c-42c6f66432c6",
     "showTitle": false,
     "tableResultSettingsMap": {},
     "title": ""
    }
   },
   "outputs": [],
   "source": [
    "df.write.mode(\"overwrite\").option(\"header\",\"true\").csv(\"/tmp/employees_csv\")\n",
    "df.write.mode(\"overwrite\").json(\"/tmp/employees_json\")\n",
    "df.write.mode(\"overwrite\").parquet(\"/tmp/employees_parquet\")"
   ]
  },
  {
   "cell_type": "code",
   "execution_count": 0,
   "metadata": {
    "application/vnd.databricks.v1+cell": {
     "cellMetadata": {
      "byteLimit": 2048000,
      "rowLimit": 10000
     },
     "inputWidgets": {},
     "nuid": "b3a59bc7-c29e-42e4-a562-b1a9e4e2fda5",
     "showTitle": false,
     "tableResultSettingsMap": {},
     "title": ""
    }
   },
   "outputs": [
    {
     "output_type": "stream",
     "name": "stdout",
     "output_type": "stream",
     "text": [
      "+------+------+---------+---------+---------+\n|Emp_id|  Name|     Dept|UnitsSold|UnitPrice|\n+------+------+---------+---------+---------+\n|  E102| Sneha|Marketing|        8|     1500|\n|  E101|  Amit|    Sales|       10|     1200|\n|  E103|  Ravi|    Sales|       12|     1300|\n|  E104|Anjali|       HR|        7|     1100|\n|  E105|   Raj|    Sales|        5|     1000|\n+------+------+---------+---------+---------+\n\n+---------+------+------+---------+---------+\n|     Dept|Emp_id|  Name|UnitPrice|UnitsSold|\n+---------+------+------+---------+---------+\n|Marketing|  E102| Sneha|     1500|        8|\n|    Sales|  E101|  Amit|     1200|       10|\n|    Sales|  E103|  Ravi|     1300|       12|\n|       HR|  E104|Anjali|     1100|        7|\n|    Sales|  E105|   Raj|     1000|        5|\n+---------+------+------+---------+---------+\n\n+------+------+---------+---------+---------+\n|Emp_id|  Name|     Dept|UnitsSold|UnitPrice|\n+------+------+---------+---------+---------+\n|  E102| Sneha|Marketing|        8|     1500|\n|  E101|  Amit|    Sales|       10|     1200|\n|  E103|  Ravi|    Sales|       12|     1300|\n|  E104|Anjali|       HR|        7|     1100|\n|  E105|   Raj|    Sales|        5|     1000|\n+------+------+---------+---------+---------+\n\n"
     ]
    }
   ],
   "source": [
    "df_csv = spark.read.option(\"header\",\"true\").csv(\"/tmp/employees_csv\")\n",
    "df_csv.show()\n",
    "df_json = spark.read.json(\"/tmp/employees_json\")\n",
    "df_json.show()\n",
    "df_parquet = spark.read.parquet(\"/tmp/employees_parquet\")\n",
    "df_parquet.show()"
   ]
  },
  {
   "cell_type": "markdown",
   "metadata": {
    "application/vnd.databricks.v1+cell": {
     "cellMetadata": {},
     "inputWidgets": {},
     "nuid": "0c908807-1676-4e5b-9ba2-d982264b7800",
     "showTitle": false,
     "tableResultSettingsMap": {},
     "title": ""
    }
   },
   "source": [
    "#EXERCISE"
   ]
  },
  {
   "cell_type": "code",
   "execution_count": 0,
   "metadata": {
    "application/vnd.databricks.v1+cell": {
     "cellMetadata": {
      "byteLimit": 2048000,
      "rowLimit": 10000
     },
     "inputWidgets": {},
     "nuid": "74deb9a9-c345-44f8-85fa-9123ab986da4",
     "showTitle": false,
     "tableResultSettingsMap": {},
     "title": ""
    }
   },
   "outputs": [
    {
     "output_type": "stream",
     "name": "stdout",
     "output_type": "stream",
     "text": [
      "+----------+------------+-----------+-----+--------+\n|product_id|product_name|   category|price|quantity|\n+----------+------------+-----------+-----+--------+\n|       101|      Laptop|Electronics|55000|      10|\n|       102|  Smartphone|Electronics|30000|      25|\n|       103|       Chair|  Furniture| 2500|      50|\n|       104|        Book| Stationery|  400|     200|\n|       105|  Headphones|Electronics| 1500|     100|\n|       106|       Table|  Furniture| 3200|      40|\n|       107|         Pen| Stationery|   20|     500|\n|       108|     Monitor|Electronics|12000|      15|\n|       109|    Notebook| Stationery|   60|     300|\n|       110|        Sofa|  Furniture|45000|       5|\n+----------+------------+-----------+-----+--------+\n\n"
     ]
    }
   ],
   "source": [
    "from pyspark.sql import SparkSession\n",
    "spark = SparkSession.builder.appName(\"Product Analysis\").getOrCreate()\n",
    "dataa = [\n",
    "    (101, \"Laptop\", \"Electronics\", 55000, 10),\n",
    "    (102, \"Smartphone\", \"Electronics\", 30000, 25),\n",
    "    (103, \"Chair\", \"Furniture\", 2500, 50),\n",
    "    (104, \"Book\", \"Stationery\", 400, 200),\n",
    "    (105, \"Headphones\", \"Electronics\", 1500, 100),\n",
    "    (106, \"Table\", \"Furniture\", 3200, 40),\n",
    "    (107, \"Pen\", \"Stationery\", 20, 500),\n",
    "    (108, \"Monitor\", \"Electronics\", 12000, 15),\n",
    "    (109, \"Notebook\", \"Stationery\", 60, 300),\n",
    "    (110, \"Sofa\", \"Furniture\", 45000, 5)\n",
    "]\n",
    "\n",
    "columns = [\"product_id\", \"product_name\", \"category\", \"price\", \"quantity\"]\n",
    "df_new = spark.createDataFrame(dataa, columns)\n",
    "df_new.show()\n",
    "df_new.write.mode(\"overwrite\").option(\"header\",True).csv(\"dbfs:/tmp/product_csv\")\n",
    "df_new.write.mode(\"overwrite\").json(\"dbfs:/tmp/product_json\")"
   ]
  },
  {
   "cell_type": "markdown",
   "metadata": {
    "application/vnd.databricks.v1+cell": {
     "cellMetadata": {},
     "inputWidgets": {},
     "nuid": "2984623e-0412-4927-88a3-3f3783cb1e58",
     "showTitle": false,
     "tableResultSettingsMap": {},
     "title": ""
    }
   },
   "source": [
    "Read the above data from CSV into a DataFrame and print the schema."
   ]
  },
  {
   "cell_type": "code",
   "execution_count": 0,
   "metadata": {
    "application/vnd.databricks.v1+cell": {
     "cellMetadata": {
      "byteLimit": 2048000,
      "rowLimit": 10000
     },
     "inputWidgets": {},
     "nuid": "34d5932a-9843-4eca-a0b4-ed5430fc6b3f",
     "showTitle": false,
     "tableResultSettingsMap": {},
     "title": ""
    }
   },
   "outputs": [
    {
     "output_type": "stream",
     "name": "stdout",
     "output_type": "stream",
     "text": [
      "CSV\nroot\n |-- product_id: string (nullable = true)\n |-- product_name: string (nullable = true)\n |-- category: string (nullable = true)\n |-- price: string (nullable = true)\n |-- quantity: string (nullable = true)\n\n+----------+------------+-----------+-----+--------+\n|product_id|product_name|   category|price|quantity|\n+----------+------------+-----------+-----+--------+\n|       104|        Book| Stationery|  400|     200|\n|       105|  Headphones|Electronics| 1500|     100|\n|       109|    Notebook| Stationery|   60|     300|\n|       110|        Sofa|  Furniture|45000|       5|\n|       102|  Smartphone|Electronics|30000|      25|\n|       108|     Monitor|Electronics|12000|      15|\n|       101|      Laptop|Electronics|55000|      10|\n|       103|       Chair|  Furniture| 2500|      50|\n|       106|       Table|  Furniture| 3200|      40|\n|       107|         Pen| Stationery|   20|     500|\n+----------+------------+-----------+-----+--------+\n\n"
     ]
    }
   ],
   "source": [
    "print(\"CSV\")\n",
    "csv = spark.read.option(\"header\",True).csv(\"dbfs:/tmp/product_csv\")\n",
    "csv.printSchema()\n",
    "csv.show()\n"
   ]
  },
  {
   "cell_type": "markdown",
   "metadata": {
    "application/vnd.databricks.v1+cell": {
     "cellMetadata": {},
     "inputWidgets": {},
     "nuid": "27cd2738-2c5e-4e02-986e-3e1b508ced29",
     "showTitle": false,
     "tableResultSettingsMap": {},
     "title": ""
    }
   },
   "source": [
    "Read the same data from JSON and compare with the CSV schema. Any differences?"
   ]
  },
  {
   "cell_type": "code",
   "execution_count": 0,
   "metadata": {
    "application/vnd.databricks.v1+cell": {
     "cellMetadata": {
      "byteLimit": 2048000,
      "rowLimit": 10000
     },
     "inputWidgets": {},
     "nuid": "cace0e21-6318-4d91-9246-472d4e34262f",
     "showTitle": false,
     "tableResultSettingsMap": {},
     "title": ""
    }
   },
   "outputs": [
    {
     "output_type": "stream",
     "name": "stdout",
     "output_type": "stream",
     "text": [
      "JSON\nroot\n |-- category: string (nullable = true)\n |-- price: long (nullable = true)\n |-- product_id: long (nullable = true)\n |-- product_name: string (nullable = true)\n |-- quantity: long (nullable = true)\n\n+-----------+-----+----------+------------+--------+\n|   category|price|product_id|product_name|quantity|\n+-----------+-----+----------+------------+--------+\n| Stationery|  400|       104|        Book|     200|\n|Electronics| 1500|       105|  Headphones|     100|\n| Stationery|   60|       109|    Notebook|     300|\n|  Furniture|45000|       110|        Sofa|       5|\n|Electronics|30000|       102|  Smartphone|      25|\n|Electronics|12000|       108|     Monitor|      15|\n|Electronics|55000|       101|      Laptop|      10|\n|  Furniture| 2500|       103|       Chair|      50|\n|  Furniture| 3200|       106|       Table|      40|\n| Stationery|   20|       107|         Pen|     500|\n+-----------+-----+----------+------------+--------+\n\n"
     ]
    }
   ],
   "source": [
    "print(\"JSON\")\n",
    "json = spark.read.json(\"dbfs:/tmp/product_json\")\n",
    "json.printSchema()\n",
    "json.show()"
   ]
  },
  {
   "cell_type": "code",
   "execution_count": 0,
   "metadata": {
    "application/vnd.databricks.v1+cell": {
     "cellMetadata": {
      "byteLimit": 2048000,
      "rowLimit": 10000
     },
     "inputWidgets": {},
     "nuid": "d3d5ab99-95b8-49fe-b383-db31192e764a",
     "showTitle": false,
     "tableResultSettingsMap": {},
     "title": ""
    }
   },
   "outputs": [
    {
     "output_type": "stream",
     "name": "stdout",
     "output_type": "stream",
     "text": [
      "Schemas Equal? False\n"
     ]
    }
   ],
   "source": [
    "print(\"Schemas Equal?\", csv.schema == json.schema)"
   ]
  },
  {
   "cell_type": "markdown",
   "metadata": {
    "application/vnd.databricks.v1+cell": {
     "cellMetadata": {},
     "inputWidgets": {},
     "nuid": "ce56b894-63fe-4f36-8a8a-6660ecb31a30",
     "showTitle": false,
     "tableResultSettingsMap": {},
     "title": ""
    }
   },
   "source": [
    "Convert the CSV data into Parquet format and save to disk."
   ]
  },
  {
   "cell_type": "code",
   "execution_count": 0,
   "metadata": {
    "application/vnd.databricks.v1+cell": {
     "cellMetadata": {
      "byteLimit": 2048000,
      "rowLimit": 10000
     },
     "inputWidgets": {},
     "nuid": "e92b1959-8246-4431-81b4-51fedb4f8977",
     "showTitle": false,
     "tableResultSettingsMap": {},
     "title": ""
    }
   },
   "outputs": [
    {
     "output_type": "stream",
     "name": "stdout",
     "output_type": "stream",
     "text": [
      "+----------+------------+-----------+-----+--------+\n|product_id|product_name|   category|price|quantity|\n+----------+------------+-----------+-----+--------+\n|       104|        Book| Stationery|  400|     200|\n|       105|  Headphones|Electronics| 1500|     100|\n|       109|    Notebook| Stationery|   60|     300|\n|       110|        Sofa|  Furniture|45000|       5|\n|       102|  Smartphone|Electronics|30000|      25|\n|       106|       Table|  Furniture| 3200|      40|\n|       107|         Pen| Stationery|   20|     500|\n|       108|     Monitor|Electronics|12000|      15|\n|       101|      Laptop|Electronics|55000|      10|\n|       103|       Chair|  Furniture| 2500|      50|\n+----------+------------+-----------+-----+--------+\n\n"
     ]
    }
   ],
   "source": [
    "csv.write.mode(\"overwrite\").parquet(\"dbfs:/tmp/product_parquet\")\n",
    "parquet = spark.read.parquet(\"dbfs:/tmp/product_parquet\")\n",
    "parquet.show()"
   ]
  },
  {
   "cell_type": "markdown",
   "metadata": {
    "application/vnd.databricks.v1+cell": {
     "cellMetadata": {},
     "inputWidgets": {},
     "nuid": "c67e2314-615f-4dda-aed7-f2747db94568",
     "showTitle": false,
     "tableResultSettingsMap": {},
     "title": ""
    }
   },
   "source": [
    "Measure the size of CSV vs JSON vs Parquet on disk. Which one is smallest?"
   ]
  },
  {
   "cell_type": "code",
   "execution_count": 0,
   "metadata": {
    "application/vnd.databricks.v1+cell": {
     "cellMetadata": {
      "byteLimit": 2048000,
      "rowLimit": 10000
     },
     "inputWidgets": {},
     "nuid": "dba5da2f-3960-4bd8-a062-2e9453dca628",
     "showTitle": false,
     "tableResultSettingsMap": {},
     "title": ""
    }
   },
   "outputs": [
    {
     "output_type": "stream",
     "name": "stdout",
     "output_type": "stream",
     "text": [
      "Total CSV data size: 689 bytes\nTotal JSON data size: 945 bytes\nParquet size: 11642 bytes\n\nSmallest format: CSV with 689 bytes\n"
     ]
    }
   ],
   "source": [
    "csv_files = dbutils.fs.ls(\"dbfs:/tmp/product_csv\")\n",
    "csv_data_size = sum(\n",
    "    f.size for f in csv_files if f.name.startswith(\"part-\") and f.name.endswith(\".csv\")\n",
    ")\n",
    "print(f\"Total CSV data size: {csv_data_size} bytes\")\n",
    "\n",
    "json_files = dbutils.fs.ls(\"dbfs:/tmp/product_json\")\n",
    "json_data_size = sum(\n",
    "    f.size for f in json_files if f.name.startswith(\"part-\") and f.name.endswith(\".json\")\n",
    ")\n",
    "print(f\"Total JSON data size: {json_data_size} bytes\")\n",
    "\n",
    "parquet_files = dbutils.fs.ls(\"dbfs:/tmp/product_parquet\")\n",
    "parquet_data_size = sum(\n",
    "    f.size for f in parquet_files if f.name.startswith(\"part-\") and f.name.endswith(\".parquet\")\n",
    ")\n",
    "print(f\"Parquet size: {parquet_data_size} bytes\")\n",
    "smallest = min([\n",
    "    (\"CSV\", csv_data_size),\n",
    "    (\"JSON\", json_data_size),\n",
    "    (\"Parquet\", parquet_data_size)\n",
    "], key=lambda x: x[1])\n",
    "\n",
    "print(f\"\\nSmallest format: {smallest[0]} with {smallest[1]} bytes\")"
   ]
  },
  {
   "cell_type": "markdown",
   "metadata": {
    "application/vnd.databricks.v1+cell": {
     "cellMetadata": {},
     "inputWidgets": {},
     "nuid": "357ebecc-81ee-471c-aa98-cbcd7ae6d989",
     "showTitle": false,
     "tableResultSettingsMap": {},
     "title": ""
    }
   },
   "source": [
    "Add a column total_revenue = price * quantity for each record.\n"
   ]
  },
  {
   "cell_type": "code",
   "execution_count": 0,
   "metadata": {
    "application/vnd.databricks.v1+cell": {
     "cellMetadata": {
      "byteLimit": 2048000,
      "rowLimit": 10000
     },
     "inputWidgets": {},
     "nuid": "527e32ac-7d72-47dc-b340-28532585716c",
     "showTitle": false,
     "tableResultSettingsMap": {},
     "title": ""
    }
   },
   "outputs": [
    {
     "output_type": "stream",
     "name": "stdout",
     "output_type": "stream",
     "text": [
      "+----------+------------+-----------+-----+--------+-------------+\n|product_id|product_name|   category|price|quantity|total_revenue|\n+----------+------------+-----------+-----+--------+-------------+\n|       101|      Laptop|Electronics|55000|      10|       550000|\n|       102|  Smartphone|Electronics|30000|      25|       750000|\n|       103|       Chair|  Furniture| 2500|      50|       125000|\n|       104|        Book| Stationery|  400|     200|        80000|\n|       105|  Headphones|Electronics| 1500|     100|       150000|\n|       106|       Table|  Furniture| 3200|      40|       128000|\n|       107|         Pen| Stationery|   20|     500|        10000|\n|       108|     Monitor|Electronics|12000|      15|       180000|\n|       109|    Notebook| Stationery|   60|     300|        18000|\n|       110|        Sofa|  Furniture|45000|       5|       225000|\n+----------+------------+-----------+-----+--------+-------------+\n\n"
     ]
    }
   ],
   "source": [
    "from pyspark.sql.functions import col\n",
    "df_new = df_new.withColumn(\"total_revenue\",col(\"price\")*col(\"quantity\"))\n",
    "df_new.show()"
   ]
  },
  {
   "cell_type": "markdown",
   "metadata": {
    "application/vnd.databricks.v1+cell": {
     "cellMetadata": {},
     "inputWidgets": {},
     "nuid": "5bc494a7-d0eb-4c20-843f-40d0b895fd79",
     "showTitle": false,
     "tableResultSettingsMap": {},
     "title": ""
    }
   },
   "source": [
    "Find the top 3 products with the highest total revenue.\n"
   ]
  },
  {
   "cell_type": "code",
   "execution_count": 0,
   "metadata": {
    "application/vnd.databricks.v1+cell": {
     "cellMetadata": {
      "byteLimit": 2048000,
      "rowLimit": 10000
     },
     "inputWidgets": {},
     "nuid": "31a112eb-76ed-49a0-ad4e-a3605b852606",
     "showTitle": false,
     "tableResultSettingsMap": {},
     "title": ""
    }
   },
   "outputs": [
    {
     "output_type": "stream",
     "name": "stdout",
     "output_type": "stream",
     "text": [
      "+----------+------------+-----------+-----+--------+-------------+\n|product_id|product_name|   category|price|quantity|total_revenue|\n+----------+------------+-----------+-----+--------+-------------+\n|       102|  Smartphone|Electronics|30000|      25|       750000|\n|       101|      Laptop|Electronics|55000|      10|       550000|\n|       110|        Sofa|  Furniture|45000|       5|       225000|\n+----------+------------+-----------+-----+--------+-------------+\n\n"
     ]
    }
   ],
   "source": [
    "filtered = df_new.orderBy(\"total_revenue\",ascending = False).limit(3)\n",
    "filtered.show()"
   ]
  },
  {
   "cell_type": "markdown",
   "metadata": {
    "application/vnd.databricks.v1+cell": {
     "cellMetadata": {},
     "inputWidgets": {},
     "nuid": "4c471197-c994-4392-bf12-92272c2ef261",
     "showTitle": false,
     "tableResultSettingsMap": {},
     "title": ""
    }
   },
   "source": [
    "Filter and display only Furniture products with price > 3000."
   ]
  },
  {
   "cell_type": "code",
   "execution_count": 0,
   "metadata": {
    "application/vnd.databricks.v1+cell": {
     "cellMetadata": {
      "byteLimit": 2048000,
      "rowLimit": 10000
     },
     "inputWidgets": {},
     "nuid": "c1b74e1e-a675-47c2-925e-c17189cf1184",
     "showTitle": false,
     "tableResultSettingsMap": {},
     "title": ""
    }
   },
   "outputs": [
    {
     "output_type": "stream",
     "name": "stdout",
     "output_type": "stream",
     "text": [
      "+----------+------------+---------+-----+--------+-------------+\n|product_id|product_name| category|price|quantity|total_revenue|\n+----------+------------+---------+-----+--------+-------------+\n|       106|       Table|Furniture| 3200|      40|       128000|\n|       110|        Sofa|Furniture|45000|       5|       225000|\n+----------+------------+---------+-----+--------+-------------+\n\n"
     ]
    }
   ],
   "source": [
    "furniture = df_new.filter((col(\"category\")==\"Furniture\")&(col(\"price\")>3000))\n",
    "furniture.show()"
   ]
  },
  {
   "cell_type": "markdown",
   "metadata": {
    "application/vnd.databricks.v1+cell": {
     "cellMetadata": {},
     "inputWidgets": {},
     "nuid": "aac02c87-c795-4cc0-b851-4ce5e4de5679",
     "showTitle": false,
     "tableResultSettingsMap": {},
     "title": ""
    }
   },
   "source": [
    "Create a new column price_band with values:\n",
    "'High' if price > 10000\n",
    "'Medium' if 3000 < price <= 10000\n",
    "'Low' if price ≤ 3000"
   ]
  },
  {
   "cell_type": "code",
   "execution_count": 0,
   "metadata": {
    "application/vnd.databricks.v1+cell": {
     "cellMetadata": {
      "byteLimit": 2048000,
      "rowLimit": 10000
     },
     "inputWidgets": {},
     "nuid": "f18d39d1-06b6-4746-8a45-c5ea0199118e",
     "showTitle": false,
     "tableResultSettingsMap": {},
     "title": ""
    }
   },
   "outputs": [
    {
     "output_type": "stream",
     "name": "stdout",
     "output_type": "stream",
     "text": [
      "+----------+------------+-----------+-----+--------+-------------+----------+\n|product_id|product_name|   category|price|quantity|total_revenue|price_band|\n+----------+------------+-----------+-----+--------+-------------+----------+\n|       101|      Laptop|Electronics|55000|      10|       550000|      High|\n|       102|  Smartphone|Electronics|30000|      25|       750000|      High|\n|       103|       Chair|  Furniture| 2500|      50|       125000|       Low|\n|       104|        Book| Stationery|  400|     200|        80000|       Low|\n|       105|  Headphones|Electronics| 1500|     100|       150000|       Low|\n|       106|       Table|  Furniture| 3200|      40|       128000|    Medium|\n|       107|         Pen| Stationery|   20|     500|        10000|       Low|\n|       108|     Monitor|Electronics|12000|      15|       180000|      High|\n|       109|    Notebook| Stationery|   60|     300|        18000|       Low|\n|       110|        Sofa|  Furniture|45000|       5|       225000|      High|\n+----------+------------+-----------+-----+--------+-------------+----------+\n\n"
     ]
    }
   ],
   "source": [
    "from pyspark.sql.functions import when\n",
    "df_new = df_new.withColumn(\"price_band\",\n",
    "                           when(col(\"price\")>10000,\"High\")\n",
    "                           .when((col(\"price\")>3000)&(col(\"price\")<=10000),\"Medium\")\n",
    "                           .otherwise(\"Low\"))\n",
    "df_new.show()\n"
   ]
  },
  {
   "cell_type": "markdown",
   "metadata": {
    "application/vnd.databricks.v1+cell": {
     "cellMetadata": {},
     "inputWidgets": {},
     "nuid": "fed9bcaf-4fca-4bd0-be19-b0625371e836",
     "showTitle": false,
     "tableResultSettingsMap": {},
     "title": ""
    }
   },
   "source": [
    "Group by category and calculate total quantity sold."
   ]
  },
  {
   "cell_type": "code",
   "execution_count": 0,
   "metadata": {
    "application/vnd.databricks.v1+cell": {
     "cellMetadata": {
      "byteLimit": 2048000,
      "rowLimit": 10000
     },
     "inputWidgets": {},
     "nuid": "229d8d27-21d8-423f-ab41-7be24c2e204a",
     "showTitle": false,
     "tableResultSettingsMap": {},
     "title": ""
    }
   },
   "outputs": [
    {
     "output_type": "stream",
     "name": "stdout",
     "output_type": "stream",
     "text": [
      "+-----------+-----+\n|   category|total|\n+-----------+-----+\n|Electronics|  150|\n|  Furniture|   95|\n| Stationery| 1000|\n+-----------+-----+\n\n"
     ]
    }
   ],
   "source": [
    "from pyspark.sql.functions import sum\n",
    "df_new.groupBy(col(\"category\")).agg(sum(\"quantity\").alias(\"total\")).show()\n"
   ]
  },
  {
   "cell_type": "markdown",
   "metadata": {
    "application/vnd.databricks.v1+cell": {
     "cellMetadata": {},
     "inputWidgets": {},
     "nuid": "2502439f-11ab-48cb-b5f4-22ebd89fd8dd",
     "showTitle": false,
     "tableResultSettingsMap": {},
     "title": ""
    }
   },
   "source": [
    "Calculate average price of products for each category."
   ]
  },
  {
   "cell_type": "code",
   "execution_count": 0,
   "metadata": {
    "application/vnd.databricks.v1+cell": {
     "cellMetadata": {
      "byteLimit": 2048000,
      "rowLimit": 10000
     },
     "inputWidgets": {},
     "nuid": "e2195957-8939-4530-a220-6efcad517589",
     "showTitle": false,
     "tableResultSettingsMap": {},
     "title": ""
    }
   },
   "outputs": [
    {
     "output_type": "stream",
     "name": "stdout",
     "output_type": "stream",
     "text": [
      "+-----------+-------+\n|   category|average|\n+-----------+-------+\n|Electronics|24625.0|\n| Stationery|  160.0|\n|  Furniture|16900.0|\n+-----------+-------+\n\n"
     ]
    }
   ],
   "source": [
    "from pyspark.sql.functions import avg\n",
    "df_new.groupBy(col(\"category\")).agg(avg(\"price\").alias(\"average\")).show()"
   ]
  },
  {
   "cell_type": "markdown",
   "metadata": {
    "application/vnd.databricks.v1+cell": {
     "cellMetadata": {},
     "inputWidgets": {},
     "nuid": "600ca43b-0d87-4e7f-8fdc-2a3feb66d8c7",
     "showTitle": false,
     "tableResultSettingsMap": {},
     "title": ""
    }
   },
   "source": [
    "Count how many products fall in each price_band"
   ]
  },
  {
   "cell_type": "code",
   "execution_count": 0,
   "metadata": {
    "application/vnd.databricks.v1+cell": {
     "cellMetadata": {
      "byteLimit": 2048000,
      "rowLimit": 10000
     },
     "inputWidgets": {},
     "nuid": "9c1ad618-6b55-478a-a96e-ace0784070fa",
     "showTitle": false,
     "tableResultSettingsMap": {},
     "title": ""
    }
   },
   "outputs": [
    {
     "output_type": "stream",
     "name": "stdout",
     "output_type": "stream",
     "text": [
      "+----------+---------+\n|price_band|total_qty|\n+----------+---------+\n|      High|        4|\n|       Low|        5|\n|    Medium|        1|\n+----------+---------+\n\n"
     ]
    }
   ],
   "source": [
    "from pyspark.sql.functions import count\n",
    "df_new.groupBy(\"price_band\").agg(count(\"*\").alias(\"total_qty\")).show()\n"
   ]
  },
  {
   "cell_type": "markdown",
   "metadata": {
    "application/vnd.databricks.v1+cell": {
     "cellMetadata": {},
     "inputWidgets": {},
     "nuid": "a0b18475-3837-4710-b2b4-9f13e739ddbf",
     "showTitle": false,
     "tableResultSettingsMap": {},
     "title": ""
    }
   },
   "source": [
    "Write the filtered Electronics products (price > 5000) into a Parquet file."
   ]
  },
  {
   "cell_type": "code",
   "execution_count": 0,
   "metadata": {
    "application/vnd.databricks.v1+cell": {
     "cellMetadata": {
      "byteLimit": 2048000,
      "rowLimit": 10000
     },
     "inputWidgets": {},
     "nuid": "c3732c7e-415e-40bf-a95a-4a922c979239",
     "showTitle": false,
     "tableResultSettingsMap": {},
     "title": ""
    }
   },
   "outputs": [
    {
     "output_type": "stream",
     "name": "stdout",
     "output_type": "stream",
     "text": [
      "+----------+------------+-----------+-----+--------+-------------+----------+\n|product_id|product_name|   category|price|quantity|total_revenue|price_band|\n+----------+------------+-----------+-----+--------+-------------+----------+\n|       101|      Laptop|Electronics|55000|      10|       550000|      High|\n|       102|  Smartphone|Electronics|30000|      25|       750000|      High|\n|       108|     Monitor|Electronics|12000|      15|       180000|      High|\n+----------+------------+-----------+-----+--------+-------------+----------+\n\n"
     ]
    }
   ],
   "source": [
    "electronics = df_new.filter((col(\"category\")==\"Electronics\")&(col(\"price\")>5000))\n",
    "electronics.show()\n",
    "electronics.write.mode(\"overwrite\").parquet(\"tmp/electronics_product_parquet\")"
   ]
  },
  {
   "cell_type": "markdown",
   "metadata": {
    "application/vnd.databricks.v1+cell": {
     "cellMetadata": {},
     "inputWidgets": {},
     "nuid": "7dc519e1-c49f-43c0-95bf-f057487c2fb0",
     "showTitle": false,
     "tableResultSettingsMap": {},
     "title": ""
    }
   },
   "source": [
    "Write the Stationery products into a JSON file."
   ]
  },
  {
   "cell_type": "code",
   "execution_count": 0,
   "metadata": {
    "application/vnd.databricks.v1+cell": {
     "cellMetadata": {
      "byteLimit": 2048000,
      "rowLimit": 10000
     },
     "inputWidgets": {},
     "nuid": "975c96e4-1d6f-45d4-b03e-2de871feb2fd",
     "showTitle": false,
     "tableResultSettingsMap": {},
     "title": ""
    }
   },
   "outputs": [
    {
     "output_type": "stream",
     "name": "stdout",
     "output_type": "stream",
     "text": [
      "+----------+------------+----------+-----+--------+-------------+----------+\n|product_id|product_name|  category|price|quantity|total_revenue|price_band|\n+----------+------------+----------+-----+--------+-------------+----------+\n|       104|        Book|Stationery|  400|     200|        80000|       Low|\n|       107|         Pen|Stationery|   20|     500|        10000|       Low|\n|       109|    Notebook|Stationery|   60|     300|        18000|       Low|\n+----------+------------+----------+-----+--------+-------------+----------+\n\n"
     ]
    }
   ],
   "source": [
    "stationery = df_new.filter(col(\"category\")==\"Stationery\")\n",
    "stationery.show()\n",
    "stationery.write.mode(\"overwrite\").json(\"tmp/stationery_product_json\")"
   ]
  },
  {
   "cell_type": "markdown",
   "metadata": {
    "application/vnd.databricks.v1+cell": {
     "cellMetadata": {},
     "inputWidgets": {},
     "nuid": "506e9c85-4a1c-47a2-86a3-bb3460e5652c",
     "showTitle": false,
     "tableResultSettingsMap": {},
     "title": ""
    }
   },
   "source": [
    "Load Parquet back and run a query to find which category has highest total\n",
    "revenue."
   ]
  },
  {
   "cell_type": "code",
   "execution_count": 0,
   "metadata": {
    "application/vnd.databricks.v1+cell": {
     "cellMetadata": {
      "byteLimit": 2048000,
      "rowLimit": 10000
     },
     "inputWidgets": {},
     "nuid": "fa731be1-96c4-4690-a4f9-5e5a06b381ce",
     "showTitle": false,
     "tableResultSettingsMap": {},
     "title": ""
    }
   },
   "outputs": [
    {
     "output_type": "stream",
     "name": "stdout",
     "output_type": "stream",
     "text": [
      "+-----------+-------------+\n|   category|total_revenue|\n+-----------+-------------+\n|Electronics|    1630000.0|\n+-----------+-------------+\n\n"
     ]
    }
   ],
   "source": [
    "back_parquet = spark.read.parquet(\"dbfs:/tmp/product_parquet\")\n",
    "# back_parquet.show()\n",
    "back_parquet = back_parquet.withColumn(\"total_revenue\",col(\"price\")*col(\"quantity\"))\n",
    "high_revenue = back_parquet.groupBy(col(\"category\")).agg(sum(\"total_revenue\").alias(\"total_revenue\")).orderBy(\"total_revenue\",ascending = False).limit(1)\n",
    "high_revenue.show()"
   ]
  },
  {
   "cell_type": "markdown",
   "metadata": {
    "application/vnd.databricks.v1+cell": {
     "cellMetadata": {},
     "inputWidgets": {},
     "nuid": "c888a22c-2cca-4368-96fb-201dab2b2297",
     "showTitle": false,
     "tableResultSettingsMap": {},
     "title": ""
    }
   },
   "source": [
    "BONUS: Create a temporary view from the DataFrame and run Spark SQL to find all\n",
    "products with quantity > 100 and price < 1000."
   ]
  },
  {
   "cell_type": "code",
   "execution_count": 0,
   "metadata": {
    "application/vnd.databricks.v1+cell": {
     "cellMetadata": {
      "byteLimit": 2048000,
      "rowLimit": 10000
     },
     "inputWidgets": {},
     "nuid": "6b120138-3839-4a53-9f27-6488daa621de",
     "showTitle": false,
     "tableResultSettingsMap": {},
     "title": ""
    }
   },
   "outputs": [
    {
     "output_type": "stream",
     "name": "stdout",
     "output_type": "stream",
     "text": [
      "+----------+------------+----------+-----+--------+-------------+----------+\n|product_id|product_name|  category|price|quantity|total_revenue|price_band|\n+----------+------------+----------+-----+--------+-------------+----------+\n|       104|        Book|Stationery|  400|     200|        80000|       Low|\n|       107|         Pen|Stationery|   20|     500|        10000|       Low|\n|       109|    Notebook|Stationery|   60|     300|        18000|       Low|\n+----------+------------+----------+-----+--------+-------------+----------+\n\n"
     ]
    }
   ],
   "source": [
    "df_new.createOrReplaceTempView(\"products\")\n",
    "spark.sql(\"\"\"\n",
    "          select * \n",
    "          from products\n",
    "          where quantity >100 and price <1000\"\"\").show()"
   ]
  }
 ],
 "metadata": {
  "application/vnd.databricks.v1+notebook": {
   "computePreferences": null,
   "dashboards": [],
   "environmentMetadata": {
    "base_environment": "",
    "environment_version": "2"
   },
   "inputWidgetPreferences": null,
   "language": "python",
   "notebookMetadata": {
    "mostRecentlyExecutedCommandWithImplicitDF": {
     "commandId": -1,
     "dataframes": [
      "_sqldf"
     ]
    },
    "pythonIndentUnit": 4
   },
   "notebookName": "Practise+task_1",
   "widgets": {}
  },
  "language_info": {
   "name": "python"
  }
 },
 "nbformat": 4,
 "nbformat_minor": 0
}