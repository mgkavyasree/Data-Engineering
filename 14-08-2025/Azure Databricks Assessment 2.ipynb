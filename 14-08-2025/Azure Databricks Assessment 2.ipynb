{
  "nbformat": 4,
  "nbformat_minor": 0,
  "metadata": {
    "colab": {
      "provenance": []
    },
    "kernelspec": {
      "name": "python3",
      "display_name": "Python 3"
    },
    "language_info": {
      "name": "python"
    }
  },
  "cells": [
    {
      "cell_type": "markdown",
      "source": [
        "# Azure Databricks Assessment 2"
      ],
      "metadata": {
        "id": "Ji89PEyLS4tL"
      }
    },
    {
      "cell_type": "markdown",
      "source": [
        "# Ride-Hailing Trips + Drivers (inline)"
      ],
      "metadata": {
        "id": "S3mlyCMyTDHt"
      }
    },
    {
      "cell_type": "markdown",
      "source": [
        "# Setup"
      ],
      "metadata": {
        "id": "MjxGpavLWClo"
      }
    },
    {
      "cell_type": "code",
      "execution_count": 1,
      "metadata": {
        "colab": {
          "base_uri": "https://localhost:8080/"
        },
        "id": "misyc4eOONJv",
        "outputId": "26871f3b-73cb-4f92-dd52-cee446b34fa9"
      },
      "outputs": [
        {
          "output_type": "stream",
          "name": "stdout",
          "text": [
            "Requirement already satisfied: pyspark==3.5.1 in /usr/local/lib/python3.11/dist-packages (3.5.1)\n",
            "Collecting delta-spark==3.1.0\n",
            "  Downloading delta_spark-3.1.0-py3-none-any.whl.metadata (1.9 kB)\n",
            "Requirement already satisfied: py4j==0.10.9.7 in /usr/local/lib/python3.11/dist-packages (from pyspark==3.5.1) (0.10.9.7)\n",
            "Requirement already satisfied: importlib-metadata>=1.0.0 in /usr/local/lib/python3.11/dist-packages (from delta-spark==3.1.0) (8.7.0)\n",
            "Requirement already satisfied: zipp>=3.20 in /usr/local/lib/python3.11/dist-packages (from importlib-metadata>=1.0.0->delta-spark==3.1.0) (3.23.0)\n",
            "Downloading delta_spark-3.1.0-py3-none-any.whl (21 kB)\n",
            "Installing collected packages: delta-spark\n",
            "Successfully installed delta-spark-3.1.0\n"
          ]
        }
      ],
      "source": [
        "# Install dependencies (only needed in Google Colab)\n",
        "# In Azure Databricks, skip this cell\n",
        "!pip install pyspark==3.5.1 delta-spark==3.1.0\n",
        "from pyspark.sql import SparkSession\n",
        "from delta import configure_spark_with_delta_pip"
      ]
    },
    {
      "cell_type": "code",
      "source": [
        "# using DELTA in colab\n",
        "!pip install delta-spark==3.2.0 -q\n",
        "import pyspark\n",
        "from delta import *\n",
        "from pyspark.sql.functions import *\n",
        "\n",
        "# Create a SparkSession with Delta Lake extensions\n",
        "# The '.config(...)' lines are crucial for enabling Delta Lake's features\n",
        "builder = pyspark.sql.SparkSession.builder.appName(\"DataRideHailing\") \\\n",
        "    .config(\"spark.sql.extensions\", \"io.delta.sql.DeltaSparkSessionExtension\") \\\n",
        "    .config(\"spark.sql.catalog.spark_catalog\", \"org.apache.spark.sql.delta.catalog.DeltaCatalog\")\n",
        "\n",
        "# Get or create the SparkSession\n",
        "spark = configure_spark_with_delta_pip(builder).getOrCreate()\n",
        "\n",
        "print(\"Spark and Delta Lake are ready!\")"
      ],
      "metadata": {
        "colab": {
          "base_uri": "https://localhost:8080/"
        },
        "id": "f-_MpzGaS343",
        "outputId": "1977a23a-2d4e-4014-f71e-8683c3ca2937"
      },
      "execution_count": 6,
      "outputs": [
        {
          "output_type": "stream",
          "name": "stdout",
          "text": [
            "Spark and Delta Lake are ready!\n"
          ]
        }
      ]
    },
    {
      "cell_type": "code",
      "source": [
        "from pyspark.sql import SparkSession\n",
        "from delta import configure_spark_with_delta_pip\n",
        "from pyspark.sql import types as T\n",
        "from datetime import datetime"
      ],
      "metadata": {
        "id": "5KG0AcOdTJlo"
      },
      "execution_count": 7,
      "outputs": []
    },
    {
      "cell_type": "code",
      "source": [
        "# ---------- Inline data ----------\n",
        "# ---------- Schemas ----------\n",
        "trip_schema = T.StructType([\n",
        "    T.StructField(\"trip_id\", T.IntegerType()),\n",
        "    T.StructField(\"rider_id\", T.StringType()),\n",
        "    T.StructField(\"driver_id\", T.StringType()),\n",
        "    T.StructField(\"city\", T.StringType()),\n",
        "    T.StructField(\"distance_km\", T.DoubleType()),\n",
        "    T.StructField(\"fare\", T.DoubleType()),\n",
        "    T.StructField(\"tip\", T.DoubleType()),\n",
        "    T.StructField(\"ts\", T.TimestampType())\n",
        "])\n",
        "\n",
        "driver_schema = T.StructType([\n",
        "    T.StructField(\"driver_id\", T.StringType()),\n",
        "    T.StructField(\"driver_name\", T.StringType()),\n",
        "    T.StructField(\"rating\", T.DoubleType()),\n",
        "    T.StructField(\"vehicle\", T.StringType())\n",
        "])"
      ],
      "metadata": {
        "id": "7HCx5N7ZTb15"
      },
      "execution_count": 8,
      "outputs": []
    },
    {
      "cell_type": "code",
      "source": [
        "# ---------- Data ----------\n",
        "trips_rows = [\n",
        "    (1001,\"R001\",\"D010\",\"Bengaluru\", 12.4, 320.0, 20.0, datetime(2025,8,8,8,5,0)),\n",
        "    (1002,\"R002\",\"D011\",\"Hyderabad\", 6.2, 150.0, 10.0, datetime(2025,8,8,8,15,0)),\n",
        "    (1003,\"R003\",\"D012\",\"Pune\", 3.5, 90.0, 0.0, datetime(2025,8,8,8,20,0)),\n",
        "    (1004,\"R001\",\"D010\",\"Bengaluru\", 18.9, 480.0, 25.0, datetime(2025,8,8,8,45,0)),\n",
        "    (1005,\"R004\",\"D013\",\"Chennai\", 10.0, 260.0, 15.0, datetime(2025,8,8,9,5,0)),\n",
        "    (1006,\"R005\",\"D012\",\"Pune\", 2.2, 70.0, 0.0, datetime(2025,8,8,9,10,0)),\n",
        "]\n",
        "\n",
        "drivers_rows = [\n",
        "    (\"D010\",\"Anil\", 4.8,\"WagonR\"),\n",
        "    (\"D011\",\"Sana\", 4.6,\"i20\"),\n",
        "    (\"D012\",\"Rakesh\", 4.4,\"Swift\"),\n",
        "    (\"D013\",\"Meera\", 4.9,\"Ciaz\")\n",
        "]"
      ],
      "metadata": {
        "id": "xtQ6oY1dThV3"
      },
      "execution_count": 9,
      "outputs": []
    },
    {
      "cell_type": "code",
      "source": [
        "# Create DataFrames\n",
        "trips_df = spark.createDataFrame(trips_rows, schema=trip_schema)\n",
        "drivers_df = spark.createDataFrame(drivers_rows, schema=driver_schema)"
      ],
      "metadata": {
        "id": "ULrah6GJVnwv"
      },
      "execution_count": 10,
      "outputs": []
    },
    {
      "cell_type": "code",
      "source": [
        "# ---------- Save as Delta ----------\n",
        "BASE = \"/tmp/delta/ride_hailing\"\n",
        "TRIPS_PATH = f\"{BASE}/trips\"\n",
        "DRIVERS_PATH = f\"{BASE}/drivers\"\n",
        "\n",
        "trips_df.write.format(\"delta\").mode(\"overwrite\").save(TRIPS_PATH)\n",
        "drivers_df.write.format(\"delta\").mode(\"overwrite\").save(DRIVERS_PATH)\n",
        "\n",
        "print(\"Seeded:\")\n",
        "print(\" Trips ->\", TRIPS_PATH)\n",
        "print(\" Drivers ->\", DRIVERS_PATH)"
      ],
      "metadata": {
        "colab": {
          "base_uri": "https://localhost:8080/"
        },
        "id": "Hxx__WpQVqkW",
        "outputId": "ac98d722-3ab5-4310-ccd9-a2951bf0573e"
      },
      "execution_count": 11,
      "outputs": [
        {
          "output_type": "stream",
          "name": "stdout",
          "text": [
            "Seeded:\n",
            " Trips -> /tmp/delta/ride_hailing/trips\n",
            " Drivers -> /tmp/delta/ride_hailing/drivers\n"
          ]
        }
      ]
    },
    {
      "cell_type": "code",
      "source": [
        "# Show drivers and trips tables\n",
        "drivers_df.show()\n",
        "trips_df.show()"
      ],
      "metadata": {
        "colab": {
          "base_uri": "https://localhost:8080/"
        },
        "id": "KnJqGRQVWL5y",
        "outputId": "81c4d46a-5e6c-4b13-86fe-97946ce643d2"
      },
      "execution_count": 14,
      "outputs": [
        {
          "output_type": "stream",
          "name": "stdout",
          "text": [
            "+---------+-----------+------+-------+\n",
            "|driver_id|driver_name|rating|vehicle|\n",
            "+---------+-----------+------+-------+\n",
            "|     D010|       Anil|   4.8| WagonR|\n",
            "|     D011|       Sana|   4.6|    i20|\n",
            "|     D012|     Rakesh|   4.4|  Swift|\n",
            "|     D013|      Meera|   4.9|   Ciaz|\n",
            "+---------+-----------+------+-------+\n",
            "\n",
            "+-------+--------+---------+---------+-----------+-----+----+-------------------+\n",
            "|trip_id|rider_id|driver_id|     city|distance_km| fare| tip|                 ts|\n",
            "+-------+--------+---------+---------+-----------+-----+----+-------------------+\n",
            "|   1001|    R001|     D010|Bengaluru|       12.4|320.0|20.0|2025-08-08 08:05:00|\n",
            "|   1002|    R002|     D011|Hyderabad|        6.2|150.0|10.0|2025-08-08 08:15:00|\n",
            "|   1003|    R003|     D012|     Pune|        3.5| 90.0| 0.0|2025-08-08 08:20:00|\n",
            "|   1004|    R001|     D010|Bengaluru|       18.9|480.0|25.0|2025-08-08 08:45:00|\n",
            "|   1005|    R004|     D013|  Chennai|       10.0|260.0|15.0|2025-08-08 09:05:00|\n",
            "|   1006|    R005|     D012|     Pune|        2.2| 70.0| 0.0|2025-08-08 09:10:00|\n",
            "+-------+--------+---------+---------+-----------+-----+----+-------------------+\n",
            "\n"
          ]
        }
      ]
    },
    {
      "cell_type": "markdown",
      "source": [
        "# Exercises"
      ],
      "metadata": {
        "id": "4wF-k5odWig1"
      }
    },
    {
      "cell_type": "markdown",
      "source": [
        "# 1) Managed vs Unmanaged Tables\n",
        "    Create a managed Delta table trips_managed by AS SELECT from the Delta path.\n",
        "    Create an external (unmanaged) table drivers_ext that points to DRIVERS_PATH .\n",
        "    Verify locations with DESCRIBE DETAIL and explain the difference in your own\n",
        "    words."
      ],
      "metadata": {
        "id": "XF_iOm8MWj7o"
      }
    },
    {
      "cell_type": "code",
      "source": [
        "# Create a managed Delta table trips_managed by AS SELECT from the Delta path.\n",
        "spark.sql(f\"DROP TABLE IF EXISTS trips_managed\")\n",
        "\n",
        "spark.sql(f\"\"\"\n",
        "CREATE TABLE trips_managed\n",
        "USING DELTA\n",
        "AS SELECT * FROM delta.`{TRIPS_PATH}`\n",
        "\"\"\")"
      ],
      "metadata": {
        "colab": {
          "base_uri": "https://localhost:8080/"
        },
        "id": "PFSOgvwTWd1L",
        "outputId": "cd256c4d-2895-4458-8e73-672492c219aa"
      },
      "execution_count": 15,
      "outputs": [
        {
          "output_type": "execute_result",
          "data": {
            "text/plain": [
              "DataFrame[]"
            ]
          },
          "metadata": {},
          "execution_count": 15
        }
      ]
    },
    {
      "cell_type": "code",
      "source": [
        "# Create an external (unmanaged) table drivers_ext that points to DRIVERS_PATH .\n",
        "spark.sql(f\"DROP TABLE IF EXISTS drivers_ext\")\n",
        "\n",
        "spark.sql(f\"\"\"\n",
        "CREATE TABLE drivers_ext\n",
        "USING DELTA\n",
        "LOCATION '{DRIVERS_PATH}'\n",
        "\"\"\")"
      ],
      "metadata": {
        "colab": {
          "base_uri": "https://localhost:8080/"
        },
        "id": "4R_EBZlcZiK1",
        "outputId": "9c292597-09ed-4cb0-be02-73d14d778a32"
      },
      "execution_count": 16,
      "outputs": [
        {
          "output_type": "execute_result",
          "data": {
            "text/plain": [
              "DataFrame[]"
            ]
          },
          "metadata": {},
          "execution_count": 16
        }
      ]
    },
    {
      "cell_type": "code",
      "source": [
        "# Verify locations with DESCRIBE DETAIL and explain the difference in your own words.\n",
        "\n",
        "print(\"Managed table detail:\")\n",
        "spark.sql(\"DESCRIBE DETAIL trips_managed\").show(truncate=False)\n",
        "print(\"Unmanaged table detail:\")\n",
        "spark.sql(\"DESCRIBE DETAIL drivers_ext\").show(truncate=False)"
      ],
      "metadata": {
        "colab": {
          "base_uri": "https://localhost:8080/"
        },
        "id": "HIs9JvsKZ5PT",
        "outputId": "4afc2bd8-e0dd-48fb-9dd7-683cd444675f"
      },
      "execution_count": 17,
      "outputs": [
        {
          "output_type": "stream",
          "name": "stdout",
          "text": [
            "Managed table detail:\n",
            "+------+------------------------------------+-----------------------------------+-----------+-------------------------------------------+-----------------------+-----------------------+----------------+-----------------+--------+-----------+----------+----------------+----------------+------------------------+\n",
            "|format|id                                  |name                               |description|location                                   |createdAt              |lastModified           |partitionColumns|clusteringColumns|numFiles|sizeInBytes|properties|minReaderVersion|minWriterVersion|tableFeatures           |\n",
            "+------+------------------------------------+-----------------------------------+-----------+-------------------------------------------+-----------------------+-----------------------+----------------+-----------------+--------+-----------+----------+----------------+----------------+------------------------+\n",
            "|delta |67c40642-ea14-4f5b-91ac-6eaa5b91925b|spark_catalog.default.trips_managed|NULL       |file:/content/spark-warehouse/trips_managed|2025-08-14 07:08:05.515|2025-08-14 07:08:14.708|[]              |[]               |2       |4536       |{}        |1               |2               |[appendOnly, invariants]|\n",
            "+------+------------------------------------+-----------------------------------+-----------+-------------------------------------------+-----------------------+-----------------------+----------------+-----------------+--------+-----------+----------+----------------+----------------+------------------------+\n",
            "\n",
            "Unmanaged table detail:\n",
            "+------+------------------------------------+---------------------------------+-----------+------------------------------------+-----------------------+-----------------------+----------------+-----------------+--------+-----------+----------+----------------+----------------+------------------------+\n",
            "|format|id                                  |name                             |description|location                            |createdAt              |lastModified           |partitionColumns|clusteringColumns|numFiles|sizeInBytes|properties|minReaderVersion|minWriterVersion|tableFeatures           |\n",
            "+------+------------------------------------+---------------------------------+-----------+------------------------------------+-----------------------+-----------------------+----------------+-----------------+--------+-----------+----------+----------------+----------------+------------------------+\n",
            "|delta |979db165-c489-49bf-adca-8fbad8837e93|spark_catalog.default.drivers_ext|NULL       |file:/tmp/delta/ride_hailing/drivers|2025-08-14 06:51:00.194|2025-08-14 06:51:01.135|[]              |[]               |2       |2481       |{}        |1               |2               |[appendOnly, invariants]|\n",
            "+------+------------------------------------+---------------------------------+-----------+------------------------------------+-----------------------+-----------------------+----------------+-----------------+--------+-----------+----------+----------------+----------------+------------------------+\n",
            "\n"
          ]
        }
      ]
    },
    {
      "cell_type": "code",
      "source": [
        "# show tables from managed and unmanaged tables\n",
        "spark.sql(\"SHOW TABLES\").show()"
      ],
      "metadata": {
        "colab": {
          "base_uri": "https://localhost:8080/"
        },
        "id": "fuKhCRpzbItj",
        "outputId": "2becbe33-d4db-47ca-ddf2-3c696ac80b89"
      },
      "execution_count": 20,
      "outputs": [
        {
          "output_type": "stream",
          "name": "stdout",
          "text": [
            "+---------+-------------+-----------+\n",
            "|namespace|    tableName|isTemporary|\n",
            "+---------+-------------+-----------+\n",
            "|  default|  drivers_ext|      false|\n",
            "|  default|trips_managed|      false|\n",
            "+---------+-------------+-----------+\n",
            "\n"
          ]
        }
      ]
    },
    {
      "cell_type": "code",
      "source": [
        "# show records of tables managed and unmanaged\n",
        "spark.sql(\"SELECT * FROM trips_managed\").show()\n",
        "spark.sql(\"SELECT * FROM drivers_ext\").show()"
      ],
      "metadata": {
        "colab": {
          "base_uri": "https://localhost:8080/"
        },
        "id": "15PkPy6RbQbg",
        "outputId": "63a6874e-311a-4761-a10d-558378c04607"
      },
      "execution_count": 21,
      "outputs": [
        {
          "output_type": "stream",
          "name": "stdout",
          "text": [
            "+-------+--------+---------+---------+-----------+-----+----+-------------------+\n",
            "|trip_id|rider_id|driver_id|     city|distance_km| fare| tip|                 ts|\n",
            "+-------+--------+---------+---------+-----------+-----+----+-------------------+\n",
            "|   1001|    R001|     D010|Bengaluru|       12.4|320.0|20.0|2025-08-08 08:05:00|\n",
            "|   1002|    R002|     D011|Hyderabad|        6.2|150.0|10.0|2025-08-08 08:15:00|\n",
            "|   1003|    R003|     D012|     Pune|        3.5| 90.0| 0.0|2025-08-08 08:20:00|\n",
            "|   1004|    R001|     D010|Bengaluru|       18.9|480.0|25.0|2025-08-08 08:45:00|\n",
            "|   1005|    R004|     D013|  Chennai|       10.0|260.0|15.0|2025-08-08 09:05:00|\n",
            "|   1006|    R005|     D012|     Pune|        2.2| 70.0| 0.0|2025-08-08 09:10:00|\n",
            "+-------+--------+---------+---------+-----------+-----+----+-------------------+\n",
            "\n",
            "+---------+-----------+------+-------+\n",
            "|driver_id|driver_name|rating|vehicle|\n",
            "+---------+-----------+------+-------+\n",
            "|     D012|     Rakesh|   4.4|  Swift|\n",
            "|     D013|      Meera|   4.9|   Ciaz|\n",
            "|     D010|       Anil|   4.8| WagonR|\n",
            "|     D011|       Sana|   4.6|    i20|\n",
            "+---------+-----------+------+-------+\n",
            "\n"
          ]
        }
      ]
    },
    {
      "cell_type": "markdown",
      "source": [
        "# 2) Read & Explore\n",
        "    Read both tables, print schemas, and show 10 rows.\n",
        "    Compute a derived column total_amount = fare + tip and show top 5 trips by total_amount ."
      ],
      "metadata": {
        "id": "rBxFF3WCaer4"
      }
    },
    {
      "cell_type": "code",
      "source": [
        "# Read both tables, print schemas, and show 10 rows.\n",
        "df_trips = spark.read.format(\"delta\").load(TRIPS_PATH)\n",
        "df_drivers = spark.read.format(\"delta\").load(DRIVERS_PATH)\n",
        "\n",
        "df_trips.printSchema()\n",
        "df_drivers.printSchema()"
      ],
      "metadata": {
        "colab": {
          "base_uri": "https://localhost:8080/"
        },
        "id": "8k7uAFZ7aKH3",
        "outputId": "bfb93d3d-8bbe-4b79-c5b2-69ea4e8a8e80"
      },
      "execution_count": 18,
      "outputs": [
        {
          "output_type": "stream",
          "name": "stdout",
          "text": [
            "root\n",
            " |-- trip_id: integer (nullable = true)\n",
            " |-- rider_id: string (nullable = true)\n",
            " |-- driver_id: string (nullable = true)\n",
            " |-- city: string (nullable = true)\n",
            " |-- distance_km: double (nullable = true)\n",
            " |-- fare: double (nullable = true)\n",
            " |-- tip: double (nullable = true)\n",
            " |-- ts: timestamp (nullable = true)\n",
            "\n",
            "root\n",
            " |-- driver_id: string (nullable = true)\n",
            " |-- driver_name: string (nullable = true)\n",
            " |-- rating: double (nullable = true)\n",
            " |-- vehicle: string (nullable = true)\n",
            "\n"
          ]
        }
      ]
    },
    {
      "cell_type": "code",
      "source": [
        "# Compute a derived column total_amount = fare + tip and show top 5 trips by total_amount .\n",
        "from pyspark.sql import functions as F\n",
        "df_trips.withColumn(\"total_amount\", F.col(\"fare\") + F.col(\"tip\")) \\\n",
        "    .orderBy(F.desc(\"total_amount\")).show(5, truncate=False)"
      ],
      "metadata": {
        "colab": {
          "base_uri": "https://localhost:8080/"
        },
        "id": "bRd5bPQzapn-",
        "outputId": "af5bf251-e89e-4052-932e-797c1105c563"
      },
      "execution_count": 19,
      "outputs": [
        {
          "output_type": "stream",
          "name": "stdout",
          "text": [
            "+-------+--------+---------+---------+-----------+-----+----+-------------------+------------+\n",
            "|trip_id|rider_id|driver_id|city     |distance_km|fare |tip |ts                 |total_amount|\n",
            "+-------+--------+---------+---------+-----------+-----+----+-------------------+------------+\n",
            "|1004   |R001    |D010     |Bengaluru|18.9       |480.0|25.0|2025-08-08 08:45:00|505.0       |\n",
            "|1001   |R001    |D010     |Bengaluru|12.4       |320.0|20.0|2025-08-08 08:05:00|340.0       |\n",
            "|1005   |R004    |D013     |Chennai  |10.0       |260.0|15.0|2025-08-08 09:05:00|275.0       |\n",
            "|1002   |R002    |D011     |Hyderabad|6.2        |150.0|10.0|2025-08-08 08:15:00|160.0       |\n",
            "|1003   |R003    |D012     |Pune     |3.5        |90.0 |0.0 |2025-08-08 08:20:00|90.0        |\n",
            "+-------+--------+---------+---------+-----------+-----+----+-------------------+------------+\n",
            "only showing top 5 rows\n",
            "\n"
          ]
        }
      ]
    },
    {
      "cell_type": "markdown",
      "source": [
        "# 3) Update (Business Rule)\n",
        "    Increase tip by 5 for trips in Bengaluru where distance_km > 15 .\n",
        "    Show before/after for affected rows only."
      ],
      "metadata": {
        "id": "XNxYLOn5blfB"
      }
    },
    {
      "cell_type": "code",
      "source": [
        "# Increase tip by 5 for trips in Bengaluru where distance_km > 15 .\n",
        "# Show before/after for affected rows only.\n",
        "\n",
        "from delta.tables import DeltaTable\n",
        "delta_trips = DeltaTable.forPath(spark, TRIPS_PATH)\n",
        "\n",
        "print(\"Before update:\")\n",
        "df_trips.filter((F.col(\"city\")==\"Bengaluru\") & (F.col(\"distance_km\")>15)).show()\n",
        "\n",
        "delta_trips.update(\n",
        "    condition=\"city='Bengaluru' AND distance_km>15\",\n",
        "    set={\"tip\": F.col(\"tip\") + 5}\n",
        ")\n",
        "\n",
        "print(\"After update:\")\n",
        "spark.read.format(\"delta\").load(TRIPS_PATH) \\\n",
        "    .filter((F.col(\"city\")==\"Bengaluru\") & (F.col(\"distance_km\")>15)).show()"
      ],
      "metadata": {
        "colab": {
          "base_uri": "https://localhost:8080/"
        },
        "id": "yIx3eGmgbGFu",
        "outputId": "1d8151a4-31a0-4957-cd61-a7137e6352e3"
      },
      "execution_count": 22,
      "outputs": [
        {
          "output_type": "stream",
          "name": "stdout",
          "text": [
            "Before update:\n",
            "+-------+--------+---------+---------+-----------+-----+----+-------------------+\n",
            "|trip_id|rider_id|driver_id|     city|distance_km| fare| tip|                 ts|\n",
            "+-------+--------+---------+---------+-----------+-----+----+-------------------+\n",
            "|   1004|    R001|     D010|Bengaluru|       18.9|480.0|25.0|2025-08-08 08:45:00|\n",
            "+-------+--------+---------+---------+-----------+-----+----+-------------------+\n",
            "\n",
            "After update:\n",
            "+-------+--------+---------+---------+-----------+-----+----+-------------------+\n",
            "|trip_id|rider_id|driver_id|     city|distance_km| fare| tip|                 ts|\n",
            "+-------+--------+---------+---------+-----------+-----+----+-------------------+\n",
            "|   1004|    R001|     D010|Bengaluru|       18.9|480.0|30.0|2025-08-08 08:45:00|\n",
            "+-------+--------+---------+---------+-----------+-----+----+-------------------+\n",
            "\n"
          ]
        }
      ]
    },
    {
      "cell_type": "markdown",
      "source": [
        "# 4) Delete (Data Quality)\n",
        "    Delete trips where fare <= 0 or distance_km <= 0 (simulate bad ingest).\n",
        "    Show remaining row count."
      ],
      "metadata": {
        "id": "hr0-X6EjcM7b"
      }
    },
    {
      "cell_type": "code",
      "source": [
        "# Delete trips where fare <= 0 or distance_km <= 0 (simulate bad ingest).\n",
        "delta_trips.delete(\"fare<=0 OR distance_km<=0\")"
      ],
      "metadata": {
        "id": "vJjzDb_8bsdR"
      },
      "execution_count": 23,
      "outputs": []
    },
    {
      "cell_type": "code",
      "source": [
        "# Show remaining row count.\n",
        "print(\"Row count after delete:\", spark.read.format(\"delta\").load(TRIPS_PATH).count())"
      ],
      "metadata": {
        "colab": {
          "base_uri": "https://localhost:8080/"
        },
        "id": "P4y-JJVdbyMm",
        "outputId": "70225095-9541-4672-e787-6a8bc18e15c8"
      },
      "execution_count": 24,
      "outputs": [
        {
          "output_type": "stream",
          "name": "stdout",
          "text": [
            "Row count after delete: 6\n"
          ]
        }
      ]
    },
    {
      "cell_type": "markdown",
      "source": [
        "# 5) Merge (Upsert New Batch)\n",
        "    Create a new inline batch with:\n",
        "    one existing trip_id (e.g., 1004) but a corrected fare or tip, and\n",
        "    one new trip (e.g., 1007). Perform a MERGE (match on trip_id ) to update the existing and insert the new.\n",
        "    Show rows for trip_id IN (1004,1007) to confirm."
      ],
      "metadata": {
        "id": "hHMcI3Oac4j9"
      }
    },
    {
      "cell_type": "code",
      "source": [
        "# Create a new inline batch with:\n",
        "# one existing trip_id (e.g., 1004) but a corrected fare or tip, and\n",
        "# one new trip (e.g., 1007). Perform a MERGE (match on trip_id ) to update the existing and insert the new.\n",
        "# Show rows for trip_id IN (1004,1007) to confirm.\n",
        "\n",
        "new_batch = [\n",
        "    (1004,\"R001\",\"D010\",\"Bengaluru\", 18.9, 500.0, 30.0, datetime(2025,8,8,8,45,0)),\n",
        "    (1007,\"R006\",\"D011\",\"Hyderabad\", 5.0, 120.0, 10.0, datetime(2025,8,8,9,20,0)),\n",
        "]\n",
        "df_new = spark.createDataFrame(new_batch, schema=trip_schema)\n",
        "\n",
        "delta_trips.alias(\"t\").merge(\n",
        "    df_new.alias(\"n\"),\n",
        "    \"t.trip_id = n.trip_id\"\n",
        ").whenMatchedUpdateAll().whenNotMatchedInsertAll().execute()\n",
        "\n",
        "spark.read.format(\"delta\").load(TRIPS_PATH) \\\n",
        "    .filter(F.col(\"trip_id\").isin(1004,1007)).show()"
      ],
      "metadata": {
        "colab": {
          "base_uri": "https://localhost:8080/"
        },
        "id": "XeF0CTHodKFk",
        "outputId": "b456e257-585d-4bcd-a94d-5b46adb8164d"
      },
      "execution_count": 25,
      "outputs": [
        {
          "output_type": "stream",
          "name": "stdout",
          "text": [
            "+-------+--------+---------+---------+-----------+-----+----+-------------------+\n",
            "|trip_id|rider_id|driver_id|     city|distance_km| fare| tip|                 ts|\n",
            "+-------+--------+---------+---------+-----------+-----+----+-------------------+\n",
            "|   1004|    R001|     D010|Bengaluru|       18.9|500.0|30.0|2025-08-08 08:45:00|\n",
            "|   1007|    R006|     D011|Hyderabad|        5.0|120.0|10.0|2025-08-08 09:20:00|\n",
            "+-------+--------+---------+---------+-----------+-----+----+-------------------+\n",
            "\n"
          ]
        }
      ]
    },
    {
      "cell_type": "markdown",
      "source": [
        "# 6) Gold View (Join & KPIs)\n",
        "    Join trips with drivers on driver_id .\n",
        "    Create a gold view with columns: trip_id, city, driver_name, rating distance_km, total_amount, ts .\n",
        "    From this gold view:\n",
        "    Compute city-wise total revenue and average driver rating.\n",
        "    Compute driver-wise total trips and top 3 drivers by revenue."
      ],
      "metadata": {
        "id": "r9aJraIrd0yf"
      }
    },
    {
      "cell_type": "code",
      "source": [
        "# Join trips with drivers on driver_id .\n",
        "df_gold = spark.read.format(\"delta\").load(TRIPS_PATH).alias(\"t\") \\\n",
        "    .join(df_drivers.alias(\"d\"), \"driver_id\") \\\n",
        "    .withColumn(\"total_amount\", F.col(\"fare\")+F.col(\"tip\")) \\\n",
        "    .select(\"trip_id\",\"city\",\"driver_name\",\"rating\",\"distance_km\",\"total_amount\",\"ts\")\n",
        "\n",
        "# Create a gold view with columns: trip_id, city, driver_name, rating, distance_km, total_amount, ts .\n",
        "df_gold.createOrReplaceTempView(\"gold_view\")\n",
        "\n",
        "# Compute city-wise total revenue and average driver rating.\n",
        "spark.sql(\"\"\"\n",
        "SELECT city, SUM(total_amount) AS total_revenue, AVG(rating) AS avg_rating\n",
        "FROM gold_view GROUP BY city\n",
        "\"\"\").show()\n",
        "\n",
        "# Compute driver-wise total trips and top 3 drivers by revenue.\n",
        "spark.sql(\"\"\"\n",
        "SELECT driver_name, SUM(total_amount) AS revenue\n",
        "FROM gold_view GROUP BY driver_name ORDER BY revenue DESC LIMIT 3\n",
        "\"\"\").show()"
      ],
      "metadata": {
        "colab": {
          "base_uri": "https://localhost:8080/"
        },
        "id": "KMld_45Hdxaq",
        "outputId": "dcd9f610-ca17-4a31-fab8-9e6bc20dd953"
      },
      "execution_count": 26,
      "outputs": [
        {
          "output_type": "stream",
          "name": "stdout",
          "text": [
            "+---------+-------------+----------+\n",
            "|     city|total_revenue|avg_rating|\n",
            "+---------+-------------+----------+\n",
            "|  Chennai|        275.0|       4.9|\n",
            "|     Pune|        160.0|       4.4|\n",
            "|Bengaluru|        870.0|       4.8|\n",
            "|Hyderabad|        290.0|       4.6|\n",
            "+---------+-------------+----------+\n",
            "\n",
            "+-----------+-------+\n",
            "|driver_name|revenue|\n",
            "+-----------+-------+\n",
            "|       Anil|  870.0|\n",
            "|       Sana|  290.0|\n",
            "|      Meera|  275.0|\n",
            "+-----------+-------+\n",
            "\n"
          ]
        }
      ]
    },
    {
      "cell_type": "markdown",
      "source": [
        "# 7) Time Travel & History\n",
        "    Show DESCRIBE HISTORY for the trips table (the one you updated/merged).\n",
        "    Read the table as of version 0, and compare counts and a few rows with the latest version."
      ],
      "metadata": {
        "id": "QwZvxQM6eW0C"
      }
    },
    {
      "cell_type": "code",
      "source": [
        "# Show DESCRIBE HISTORY for the trips table (the one you updated/merged).\n",
        "spark.sql(f\"DESCRIBE HISTORY delta.`{TRIPS_PATH}`\").show(truncate=False)"
      ],
      "metadata": {
        "colab": {
          "base_uri": "https://localhost:8080/"
        },
        "id": "utOIEmTqeSpN",
        "outputId": "3202c05d-e1e2-4081-a84f-7e8f223ba360"
      },
      "execution_count": 27,
      "outputs": [
        {
          "output_type": "stream",
          "name": "stdout",
          "text": [
            "+-------+-----------------------+------+--------+---------+---------------------------------------------------------------------------------------------------------------------------------------------------------------------------------------+----+--------+---------+-----------+--------------+-------------+-------------------------------------------------------------------------------------------------------------------------------------------------------------------------------------------------------------------------------------------------------------------------------------------------------------------------------------------------------------------------------------------------------------------------------------------------------------------------------------------------------------------------------------------------------------------------------------------------------------------------------------------------------+------------+-----------------------------------+\n",
            "|version|timestamp              |userId|userName|operation|operationParameters                                                                                                                                                                    |job |notebook|clusterId|readVersion|isolationLevel|isBlindAppend|operationMetrics                                                                                                                                                                                                                                                                                                                                                                                                                                                                                                                                                                                                                                       |userMetadata|engineInfo                         |\n",
            "+-------+-----------------------+------+--------+---------+---------------------------------------------------------------------------------------------------------------------------------------------------------------------------------------+----+--------+---------+-----------+--------------+-------------+-------------------------------------------------------------------------------------------------------------------------------------------------------------------------------------------------------------------------------------------------------------------------------------------------------------------------------------------------------------------------------------------------------------------------------------------------------------------------------------------------------------------------------------------------------------------------------------------------------------------------------------------------------+------------+-----------------------------------+\n",
            "|2      |2025-08-14 07:24:16.547|NULL  |NULL    |MERGE    |{predicate -> [\"(trip_id#4210 = trip_id#5941)\"], matchedPredicates -> [{\"actionType\":\"update\"}], notMatchedPredicates -> [{\"actionType\":\"insert\"}], notMatchedBySourcePredicates -> []}|NULL|NULL    |NULL     |1          |Serializable  |false        |{numTargetRowsCopied -> 2, numTargetRowsDeleted -> 0, numTargetFilesAdded -> 1, numTargetBytesAdded -> 2321, numTargetBytesRemoved -> 2268, numTargetDeletionVectorsAdded -> 0, numTargetRowsMatchedUpdated -> 1, executionTimeMs -> 3113, numTargetRowsInserted -> 1, numTargetRowsMatchedDeleted -> 0, numTargetDeletionVectorsUpdated -> 0, scanTimeMs -> 1832, numTargetRowsUpdated -> 1, numOutputRows -> 4, numTargetDeletionVectorsRemoved -> 0, numTargetRowsNotMatchedBySourceUpdated -> 0, numTargetChangeFilesAdded -> 0, numSourceRows -> 2, numTargetFilesRemoved -> 1, numTargetRowsNotMatchedBySourceDeleted -> 0, rewriteTimeMs -> 924}|NULL        |Apache-Spark/3.5.1 Delta-Lake/3.2.0|\n",
            "|1      |2025-08-14 07:17:00.942|NULL  |NULL    |UPDATE   |{predicate -> [\"((city#4213 = Bengaluru) AND (distance_km#4214 > 15.0))\"]}                                                                                                             |NULL|NULL    |NULL     |0          |Serializable  |false        |{numRemovedFiles -> 1, numRemovedBytes -> 2268, numCopiedRows -> 2, numDeletionVectorsAdded -> 0, numDeletionVectorsRemoved -> 0, numAddedChangeFiles -> 0, executionTimeMs -> 2214, numDeletionVectorsUpdated -> 0, scanTimeMs -> 1905, numAddedFiles -> 1, numUpdatedRows -> 1, numAddedBytes -> 2268, rewriteTimeMs -> 302}                                                                                                                                                                                                                                                                                                                         |NULL        |Apache-Spark/3.5.1 Delta-Lake/3.2.0|\n",
            "|0      |2025-08-14 06:50:59.177|NULL  |NULL    |WRITE    |{mode -> Overwrite, partitionBy -> []}                                                                                                                                                 |NULL|NULL    |NULL     |NULL       |Serializable  |false        |{numFiles -> 2, numOutputRows -> 6, numOutputBytes -> 4536}                                                                                                                                                                                                                                                                                                                                                                                                                                                                                                                                                                                            |NULL        |Apache-Spark/3.5.1 Delta-Lake/3.2.0|\n",
            "+-------+-----------------------+------+--------+---------+---------------------------------------------------------------------------------------------------------------------------------------------------------------------------------------+----+--------+---------+-----------+--------------+-------------+-------------------------------------------------------------------------------------------------------------------------------------------------------------------------------------------------------------------------------------------------------------------------------------------------------------------------------------------------------------------------------------------------------------------------------------------------------------------------------------------------------------------------------------------------------------------------------------------------------------------------------------------------------+------------+-----------------------------------+\n",
            "\n"
          ]
        }
      ]
    },
    {
      "cell_type": "code",
      "source": [
        "# Read the table as of version 0, and compare counts and a few rows with the latest version.\n",
        "version0 = spark.read.format(\"delta\").option(\"versionAsOf\",0).load(TRIPS_PATH)\n",
        "print(\"Version 0 count:\", version0.count())\n",
        "print(\"Latest count:\", spark.read.format(\"delta\").load(TRIPS_PATH).count())"
      ],
      "metadata": {
        "colab": {
          "base_uri": "https://localhost:8080/"
        },
        "id": "NnMJm3oTeeGv",
        "outputId": "ca6425c0-93ce-4148-f31b-22590c871fa1"
      },
      "execution_count": 28,
      "outputs": [
        {
          "output_type": "stream",
          "name": "stdout",
          "text": [
            "Version 0 count: 6\n",
            "Latest count: 7\n"
          ]
        }
      ]
    },
    {
      "cell_type": "markdown",
      "source": [
        "# 8) Partitioned Rewrite (Performance)\n",
        "    Rewrite the trips table partitioned by city into a new Delta path.\n",
        "    Compare file layout (optional: list files) and run a simple filter city='Bengaluru' to observe read behavior/time."
      ],
      "metadata": {
        "id": "cD2yDjlui5e6"
      }
    },
    {
      "cell_type": "code",
      "source": [
        "# Rewrite the trips table partitioned by city into a new Delta path.\n",
        "PARTITIONED_PATH = f\"{BASE}/trips_partitioned\"\n",
        "spark.read.format(\"delta\").load(TRIPS_PATH) \\\n",
        "    .write.format(\"delta\").mode(\"overwrite\").partitionBy(\"city\").save(PARTITIONED_PATH)"
      ],
      "metadata": {
        "id": "eN6xIYXleh18"
      },
      "execution_count": 29,
      "outputs": []
    },
    {
      "cell_type": "code",
      "source": [
        "# Compare file layout (optional: list files) and run a simple filter city='Bengaluru' to observe read behavior/time.\n",
        "print(\"Filter Bengaluru from partitioned table:\")\n",
        "spark.read.format(\"delta\").load(PARTITIONED_PATH).filter(F.col(\"city\")==\"Bengaluru\").show()\n"
      ],
      "metadata": {
        "colab": {
          "base_uri": "https://localhost:8080/"
        },
        "id": "2e0wnM-hjI02",
        "outputId": "df9b3f28-ee82-4bda-f7d0-64de428fb530"
      },
      "execution_count": 30,
      "outputs": [
        {
          "output_type": "stream",
          "name": "stdout",
          "text": [
            "Filter Bengaluru from partitioned table:\n",
            "+-------+--------+---------+---------+-----------+-----+----+-------------------+\n",
            "|trip_id|rider_id|driver_id|     city|distance_km| fare| tip|                 ts|\n",
            "+-------+--------+---------+---------+-----------+-----+----+-------------------+\n",
            "|   1004|    R001|     D010|Bengaluru|       18.9|500.0|30.0|2025-08-08 08:45:00|\n",
            "|   1001|    R001|     D010|Bengaluru|       12.4|320.0|20.0|2025-08-08 08:05:00|\n",
            "+-------+--------+---------+---------+-----------+-----+----+-------------------+\n",
            "\n"
          ]
        }
      ]
    },
    {
      "cell_type": "markdown",
      "source": [
        "# 9) Incremental Load Simulation\n",
        "    Create a small incremental batch (e.g., trip_ids 1008–1009) with a new city (e.g., Mumbai).\n",
        "    Append to the trips table.\n",
        "    Re-run the city-wise revenue aggregation and note the change."
      ],
      "metadata": {
        "id": "HohVEo_CklhJ"
      }
    },
    {
      "cell_type": "code",
      "source": [
        "# Create a small incremental batch (e.g., trip_ids 1008–1009) with a new city (e.g., Mumbai).\n",
        "incremental = [\n",
        "    (1008,\"R007\",\"D012\",\"Mumbai\", 8.0, 200.0, 15.0, datetime(2025,8,8,10,0,0)),\n",
        "    (1009,\"R008\",\"D013\",\"Mumbai\", 6.5, 180.0, 12.0, datetime(2025,8,8,10,10,0)),\n",
        "]\n",
        "\n",
        "# Append to the trips table.\n",
        "spark.createDataFrame(incremental, schema=trip_schema) \\\n",
        "    .write.format(\"delta\").mode(\"append\").save(TRIPS_PATH)"
      ],
      "metadata": {
        "id": "5NAb1bSmkcSp"
      },
      "execution_count": 31,
      "outputs": []
    },
    {
      "cell_type": "code",
      "source": [
        "# Re-run the city-wise revenue aggregation and note the change.\n",
        "spark.read.format(\"delta\").load(TRIPS_PATH) \\\n",
        "    .groupBy(\"city\").agg(F.sum(F.col(\"fare\")+F.col(\"tip\")).alias(\"total_revenue\")).show()"
      ],
      "metadata": {
        "colab": {
          "base_uri": "https://localhost:8080/"
        },
        "id": "91-klG87lZPe",
        "outputId": "7b9af1eb-529e-4896-d1df-e4507dae60f5"
      },
      "execution_count": 32,
      "outputs": [
        {
          "output_type": "stream",
          "name": "stdout",
          "text": [
            "+---------+-------------+\n",
            "|     city|total_revenue|\n",
            "+---------+-------------+\n",
            "|  Chennai|        275.0|\n",
            "|     Pune|        160.0|\n",
            "|Bengaluru|        870.0|\n",
            "|Hyderabad|        290.0|\n",
            "|   Mumbai|        407.0|\n",
            "+---------+-------------+\n",
            "\n"
          ]
        }
      ]
    },
    {
      "cell_type": "markdown",
      "source": [
        "# 10) Simple Streaming (File Stream → Console)\n",
        "    Start a structured stream that reads Delta from TRIPS_PATH in readStream mode and writes to console (append).\n",
        "    While the stream runs, append another tiny batch (e.g., one more Mumbai trip) and observe the new row displayed.\n",
        "    Tip: Use .trigger(processingTime='5 seconds') to throttle updates."
      ],
      "metadata": {
        "id": "a5LQ_BRhlm8f"
      }
    },
    {
      "cell_type": "code",
      "source": [
        "# Start a structured stream that reads Delta from TRIPS_PATH in readStream mode and writes to console (append).\n",
        "stream_df = spark.readStream.format(\"delta\").load(TRIPS_PATH)\n",
        "query = stream_df.writeStream.format(\"console\").outputMode(\"append\").trigger(processingTime=\"5 seconds\").start()\n",
        "\n",
        "# While the stream runs, append another tiny batch (e.g., one more Mumbai trip) and observe the new row displayed.\n",
        "# Tip: Use .trigger(processingTime='5 seconds') to throttle updates.\n",
        "# Append while stream runs\n",
        "import time\n",
        "time.sleep(5)\n",
        "spark.createDataFrame([(1010,\"R009\",\"D010\",\"Mumbai\", 7.0, 210.0, 10.0, datetime(2025,8,8,10,20,0))], schema=trip_schema) \\\n",
        "    .write.format(\"delta\").mode(\"append\").save(TRIPS_PATH)\n",
        "time.sleep(10)\n",
        "query.stop()"
      ],
      "metadata": {
        "id": "81Uua-ielhvv"
      },
      "execution_count": 33,
      "outputs": []
    },
    {
      "cell_type": "markdown",
      "source": [
        "# 11) Visualization\n",
        "    Convert the gold view results (city revenue) to Pandas and plot a bar chart of city vs total revenue.\n",
        "    Plot a line chart of hourly revenue: group by hour(ts) and sum total_amount ."
      ],
      "metadata": {
        "id": "MdW4AoxpmlI4"
      }
    },
    {
      "cell_type": "code",
      "source": [
        "# Convert the gold view results (city revenue) to Pandas and plot a bar chart of city vs total revenue.\n",
        "import pandas as pd\n",
        "import matplotlib.pyplot as plt\n",
        "\n",
        "city_rev = spark.sql(\"\"\"\n",
        "SELECT city, SUM(total_amount) AS total_revenue FROM gold_view GROUP BY city\n",
        "\"\"\").toPandas()\n",
        "\n",
        "plt.bar(city_rev['city'], city_rev['total_revenue'])\n",
        "plt.rcParams['axes.prop_cycle'] = plt.cycler(color=['olive'])\n",
        "plt.title(\"City vs Total Revenue\")\n",
        "plt.xlabel(\"City\")\n",
        "plt.ylabel(\"Total Revenue\")\n",
        "plt.show()"
      ],
      "metadata": {
        "colab": {
          "base_uri": "https://localhost:8080/",
          "height": 472
        },
        "id": "TTwyZzBBmiea",
        "outputId": "21e0a6c3-b34b-47ef-b2bd-7f7289612b47"
      },
      "execution_count": 56,
      "outputs": [
        {
          "output_type": "display_data",
          "data": {
            "text/plain": [
              "<Figure size 640x480 with 1 Axes>"
            ],
            "image/png": "[encoded data removed]"
          },
          "metadata": {}
        }
      ]
    },
    {
      "cell_type": "code",
      "source": [
        "# Plot a line chart of hourly revenue: group by hour(ts) and sum total_amount .\n",
        "hourly = spark.sql(\"\"\"\n",
        "SELECT hour(ts) AS hr, SUM(total_amount) AS total_rev FROM gold_view GROUP BY hr ORDER BY hr\n",
        "\"\"\").toPandas()\n",
        "\n",
        "plt.plot(hourly['hr'], hourly['total_rev'], marker='o')\n",
        "plt.rcParams['axes.prop_cycle'] = plt.cycler(color=['pink'])\n",
        "plt.title(\"Hourly Revenue\")\n",
        "plt.xlabel(\"Hour\")\n",
        "plt.ylabel(\"Total Revenue\")\n",
        "plt.show()"
      ],
      "metadata": {
        "colab": {
          "base_uri": "https://localhost:8080/",
          "height": 472
        },
        "id": "pwOJ823vm2uI",
        "outputId": "178c24a7-7dfb-4aa9-8bfa-a52c7311ee22"
      },
      "execution_count": 42,
      "outputs": [
        {
          "output_type": "display_data",
          "data": {
            "text/plain": [
              "<Figure size 640x480 with 1 Axes>"
            ],
            "image/png": "[encoded data removed]"
          },
          "metadata": {}
        }
      ]
    },
    {
      "cell_type": "markdown",
      "source": [
        "# 12) Managed vs Unmanaged Cleanup\n",
        "    DROP TABLE the managed and unmanaged tables; verify:\n",
        "    Data for managed is removed with the table (when stored in the warehouse).\n",
        "    Data for unmanaged stays at DRIVERS_PATH after drop."
      ],
      "metadata": {
        "id": "NviP7hKqnimt"
      }
    },
    {
      "cell_type": "code",
      "source": [
        "# Drop if exists\n",
        "spark.sql(\"DROP TABLE IF EXISTS trips_managed_real\")\n",
        "\n",
        "# Create a true managed table (data stored in warehouse path)\n",
        "df_trips.write.format(\"delta\").saveAsTable(\"trips_managed_real\")\n",
        "\n",
        "print(\"\\nManaged table detail BEFORE drop:\")\n",
        "spark.sql(\"DESCRIBE DETAIL trips_managed_real\").show(truncate=False)\n",
        "\n",
        "# Get warehouse location from Spark config\n",
        "warehouse_dir = spark.conf.get(\"spark.sql.warehouse.dir\")\n",
        "managed_path = f\"{warehouse_dir}/trips_managed_real\"\n",
        "\n",
        "# Drop the managed table\n",
        "spark.sql(\"DROP TABLE trips_managed_real\")\n",
        "\n",
        "# Check if the data folder still exists\n",
        "import os\n",
        "print(\"Managed table data exists after drop?\", os.path.exists(managed_path))\n",
        "\n",
        "# Now check unmanaged table behavior\n",
        "spark.sql(\"DROP TABLE IF EXISTS drivers_ext\")\n",
        "print(\"Unmanaged drivers data exists after drop?\", os.path.exists(DRIVERS_PATH))\n"
      ],
      "metadata": {
        "colab": {
          "base_uri": "https://localhost:8080/"
        },
        "id": "mYpaarj5oY3N",
        "outputId": "68d23697-ecdd-41a5-bef8-1a09ee41af32"
      },
      "execution_count": 45,
      "outputs": [
        {
          "output_type": "stream",
          "name": "stdout",
          "text": [
            "\n",
            "Managed table detail BEFORE drop:\n",
            "+------+------------------------------------+----------------------------------------+-----------+------------------------------------------------+----------------------+-----------------------+----------------+-----------------+--------+-----------+----------+----------------+----------------+------------------------+\n",
            "|format|id                                  |name                                    |description|location                                        |createdAt             |lastModified           |partitionColumns|clusteringColumns|numFiles|sizeInBytes|properties|minReaderVersion|minWriterVersion|tableFeatures           |\n",
            "+------+------------------------------------+----------------------------------------+-----------+------------------------------------------------+----------------------+-----------------------+----------------+-----------------+--------+-----------+----------+----------------+----------------+------------------------+\n",
            "|delta |fd2ade0c-3025-448e-a12a-169130004d1f|spark_catalog.default.trips_managed_real|NULL       |file:/content/spark-warehouse/trips_managed_real|2025-08-14 08:10:42.53|2025-08-14 08:10:44.774|[]              |[]               |2       |4845       |{}        |1               |2               |[appendOnly, invariants]|\n",
            "+------+------------------------------------+----------------------------------------+-----------+------------------------------------------------+----------------------+-----------------------+----------------+-----------------+--------+-----------+----------+----------------+----------------+------------------------+\n",
            "\n",
            "Managed table data exists after drop? False\n",
            "Unmanaged drivers data exists after drop? True\n"
          ]
        }
      ]
    },
    {
      "cell_type": "markdown",
      "source": [
        "# 13) Constraint/Quality Check (Optional)\n",
        "    Add a check to reject rows where tip < 0 (enforce during write or simulate with a filter before save).\n",
        "    Demonstrate an attempt to write bad data and show how you prevented it."
      ],
      "metadata": {
        "id": "U6wz8mU1ol68"
      }
    },
    {
      "cell_type": "code",
      "source": [
        "bad_data = [(1011,\"R010\",\"D011\",\"Pune\", 5.0, 100.0, -5.0, datetime(2025,8,8,11,0,0))]\n",
        "df_bad = spark.createDataFrame(bad_data, schema=trip_schema)\n",
        "df_bad_filtered = df_bad.filter(F.col(\"tip\") >= 0)  # rejects bad data\n",
        "df_bad_filtered.show()"
      ],
      "metadata": {
        "colab": {
          "base_uri": "https://localhost:8080/"
        },
        "id": "XWLbfE21oib5",
        "outputId": "812eca4e-dc0e-406c-b11f-fbbc8939cccd"
      },
      "execution_count": 46,
      "outputs": [
        {
          "output_type": "stream",
          "name": "stdout",
          "text": [
            "+-------+--------+---------+----+-----------+----+---+---+\n",
            "|trip_id|rider_id|driver_id|city|distance_km|fare|tip| ts|\n",
            "+-------+--------+---------+----+-----------+----+---+---+\n",
            "+-------+--------+---------+----+-----------+----+---+---+\n",
            "\n"
          ]
        }
      ]
    },
    {
      "cell_type": "markdown",
      "source": [
        "# 14) Convert Parquet → Delta (Optional)\n",
        "    Save a small subset of trips as Parquet in a new folder and CONVERT TO DELTA.\n",
        "    Show it can now accept MERGE and time travel."
      ],
      "metadata": {
        "id": "XKL5wK-mo85Z"
      }
    },
    {
      "cell_type": "code",
      "source": [
        "PARQUET_PATH = f\"{BASE}/parquet_sample\"\n",
        "spark.read.format(\"delta\").load(TRIPS_PATH).limit(3).write.mode(\"overwrite\").parquet(PARQUET_PATH)\n",
        "spark.sql(f\"CONVERT TO DELTA parquet.`{PARQUET_PATH}`\")\n",
        "spark.read.format(\"delta\").load(PARQUET_PATH).show()"
      ],
      "metadata": {
        "colab": {
          "base_uri": "https://localhost:8080/"
        },
        "id": "UCKw9mqoo0Ag",
        "outputId": "788874f0-a0d3-4867-ab00-54921fb9836d"
      },
      "execution_count": 47,
      "outputs": [
        {
          "output_type": "stream",
          "name": "stdout",
          "text": [
            "+-------+--------+---------+---------+-----------+-----+----+-------------------+\n",
            "|trip_id|rider_id|driver_id|     city|distance_km| fare| tip|                 ts|\n",
            "+-------+--------+---------+---------+-----------+-----+----+-------------------+\n",
            "|   1004|    R001|     D010|Bengaluru|       18.9|500.0|30.0|2025-08-08 08:45:00|\n",
            "|   1005|    R004|     D013|  Chennai|       10.0|260.0|15.0|2025-08-08 09:05:00|\n",
            "|   1006|    R005|     D012|     Pune|        2.2| 70.0| 0.0|2025-08-08 09:10:00|\n",
            "+-------+--------+---------+---------+-----------+-----+----+-------------------+\n",
            "\n"
          ]
        }
      ]
    },
    {
      "cell_type": "markdown",
      "source": [
        "# 15) Bonus KPI Dashboard (Notebook Display)\n",
        "    Build a quick section showing:\n",
        "    \n",
        "\n",
        "*   Total revenue\n",
        "*   Trips per city (bar)\n",
        "*   Top drivers by revenue (bar)\n",
        "*   Revenue by hour (line)\n",
        "\n",
        "\n",
        "    (In Databricks, use display() chart UI; in Colab, use matplotlib.)"
      ],
      "metadata": {
        "id": "wpBzLWBXpD1K"
      }
    },
    {
      "cell_type": "code",
      "source": [
        "import matplotlib.pyplot as plt\n",
        "import pandas as pd\n",
        "from pyspark.sql import functions as F\n",
        "\n",
        "# 1) Total Revenue\n",
        "total_revenue = df_gold.groupBy().sum(\"total_amount\").collect()[0][0]\n",
        "print(f\"Total Revenue: {total_revenue:.2f}\")"
      ],
      "metadata": {
        "colab": {
          "base_uri": "https://localhost:8080/"
        },
        "id": "_EC3fDW_p6j3",
        "outputId": "956ca8ad-2354-4007-cdc5-d517ce88e41d"
      },
      "execution_count": 48,
      "outputs": [
        {
          "output_type": "stream",
          "name": "stdout",
          "text": [
            "Total Revenue: 2222.00\n"
          ]
        }
      ]
    },
    {
      "cell_type": "code",
      "source": [
        "# 2) Trips per city(BAR)\n",
        "city_trips = (\n",
        "    df_gold.groupBy(\"city\")\n",
        "           .count()\n",
        "           .orderBy(F.desc(\"count\"))\n",
        "           .toPandas()\n",
        ")\n",
        "plt.figure(figsize=(6,4))\n",
        "plt.bar(city_trips[\"city\"], city_trips[\"count\"], color=\"skyblue\")\n",
        "plt.title(\"Trips per City\")\n",
        "plt.xlabel(\"City\")\n",
        "plt.ylabel(\"Number of Trips\")\n",
        "plt.tight_layout()\n",
        "plt.show()"
      ],
      "metadata": {
        "colab": {
          "base_uri": "https://localhost:8080/",
          "height": 407
        },
        "id": "RsTlZsK2qEHr",
        "outputId": "b65e2a12-bdb4-4e16-9d68-bc5ba4aa3c54"
      },
      "execution_count": 49,
      "outputs": [
        {
          "output_type": "display_data",
          "data": {
            "text/plain": [
              "<Figure size 600x400 with 1 Axes>"
            ],
            "image/png": "[encoded data removed]"
          },
          "metadata": {}
        }
      ]
    },
    {
      "cell_type": "code",
      "source": [
        "# 3) Top drivers by revenue(BAR)\n",
        "driver_revenue = (\n",
        "    df_gold.groupBy(\"driver_name\")\n",
        "           .sum(\"total_amount\")\n",
        "           .withColumnRenamed(\"sum(total_amount)\", \"revenue\")\n",
        "           .orderBy(F.desc(\"revenue\"))\n",
        "           .limit(5)\n",
        "           .toPandas()\n",
        ")\n",
        "plt.figure(figsize=(6,4))\n",
        "plt.bar(driver_revenue[\"driver_name\"], driver_revenue[\"revenue\"], color=\"orange\")\n",
        "plt.title(\"Top Drivers by Revenue\")\n",
        "plt.xlabel(\"Driver\")\n",
        "plt.ylabel(\"Revenue\")\n",
        "plt.tight_layout()\n",
        "plt.show()"
      ],
      "metadata": {
        "colab": {
          "base_uri": "https://localhost:8080/",
          "height": 407
        },
        "id": "Cz2BaGQHqI7n",
        "outputId": "14ac5498-157d-4927-d18f-ea934f27ecda"
      },
      "execution_count": 54,
      "outputs": [
        {
          "output_type": "display_data",
          "data": {
            "text/plain": [
              "<Figure size 600x400 with 1 Axes>"
            ],
            "image/png": "[encoded data removed]"
          },
          "metadata": {}
        }
      ]
    },
    {
      "cell_type": "code",
      "source": [
        "# 4) Revenue by hour(LINE)\n",
        "hourly_revenue = (\n",
        "    df_gold.withColumn(\"hour\", F.hour(\"ts\"))\n",
        "           .groupBy(\"hour\")\n",
        "           .sum(\"total_amount\")\n",
        "           .withColumnRenamed(\"sum(total_amount)\", \"revenue\")\n",
        "           .orderBy(\"hour\")\n",
        "           .toPandas()\n",
        ")\n",
        "plt.figure(figsize=(7,4))\n",
        "plt.plot(hourly_revenue[\"hour\"], hourly_revenue[\"revenue\"], marker=\"o\", linestyle=\"-\")\n",
        "plt.rcParams['axes.prop_cycle'] = plt.cycler(color=['red'])\n",
        "plt.title(\"Revenue by Hour\")\n",
        "plt.xlabel(\"Hour of Day\")\n",
        "plt.ylabel(\"Revenue\")\n",
        "plt.grid(True)\n",
        "plt.tight_layout()\n",
        "plt.show()"
      ],
      "metadata": {
        "colab": {
          "base_uri": "https://localhost:8080/",
          "height": 407
        },
        "id": "2UI-yFOIqNPp",
        "outputId": "d40d655f-5b1e-4c3b-dc3a-949fee8358a1"
      },
      "execution_count": 53,
      "outputs": [
        {
          "output_type": "display_data",
          "data": {
            "text/plain": [
              "<Figure size 700x400 with 1 Axes>"
            ],
            "image/png": "[encoded data removed]"
          },
          "metadata": {}
        }
      ]
    }
  ]
}