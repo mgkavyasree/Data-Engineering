# import required libraries
import pandas as pd
import matplotlib.pyplot as plt

# step 1: create and read CSV
csv_data = """Name,Math,Science,English
Amit,78,85,74
Priya,92,89,96
Kiran,65,70,60
Anita,88,95,90
Ravi,55,60,58
"""

# write CSV file
with open('students.csv', 'w') as f:
    f.write(csv_data)

# read CSV into dataframe
df = pd.read_csv('students.csv')
print("first 3 rows:")
print(df.head(3))

# step 2: calculate average score per student
df['Average'] = df[['Math', 'Science', 'English']].mean(axis=1)

# print student with highest average
top_student = df.loc[df['Average'].idxmax()]
print("\nstudent with highest average:")
print(top_student)

# step 3: filter students
print("\nstudents with science score > 80:")
print(df[df['Science'] > 80])

print("\nstudents with average score < 70:")
print(df[df['Average'] < 70])

# step 4: sort by english score (descending)
sorted_df = df.sort_values(by='English', ascending=False)
print("\ntop 3 students by english score:")
print(sorted_df.head(3))

# step 5: charts
# bar chart: names vs average scores
plt.figure(figsize=(8, 5))
plt.bar(df['Name'], df['Average'], color='skyblue')
plt.title('Average Scores by Student')
plt.xlabel('Student Name')
plt.ylabel('Average Score')
plt.tight_layout()
plt.show()

# line chart: scores in math, science, and english
plt.figure(figsize=(10, 6))
df.set_index('Name')[['Math', 'Science', 'English']].plot(marker='o')
plt.title('Subject-wise Scores by Student')
plt.xlabel('Student Name')
plt.ylabel('Score')
plt.grid(True)
plt.tight_layout()
plt.show()

# step 6: bonus task
subject_totals = df[['Math', 'Science', 'English']].sum()
top_subject = subject_totals.idxmax()
print(f"\nsubject with highest total score: {top_subject}")

# save updated dataframe
df.to_csv('students_summary.csv', index=False)
print("\nupdated dataframe saved as students_summary.csv")
